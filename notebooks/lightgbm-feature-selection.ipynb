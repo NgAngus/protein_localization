{
 "cells": [
  {
   "cell_type": "markdown",
   "metadata": {},
   "source": [
    "The only purpose of this notebook is to find important features using LightGBM."
   ]
  },
  {
   "cell_type": "code",
   "execution_count": 1,
   "metadata": {
    "scrolled": false
   },
   "outputs": [],
   "source": [
    "LOCAL = True\n",
    "data_fpath = '../data/raw/' if LOCAL else '/kaggle/input/protein-localization/'\n",
    "data_eng_fpath = '../data/intermediate/' if LOCAL else '../input/data-engineering/'\n",
    "out_fpath = '../data/intermediate/' if LOCAL else ''"
   ]
  },
  {
   "cell_type": "code",
   "execution_count": 2,
   "metadata": {},
   "outputs": [],
   "source": [
    "%load_ext autoreload\n",
    "%autoreload 2\n",
    "\n",
    "import warnings\n",
    "warnings.filterwarnings('ignore')\n",
    "\n",
    "import data_tools"
   ]
  },
  {
   "cell_type": "code",
   "execution_count": 3,
   "metadata": {},
   "outputs": [],
   "source": [
    "from datetime import datetime\n",
    "import pickle\n",
    "\n",
    "import lightgbm as lgb\n",
    "import pandas as pd\n",
    "import numpy as np\n",
    "\n",
    "SEED = 66"
   ]
  },
  {
   "cell_type": "code",
   "execution_count": 4,
   "metadata": {},
   "outputs": [],
   "source": [
    "from sklearn.metrics import classification_report\n",
    "from sklearn.model_selection import KFold, StratifiedKFold, GridSearchCV,train_test_split\n",
    "from sklearn.metrics import accuracy_score, balanced_accuracy_score, f1_score\n",
    "\n",
    "\n",
    "from imblearn.over_sampling import RandomOverSampler"
   ]
  },
  {
   "cell_type": "code",
   "execution_count": 5,
   "metadata": {},
   "outputs": [],
   "source": [
    "from imblearn.over_sampling import RandomOverSampler"
   ]
  },
  {
   "cell_type": "code",
   "execution_count": 6,
   "metadata": {},
   "outputs": [],
   "source": [
    "# Use the accuracy metric\n",
    "def accuracy(y_true, y_pred):\n",
    "    preds = y_pred.reshape(15, -1)\n",
    "    preds = preds.argmax(axis = 0)\n",
    "    return 'acc.', accuracy_score(y_true, preds), True\n",
    "\n",
    "def balanced_accuracy(y_true, y_pred):\n",
    "    preds = y_pred.reshape(15, -1)\n",
    "    preds = preds.argmax(axis = 0)\n",
    "    return 'bal. acc.', balanced_accuracy_score(y_true, preds), True\n",
    "\n",
    "def f1_weighted(y_true, y_pred):\n",
    "    preds = y_pred.reshape(15, -1)\n",
    "    preds = preds.argmax(axis = 0)\n",
    "    return 'f1', f1_score(y_true, preds, average='weighted'), True\n",
    "\n",
    "def f1_macro(y_true, y_pred):\n",
    "    preds = y_pred.reshape(15, -1)\n",
    "    preds = preds.argmax(axis = 0)\n",
    "    return 'f1', f1_score(y_true, preds, average='macro'), True"
   ]
  },
  {
   "cell_type": "markdown",
   "metadata": {},
   "source": [
    "## Load Training DataFrame"
   ]
  },
  {
   "cell_type": "code",
   "execution_count": 7,
   "metadata": {
    "scrolled": false
   },
   "outputs": [
    {
     "data": {
      "text/plain": [
       "((862, 595), (862,))"
      ]
     },
     "execution_count": 7,
     "metadata": {},
     "output_type": "execute_result"
    }
   ],
   "source": [
    "X = pd.read_pickle(f\"{data_eng_fpath}X.pkl\")\n",
    "y = pd.read_pickle(f\"{data_eng_fpath}y.pkl\")\n",
    "X.shape, y.shape"
   ]
  },
  {
   "cell_type": "code",
   "execution_count": 8,
   "metadata": {
    "scrolled": true
   },
   "outputs": [
    {
     "data": {
      "text/html": [
       "<div>\n",
       "<style scoped>\n",
       "    .dataframe tbody tr th:only-of-type {\n",
       "        vertical-align: middle;\n",
       "    }\n",
       "\n",
       "    .dataframe tbody tr th {\n",
       "        vertical-align: top;\n",
       "    }\n",
       "\n",
       "    .dataframe thead th {\n",
       "        text-align: right;\n",
       "    }\n",
       "</style>\n",
       "<table border=\"1\" class=\"dataframe\">\n",
       "  <thead>\n",
       "    <tr style=\"text-align: right;\">\n",
       "      <th></th>\n",
       "      <th>1</th>\n",
       "      <th>2</th>\n",
       "      <th>3</th>\n",
       "      <th>4</th>\n",
       "      <th>5</th>\n",
       "      <th>6</th>\n",
       "      <th>7</th>\n",
       "      <th>8</th>\n",
       "      <th>9</th>\n",
       "      <th>10</th>\n",
       "      <th>...</th>\n",
       "      <th>ppi_neg_pct_13</th>\n",
       "      <th>second_deg_interaction_sum_pos</th>\n",
       "      <th>nbr_corr_mean_5</th>\n",
       "      <th>interaction_sum</th>\n",
       "      <th>ppi_physical_count</th>\n",
       "      <th>ppi_neg_pct_1</th>\n",
       "      <th>interaction_std</th>\n",
       "      <th>interaction_neg</th>\n",
       "      <th>nbr_corr_sum_9</th>\n",
       "      <th>ppi_pos_pct_8</th>\n",
       "    </tr>\n",
       "  </thead>\n",
       "  <tbody>\n",
       "    <tr>\n",
       "      <th>0</th>\n",
       "      <td>Non-Essential</td>\n",
       "      <td>No</td>\n",
       "      <td>No</td>\n",
       "      <td>No</td>\n",
       "      <td>No</td>\n",
       "      <td>No</td>\n",
       "      <td>No</td>\n",
       "      <td>No</td>\n",
       "      <td>No</td>\n",
       "      <td>No</td>\n",
       "      <td>...</td>\n",
       "      <td>0.0</td>\n",
       "      <td>0.000000</td>\n",
       "      <td>0.0</td>\n",
       "      <td>0.000000</td>\n",
       "      <td>0</td>\n",
       "      <td>0.0</td>\n",
       "      <td>0.000000</td>\n",
       "      <td>0</td>\n",
       "      <td>0.0</td>\n",
       "      <td>0.0</td>\n",
       "    </tr>\n",
       "    <tr>\n",
       "      <th>1</th>\n",
       "      <td>Non-Essential</td>\n",
       "      <td>No</td>\n",
       "      <td>No</td>\n",
       "      <td>No</td>\n",
       "      <td>No</td>\n",
       "      <td>No</td>\n",
       "      <td>No</td>\n",
       "      <td>No</td>\n",
       "      <td>No</td>\n",
       "      <td>No</td>\n",
       "      <td>...</td>\n",
       "      <td>0.0</td>\n",
       "      <td>0.000000</td>\n",
       "      <td>0.0</td>\n",
       "      <td>0.000000</td>\n",
       "      <td>0</td>\n",
       "      <td>0.0</td>\n",
       "      <td>0.000000</td>\n",
       "      <td>0</td>\n",
       "      <td>0.0</td>\n",
       "      <td>0.0</td>\n",
       "    </tr>\n",
       "    <tr>\n",
       "      <th>2</th>\n",
       "      <td>Non-Essential</td>\n",
       "      <td>No</td>\n",
       "      <td>No</td>\n",
       "      <td>No</td>\n",
       "      <td>Yes</td>\n",
       "      <td>No</td>\n",
       "      <td>No</td>\n",
       "      <td>No</td>\n",
       "      <td>No</td>\n",
       "      <td>No</td>\n",
       "      <td>...</td>\n",
       "      <td>0.0</td>\n",
       "      <td>0.000000</td>\n",
       "      <td>0.0</td>\n",
       "      <td>0.000000</td>\n",
       "      <td>0</td>\n",
       "      <td>0.0</td>\n",
       "      <td>0.000000</td>\n",
       "      <td>0</td>\n",
       "      <td>0.0</td>\n",
       "      <td>0.0</td>\n",
       "    </tr>\n",
       "    <tr>\n",
       "      <th>3</th>\n",
       "      <td>Non-Essential</td>\n",
       "      <td>No</td>\n",
       "      <td>No</td>\n",
       "      <td>No</td>\n",
       "      <td>No</td>\n",
       "      <td>No</td>\n",
       "      <td>No</td>\n",
       "      <td>No</td>\n",
       "      <td>No</td>\n",
       "      <td>No</td>\n",
       "      <td>...</td>\n",
       "      <td>0.0</td>\n",
       "      <td>0.646193</td>\n",
       "      <td>0.0</td>\n",
       "      <td>0.582630</td>\n",
       "      <td>2</td>\n",
       "      <td>0.0</td>\n",
       "      <td>0.022118</td>\n",
       "      <td>1</td>\n",
       "      <td>0.0</td>\n",
       "      <td>0.0</td>\n",
       "    </tr>\n",
       "    <tr>\n",
       "      <th>4</th>\n",
       "      <td>Essential</td>\n",
       "      <td>No</td>\n",
       "      <td>No</td>\n",
       "      <td>No</td>\n",
       "      <td>No</td>\n",
       "      <td>No</td>\n",
       "      <td>No</td>\n",
       "      <td>No</td>\n",
       "      <td>No</td>\n",
       "      <td>No</td>\n",
       "      <td>...</td>\n",
       "      <td>0.0</td>\n",
       "      <td>3.708201</td>\n",
       "      <td>0.0</td>\n",
       "      <td>1.252315</td>\n",
       "      <td>5</td>\n",
       "      <td>0.0</td>\n",
       "      <td>0.044944</td>\n",
       "      <td>3</td>\n",
       "      <td>0.0</td>\n",
       "      <td>0.0</td>\n",
       "    </tr>\n",
       "  </tbody>\n",
       "</table>\n",
       "<p>5 rows × 595 columns</p>\n",
       "</div>"
      ],
      "text/plain": [
       "               1   2   3   4    5   6   7   8   9  10  ... ppi_neg_pct_13  \\\n",
       "0  Non-Essential  No  No  No   No  No  No  No  No  No  ...            0.0   \n",
       "1  Non-Essential  No  No  No   No  No  No  No  No  No  ...            0.0   \n",
       "2  Non-Essential  No  No  No  Yes  No  No  No  No  No  ...            0.0   \n",
       "3  Non-Essential  No  No  No   No  No  No  No  No  No  ...            0.0   \n",
       "4      Essential  No  No  No   No  No  No  No  No  No  ...            0.0   \n",
       "\n",
       "  second_deg_interaction_sum_pos nbr_corr_mean_5 interaction_sum  \\\n",
       "0                       0.000000             0.0        0.000000   \n",
       "1                       0.000000             0.0        0.000000   \n",
       "2                       0.000000             0.0        0.000000   \n",
       "3                       0.646193             0.0        0.582630   \n",
       "4                       3.708201             0.0        1.252315   \n",
       "\n",
       "  ppi_physical_count ppi_neg_pct_1 interaction_std interaction_neg  \\\n",
       "0                  0           0.0        0.000000               0   \n",
       "1                  0           0.0        0.000000               0   \n",
       "2                  0           0.0        0.000000               0   \n",
       "3                  2           0.0        0.022118               1   \n",
       "4                  5           0.0        0.044944               3   \n",
       "\n",
       "  nbr_corr_sum_9 ppi_pos_pct_8  \n",
       "0            0.0           0.0  \n",
       "1            0.0           0.0  \n",
       "2            0.0           0.0  \n",
       "3            0.0           0.0  \n",
       "4            0.0           0.0  \n",
       "\n",
       "[5 rows x 595 columns]"
      ]
     },
     "execution_count": 8,
     "metadata": {},
     "output_type": "execute_result"
    }
   ],
   "source": [
    "X.head()"
   ]
  },
  {
   "cell_type": "markdown",
   "metadata": {},
   "source": [
    "## Load Competition Data\n",
    "* Note that data engineering pipeline drops labels, so we'll need thos"
   ]
  },
  {
   "cell_type": "code",
   "execution_count": 9,
   "metadata": {},
   "outputs": [],
   "source": [
    "testdf = pd.read_csv(f\"{data_fpath}test.csv\", header=None)"
   ]
  },
  {
   "cell_type": "code",
   "execution_count": 10,
   "metadata": {},
   "outputs": [
    {
     "data": {
      "text/plain": [
       "(381, 595)"
      ]
     },
     "execution_count": 10,
     "metadata": {},
     "output_type": "execute_result"
    }
   ],
   "source": [
    "X_kaggle = pd.read_pickle(f\"{data_eng_fpath}X_kaggle.pkl\")\n",
    "X_kaggle.shape"
   ]
  },
  {
   "cell_type": "markdown",
   "metadata": {},
   "source": [
    "## Split Data"
   ]
  },
  {
   "cell_type": "code",
   "execution_count": 11,
   "metadata": {},
   "outputs": [],
   "source": [
    "ros = RandomOverSampler(sampling_strategy={i : 3 for i in range(12, 15)}, random_state=SEED)\n",
    "X_resampled, y_resampled = ros.fit_resample(X, y)"
   ]
  },
  {
   "cell_type": "code",
   "execution_count": 12,
   "metadata": {},
   "outputs": [
    {
     "data": {
      "text/plain": [
       "((606, 595), (261, 595))"
      ]
     },
     "execution_count": 12,
     "metadata": {},
     "output_type": "execute_result"
    }
   ],
   "source": [
    "X_train, X_test, y_train, y_test = train_test_split(\n",
    "    X_resampled, y_resampled, test_size=0.3, stratify=y_resampled, random_state=SEED)\n",
    "\n",
    "# X_train, X_val, y_train, y_val = train_test_split(\n",
    "#     X_train, y_train, test_size=0.2, stratify=y_train, random_state=SEED)\n",
    "# X_train.shape, X_val.shape, X_test.shape\n",
    "X_train.shape, X_test.shape"
   ]
  },
  {
   "cell_type": "markdown",
   "metadata": {},
   "source": [
    "### LightGBM"
   ]
  },
  {
   "cell_type": "code",
   "execution_count": 13,
   "metadata": {},
   "outputs": [
    {
     "data": {
      "text/plain": [
       "LGBMClassifier(colsample_bytree=0.8, learning_rate=0.01, max_depth=8,\n",
       "               metric='None', min_child_samples=5, n_estimators=500,\n",
       "               num_leaves=400, objective='multiclass', random_state=66,\n",
       "               reg_alpha=0, reg_lambda=0, subsample=0.9)"
      ]
     },
     "execution_count": 13,
     "metadata": {},
     "output_type": "execute_result"
    }
   ],
   "source": [
    "N_ESTIMATORS = 500  # default is 100\n",
    "hyper_params = {\n",
    "    'boosting_type': 'gbdt',\n",
    "    'random_state' : SEED,\n",
    "    'objective' : 'multiclass',\n",
    "#     'zero_as_missing' : True,\n",
    "    'metric' : 'None',\n",
    "\n",
    "    'reg_alpha': 0,\n",
    "    'reg_lambda' : 0,\n",
    "    'num_leaves': 400,\n",
    "    'max_depth' : 8,\n",
    "    'colsample_bytree' : 0.8,\n",
    "    'subsample' : 0.9,\n",
    "    'min_child_samples': 5,\n",
    "#     'class_weight' : {\n",
    "#         1 : 1.3,\n",
    "#     },\n",
    "\n",
    "    # Training Parameters\n",
    "    'learning_rate' : 0.01,\n",
    "    'n_estimators': N_ESTIMATORS,\n",
    "#     'first_metric_only' : True,\n",
    "}\n",
    "# model = lgb.LGBMClassifier(**hyper_params)\n",
    "model = lgb.LGBMClassifier()\n",
    "model.set_params(**hyper_params)"
   ]
  },
  {
   "cell_type": "code",
   "execution_count": 14,
   "metadata": {},
   "outputs": [
    {
     "name": "stdout",
     "output_type": "stream",
     "text": [
      "Training until validation scores don't improve for 200 rounds\n",
      "[50]\ttrain's acc.: 0.836634\ttrain's f1: 0.795522\tvalidation's acc.: 0.639847\tvalidation's f1: 0.435202\n",
      "[100]\ttrain's acc.: 0.933993\ttrain's f1: 0.954739\tvalidation's acc.: 0.681992\tvalidation's f1: 0.556342\n",
      "[150]\ttrain's acc.: 0.957096\ttrain's f1: 0.969047\tvalidation's acc.: 0.689655\tvalidation's f1: 0.554829\n",
      "[200]\ttrain's acc.: 0.966997\ttrain's f1: 0.973256\tvalidation's acc.: 0.701149\tvalidation's f1: 0.573476\n",
      "[250]\ttrain's acc.: 0.975248\ttrain's f1: 0.978958\tvalidation's acc.: 0.701149\tvalidation's f1: 0.572364\n",
      "[300]\ttrain's acc.: 0.983498\ttrain's f1: 0.98385\tvalidation's acc.: 0.697318\tvalidation's f1: 0.567509\n",
      "[350]\ttrain's acc.: 0.985149\ttrain's f1: 0.985257\tvalidation's acc.: 0.681992\tvalidation's f1: 0.559896\n",
      "[400]\ttrain's acc.: 0.985149\ttrain's f1: 0.985257\tvalidation's acc.: 0.67433\tvalidation's f1: 0.551684\n",
      "Early stopping, best iteration is:\n",
      "[201]\ttrain's acc.: 0.966997\ttrain's f1: 0.973256\tvalidation's acc.: 0.704981\tvalidation's f1: 0.574133\n"
     ]
    },
    {
     "data": {
      "text/plain": [
       "LGBMClassifier(colsample_bytree=0.8, learning_rate=0.01, max_depth=8,\n",
       "               metric='None', min_child_samples=5, n_estimators=500,\n",
       "               num_leaves=400, objective='multiclass', random_state=66,\n",
       "               reg_alpha=0, reg_lambda=0, subsample=0.9)"
      ]
     },
     "execution_count": 14,
     "metadata": {},
     "output_type": "execute_result"
    }
   ],
   "source": [
    "fit_params={\n",
    "    \"early_stopping_rounds\": 200, \n",
    "    \"eval_metric\" : [\n",
    "        accuracy,\n",
    "#         'logloss',\n",
    "        f1_macro,\n",
    "#         balanced_accuracy,\n",
    "    ],\n",
    "    \"eval_set\" : [(X_train, y_train), (X_test, y_test)], # [(X_train, y_train), (X_val, y_val)],\n",
    "    'eval_names': ['train', 'validation'],\n",
    "    'verbose': N_ESTIMATORS // 10,\n",
    "    \n",
    "}\n",
    "model.fit(X_train, y_train, **fit_params)"
   ]
  },
  {
   "cell_type": "code",
   "execution_count": 15,
   "metadata": {},
   "outputs": [
    {
     "name": "stdout",
     "output_type": "stream",
     "text": [
      "              precision    recall  f1-score   support\n",
      "\n",
      "           0       0.82      0.89      0.85       110\n",
      "           1       0.57      0.59      0.58        58\n",
      "           2       0.57      0.62      0.59        21\n",
      "           3       0.61      0.65      0.63        17\n",
      "           4       0.56      0.38      0.45        13\n",
      "           5       0.75      0.46      0.57        13\n",
      "           6       0.89      0.73      0.80        11\n",
      "           7       1.00      0.40      0.57         5\n",
      "           8       0.75      0.60      0.67         5\n",
      "           9       0.50      0.33      0.40         3\n",
      "          10       0.00      0.00      0.00         1\n",
      "          11       0.00      0.00      0.00         1\n",
      "          12       1.00      1.00      1.00         1\n",
      "          13       1.00      1.00      1.00         1\n",
      "          14       0.33      1.00      0.50         1\n",
      "\n",
      "    accuracy                           0.70       261\n",
      "   macro avg       0.62      0.58      0.57       261\n",
      "weighted avg       0.71      0.70      0.70       261\n",
      "\n"
     ]
    }
   ],
   "source": [
    "y_pred = pd.Series(model.predict(X_test))\n",
    "print(classification_report(y_test, y_pred))"
   ]
  },
  {
   "cell_type": "code",
   "execution_count": 16,
   "metadata": {},
   "outputs": [
    {
     "data": {
      "text/plain": [
       "0     120\n",
       "1      60\n",
       "2      23\n",
       "3      18\n",
       "4       9\n",
       "6       9\n",
       "5       8\n",
       "8       4\n",
       "14      3\n",
       "7       2\n",
       "9       2\n",
       "10      1\n",
       "12      1\n",
       "13      1\n",
       "dtype: int64"
      ]
     },
     "execution_count": 16,
     "metadata": {},
     "output_type": "execute_result"
    }
   ],
   "source": [
    "y_pred.value_counts()"
   ]
  },
  {
   "cell_type": "markdown",
   "metadata": {},
   "source": [
    "# Full model fit"
   ]
  },
  {
   "cell_type": "code",
   "execution_count": 17,
   "metadata": {
    "scrolled": false
   },
   "outputs": [
    {
     "name": "stdout",
     "output_type": "stream",
     "text": [
      "Training until validation scores don't improve for 10 rounds\n",
      "[20]\ttrain's f1: 0.0846002\ttrain's bal. acc.: 0.0972222\ttrain's acc.: 0.526682\n",
      "[40]\ttrain's f1: 0.586695\ttrain's bal. acc.: 0.497823\ttrain's acc.: 0.766821\n",
      "[60]\ttrain's f1: 0.762198\ttrain's bal. acc.: 0.708174\ttrain's acc.: 0.852668\n",
      "[80]\ttrain's f1: 0.8515\ttrain's bal. acc.: 0.809494\ttrain's acc.: 0.896752\n",
      "[100]\ttrain's f1: 0.859286\ttrain's bal. acc.: 0.821079\ttrain's acc.: 0.911833\n",
      "[120]\ttrain's f1: 0.909195\ttrain's bal. acc.: 0.896511\ttrain's acc.: 0.921114\n",
      "[140]\ttrain's f1: 0.924063\ttrain's bal. acc.: 0.920023\ttrain's acc.: 0.935035\n",
      "[160]\ttrain's f1: 0.92685\ttrain's bal. acc.: 0.923853\ttrain's acc.: 0.939675\n",
      "[180]\ttrain's f1: 0.935872\ttrain's bal. acc.: 0.937162\ttrain's acc.: 0.954756\n",
      "[200]\ttrain's f1: 0.937161\ttrain's bal. acc.: 0.938204\ttrain's acc.: 0.958237\n",
      "Did not meet early stopping. Best iteration is:\n",
      "[197]\ttrain's f1: 0.937161\ttrain's bal. acc.: 0.938204\ttrain's acc.: 0.958237\n"
     ]
    },
    {
     "data": {
      "text/plain": [
       "LGBMClassifier(colsample_bytree=0.8, learning_rate=0.01, max_depth=8,\n",
       "               metric='None', min_child_samples=5, n_estimators=200,\n",
       "               num_leaves=400, objective='multiclass', random_state=66,\n",
       "               reg_alpha=0, reg_lambda=0, subsample=0.9)"
      ]
     },
     "execution_count": 17,
     "metadata": {},
     "output_type": "execute_result"
    }
   ],
   "source": [
    "hyper_params['n_estimators'] = 250\n",
    "hyper_params['learning_rate'] = 0.01\n",
    "\n",
    "full_model = lgb.LGBMClassifier()\n",
    "full_model.set_params(**hyper_params)\n",
    "full_fit_params={\n",
    "    \"early_stopping_rounds\": 10, \n",
    "    \"eval_metric\" : [\n",
    "        f1_macro,\n",
    "        balanced_accuracy,\n",
    "        accuracy\n",
    "    ],\n",
    "    \"eval_set\" : [(X, y)],\n",
    "    'eval_names': ['train'],\n",
    "    'verbose': hyper_params['n_estimators'] // 10,\n",
    "    \n",
    "}\n",
    "full_model.fit(X, y, **full_fit_params)"
   ]
  },
  {
   "cell_type": "code",
   "execution_count": 18,
   "metadata": {
    "scrolled": true
   },
   "outputs": [
    {
     "data": {
      "image/png": "[encoded data removed]",
      "text/plain": [
       "<Figure size 720x1440 with 1 Axes>"
      ]
     },
     "metadata": {
      "needs_background": "light"
     },
     "output_type": "display_data"
    }
   ],
   "source": [
    "lgb.plot_importance(full_model, figsize=(10, 20), max_num_features=20);"
   ]
  },
  {
   "cell_type": "code",
   "execution_count": 19,
   "metadata": {},
   "outputs": [],
   "source": [
    "important_feats = np.array(full_model.feature_name_)[full_model.feature_importances_ > 0]\n",
    "def RepresentsInt(s):\n",
    "    try: \n",
    "        int(s)\n",
    "        return True\n",
    "    except ValueError:\n",
    "        return False\n",
    "important_feats = [int(feat) if RepresentsInt(feat) else feat for feat in important_feats]"
   ]
  },
  {
   "cell_type": "markdown",
   "metadata": {},
   "source": [
    "## Reduced Feature Set"
   ]
  },
  {
   "cell_type": "code",
   "execution_count": 20,
   "metadata": {
    "scrolled": true
   },
   "outputs": [
    {
     "data": {
      "text/plain": [
       "((862, 169), (381, 169))"
      ]
     },
     "execution_count": 20,
     "metadata": {},
     "output_type": "execute_result"
    }
   ],
   "source": [
    "X_reduced = X[important_feats]\n",
    "X_kaggle_reduced = X_kaggle[important_feats]\n",
    "X_reduced.shape, X_kaggle_reduced.shape"
   ]
  },
  {
   "cell_type": "code",
   "execution_count": 21,
   "metadata": {},
   "outputs": [],
   "source": [
    "with open(f'{out_fpath}important_feats.pkl', 'wb') as f:\n",
    "    pickle.dump(important_feats, f)"
   ]
  },
  {
   "cell_type": "code",
   "execution_count": 22,
   "metadata": {
    "scrolled": true
   },
   "outputs": [
    {
     "data": {
      "text/plain": [
       "169"
      ]
     },
     "execution_count": 22,
     "metadata": {},
     "output_type": "execute_result"
    }
   ],
   "source": [
    "len(important_feats)"
   ]
  },
  {
   "cell_type": "code",
   "execution_count": 23,
   "metadata": {
    "scrolled": false
   },
   "outputs": [
    {
     "name": "stdout",
     "output_type": "stream",
     "text": [
      "[1, 5, 8, 10, 11, 12, 14, 15, 17, 19, 20, 21, 22, 23, 25, 35, 38, 39, 42, 47, 49, 51, 54, 56, 59, 60, 65, 68, 69, 71, 79, 80, 81, 82, 83, 84, 85, 86, 87, 88, 89, 90, 91, 92, 94, 95, 96, 97, 102, 107, 137, 138, 156, 175, 197, 298, 444, 445, 446, 447, 448, 449, 450, 451, 452, 453, 454, 455, 456, 457, 'interaction_max3', 'second_deg_interaction_max_neg', 'nbr_corr_mean_9', 'second_deg_motif_interaction_max_pos', 'nbr_corr_max_4', 'nbr_corr_sum_5', 'ppi_all_pct_7', 'ppi_pos_pct_0', 'nbr_corr_sum_7', 'interaction_mean', 'second_deg_interaction_mean_neg', 'interaction_min', 'ppi_neg_pct_7', 'ppi_all_pct_4', 'interaction_max2', 'second_deg_interaction_mean_pos', 'ppi_all_pct_6', 'second_deg_motif_interaction_mean', 'second_deg_motif_interaction_sum_neg', 'ppi_gen_phys_count', 'second_deg_motif_interaction_mean_neg', 'nbr_corr_min_1', 'ppi_neg_pct_6', 'nbr_corr_sum_0', 'nbr_corr_max_3', 'nbr_corr_mean_2', 'ppi_all_pct_8', 'nbr_corr_mean_1', 'ppi_all_pct_1', 'nbr_corr_mean_0', 'ppi_all_pct_0', 'nbr_corr_sum_3', 'ppi_dom_type', 'nbr_corr_min_3', 'nbr_corr_min_0', 'interaction_skew', 'second_deg_motif_interaction_max', 'ppi_all_pct_5', 'nbr_corr_max_7', 'nbr_corr_min_2', 'nbr_corr_mean_8', 'second_deg_motif_interaction_sum_pos', 'ppi_pos_pct_9', 'ppi_pos_pct_2', 'nbr_corr_min_6', 'ppi_all_pct_9', 'ppi_pos_pct_6', 'interaction_count', 'ppi_neg_pct_4', 'ppi_pos_pct_5', 'second_deg_interaction_sum_neg', 'nbr_corr_max_1', 'interaction_max', 'nbr_corr_max_8', 'ppi_neg_pct_0', 'nbr_corr_min_4', 'motif_interactions', 'nbr_corr_mean_6', 'nbr_corr_max_0', 'nbr_corr_max_9', 'second_deg_motif_interaction_mean_pos', 'ppi_all_pct_3', 'nbr_corr_mean_7', 'ppi_pos_pct_7', 'second_deg_motif_interaction_max_neg', 'nbr_corr_sum_4', 'ppi_genetic_physical_ratio', 'nbr_corr_max_2', 'nbr_corr_max_5', 'ppi_all_pct_2', 'interaction_pos', 'nbr_corr_sum_2', 'nbr_corr_sum_1', 'ppi_genetic_count', 'ppi_neg_pct_3', 'nbr_corr_mean_3', 'nbr_corr_max_6', 'interaction_abs_sum', 'second_deg_motif_interaction_sum', 'ppi_genetic_physical_diff', 'nbr_corr_sum_6', 'second_deg_interaction_max_pos', 'nbr_corr_sum_8', 'ppi_neg_pct_8', 'ppi_pos_pct_3', 'ppi_pos_pct_1', 'ppi_neg_pct_2', 'ppi_neg_pct_5', 'nbr_corr_mean_4', 'ppi_pos_pct_4', 'second_deg_interaction_sum_pos', 'nbr_corr_mean_5', 'interaction_sum', 'ppi_physical_count', 'ppi_neg_pct_1', 'interaction_std', 'interaction_neg', 'nbr_corr_sum_9', 'ppi_pos_pct_8']\n"
     ]
    }
   ],
   "source": [
    "print(important_feats)"
   ]
  }
 ],
 "metadata": {
  "kernelspec": {
   "display_name": "Python 3",
   "language": "python",
   "name": "python3"
  },
  "language_info": {
   "codemirror_mode": {
    "name": "ipython",
    "version": 3
   },
   "file_extension": ".py",
   "mimetype": "text/x-python",
   "name": "python",
   "nbconvert_exporter": "python",
   "pygments_lexer": "ipython3",
   "version": "3.8.3"
  }
 },
 "nbformat": 4,
 "nbformat_minor": 4
}
