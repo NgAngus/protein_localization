{
 "cells": [
  {
   "cell_type": "markdown",
   "metadata": {},
   "source": [
    "The only purpose of this notebook is to find important features using LightGBM."
   ]
  },
  {
   "cell_type": "code",
   "execution_count": 1,
   "metadata": {
    "scrolled": false
   },
   "outputs": [],
   "source": [
    "LOCAL = True\n",
    "data_fpath = '../data/raw/' if LOCAL else '/kaggle/input/protein-localization/'\n",
    "data_eng_fpath = '../data/intermediate/' if LOCAL else '../input/data-engineering/'\n",
    "out_fpath = '../data/intermediate/' if LOCAL else ''"
   ]
  },
  {
   "cell_type": "code",
   "execution_count": 2,
   "metadata": {},
   "outputs": [],
   "source": [
    "%load_ext autoreload\n",
    "%autoreload 2\n",
    "\n",
    "import warnings\n",
    "warnings.filterwarnings('ignore')\n",
    "\n",
    "import data_tools"
   ]
  },
  {
   "cell_type": "code",
   "execution_count": 3,
   "metadata": {},
   "outputs": [],
   "source": [
    "from datetime import datetime\n",
    "import pickle\n",
    "\n",
    "import lightgbm as lgb\n",
    "import pandas as pd\n",
    "import numpy as np\n",
    "\n",
    "SEED = 42"
   ]
  },
  {
   "cell_type": "code",
   "execution_count": 4,
   "metadata": {},
   "outputs": [],
   "source": [
    "from sklearn.metrics import classification_report\n",
    "from sklearn.model_selection import KFold, StratifiedKFold, GridSearchCV,train_test_split\n",
    "from sklearn.metrics import accuracy_score, balanced_accuracy_score, f1_score\n",
    "\n",
    "\n",
    "from imblearn.over_sampling import RandomOverSampler"
   ]
  },
  {
   "cell_type": "code",
   "execution_count": 5,
   "metadata": {},
   "outputs": [],
   "source": [
    "from imblearn.over_sampling import RandomOverSampler"
   ]
  },
  {
   "cell_type": "code",
   "execution_count": 6,
   "metadata": {},
   "outputs": [],
   "source": [
    "# Use the accuracy metric\n",
    "def accuracy(y_true, y_pred):\n",
    "    preds = y_pred.reshape(15, -1)\n",
    "    preds = preds.argmax(axis = 0)\n",
    "    return 'acc.', accuracy_score(y_true, preds), True\n",
    "\n",
    "def balanced_accuracy(y_true, y_pred):\n",
    "    preds = y_pred.reshape(15, -1)\n",
    "    preds = preds.argmax(axis = 0)\n",
    "    return 'bal. acc.', balanced_accuracy_score(y_true, preds), True\n",
    "\n",
    "def f1_weighted(y_true, y_pred):\n",
    "    preds = y_pred.reshape(15, -1)\n",
    "    preds = preds.argmax(axis = 0)\n",
    "    return 'f1', f1_score(y_true, preds, average='weighted'), True\n",
    "\n",
    "def f1_macro(y_true, y_pred):\n",
    "    preds = y_pred.reshape(15, -1)\n",
    "    preds = preds.argmax(axis = 0)\n",
    "    return 'f1', f1_score(y_true, preds, average='macro'), True"
   ]
  },
  {
   "cell_type": "markdown",
   "metadata": {},
   "source": [
    "## Load Training DataFrame"
   ]
  },
  {
   "cell_type": "code",
   "execution_count": 7,
   "metadata": {
    "scrolled": false
   },
   "outputs": [
    {
     "data": {
      "text/plain": [
       "((862, 478), (862,))"
      ]
     },
     "execution_count": 7,
     "metadata": {},
     "output_type": "execute_result"
    }
   ],
   "source": [
    "X = pd.read_pickle(f\"{data_eng_fpath}X.pkl\")\n",
    "y = pd.read_pickle(f\"{data_eng_fpath}y.pkl\")\n",
    "X.shape, y.shape"
   ]
  },
  {
   "cell_type": "code",
   "execution_count": 8,
   "metadata": {
    "scrolled": true
   },
   "outputs": [
    {
     "data": {
      "text/html": [
       "<div>\n",
       "<style scoped>\n",
       "    .dataframe tbody tr th:only-of-type {\n",
       "        vertical-align: middle;\n",
       "    }\n",
       "\n",
       "    .dataframe tbody tr th {\n",
       "        vertical-align: top;\n",
       "    }\n",
       "\n",
       "    .dataframe thead th {\n",
       "        text-align: right;\n",
       "    }\n",
       "</style>\n",
       "<table border=\"1\" class=\"dataframe\">\n",
       "  <thead>\n",
       "    <tr style=\"text-align: right;\">\n",
       "      <th></th>\n",
       "      <th>1</th>\n",
       "      <th>2</th>\n",
       "      <th>3</th>\n",
       "      <th>4</th>\n",
       "      <th>5</th>\n",
       "      <th>6</th>\n",
       "      <th>7</th>\n",
       "      <th>8</th>\n",
       "      <th>9</th>\n",
       "      <th>10</th>\n",
       "      <th>...</th>\n",
       "      <th>interaction_max</th>\n",
       "      <th>interaction_pos</th>\n",
       "      <th>ppi_gen_phys_count</th>\n",
       "      <th>max_corr_ppi</th>\n",
       "      <th>mode_localization</th>\n",
       "      <th>interaction_max2</th>\n",
       "      <th>interaction_count</th>\n",
       "      <th>interaction_min</th>\n",
       "      <th>interaction_mean</th>\n",
       "      <th>interaction_sum</th>\n",
       "    </tr>\n",
       "  </thead>\n",
       "  <tbody>\n",
       "    <tr>\n",
       "      <th>0</th>\n",
       "      <td>Non-Essential</td>\n",
       "      <td>No</td>\n",
       "      <td>No</td>\n",
       "      <td>No</td>\n",
       "      <td>No</td>\n",
       "      <td>No</td>\n",
       "      <td>No</td>\n",
       "      <td>No</td>\n",
       "      <td>No</td>\n",
       "      <td>No</td>\n",
       "      <td>...</td>\n",
       "      <td>0.000000</td>\n",
       "      <td>0</td>\n",
       "      <td>0</td>\n",
       "      <td>460</td>\n",
       "      <td>unknown</td>\n",
       "      <td>0.000000</td>\n",
       "      <td>0</td>\n",
       "      <td>0.000000</td>\n",
       "      <td>0.000000</td>\n",
       "      <td>0.000000</td>\n",
       "    </tr>\n",
       "    <tr>\n",
       "      <th>1</th>\n",
       "      <td>Non-Essential</td>\n",
       "      <td>No</td>\n",
       "      <td>No</td>\n",
       "      <td>No</td>\n",
       "      <td>No</td>\n",
       "      <td>No</td>\n",
       "      <td>No</td>\n",
       "      <td>No</td>\n",
       "      <td>No</td>\n",
       "      <td>No</td>\n",
       "      <td>...</td>\n",
       "      <td>0.000000</td>\n",
       "      <td>0</td>\n",
       "      <td>0</td>\n",
       "      <td>460</td>\n",
       "      <td>unknown</td>\n",
       "      <td>0.000000</td>\n",
       "      <td>0</td>\n",
       "      <td>0.000000</td>\n",
       "      <td>0.000000</td>\n",
       "      <td>0.000000</td>\n",
       "    </tr>\n",
       "    <tr>\n",
       "      <th>2</th>\n",
       "      <td>Non-Essential</td>\n",
       "      <td>No</td>\n",
       "      <td>No</td>\n",
       "      <td>No</td>\n",
       "      <td>Yes</td>\n",
       "      <td>No</td>\n",
       "      <td>No</td>\n",
       "      <td>No</td>\n",
       "      <td>No</td>\n",
       "      <td>No</td>\n",
       "      <td>...</td>\n",
       "      <td>0.000000</td>\n",
       "      <td>0</td>\n",
       "      <td>0</td>\n",
       "      <td>460</td>\n",
       "      <td>unknown</td>\n",
       "      <td>0.000000</td>\n",
       "      <td>0</td>\n",
       "      <td>0.000000</td>\n",
       "      <td>0.000000</td>\n",
       "      <td>0.000000</td>\n",
       "    </tr>\n",
       "    <tr>\n",
       "      <th>3</th>\n",
       "      <td>Non-Essential</td>\n",
       "      <td>No</td>\n",
       "      <td>No</td>\n",
       "      <td>No</td>\n",
       "      <td>No</td>\n",
       "      <td>No</td>\n",
       "      <td>No</td>\n",
       "      <td>No</td>\n",
       "      <td>No</td>\n",
       "      <td>No</td>\n",
       "      <td>...</td>\n",
       "      <td>0.646193</td>\n",
       "      <td>1</td>\n",
       "      <td>0</td>\n",
       "      <td>658</td>\n",
       "      <td>11</td>\n",
       "      <td>0.000000</td>\n",
       "      <td>2</td>\n",
       "      <td>-0.063563</td>\n",
       "      <td>0.000676</td>\n",
       "      <td>0.582630</td>\n",
       "    </tr>\n",
       "    <tr>\n",
       "      <th>4</th>\n",
       "      <td>Essential</td>\n",
       "      <td>No</td>\n",
       "      <td>No</td>\n",
       "      <td>No</td>\n",
       "      <td>No</td>\n",
       "      <td>No</td>\n",
       "      <td>No</td>\n",
       "      <td>No</td>\n",
       "      <td>No</td>\n",
       "      <td>No</td>\n",
       "      <td>...</td>\n",
       "      <td>0.723051</td>\n",
       "      <td>4</td>\n",
       "      <td>0</td>\n",
       "      <td>736</td>\n",
       "      <td>0</td>\n",
       "      <td>0.709248</td>\n",
       "      <td>7</td>\n",
       "      <td>-0.483302</td>\n",
       "      <td>0.001453</td>\n",
       "      <td>1.252315</td>\n",
       "    </tr>\n",
       "  </tbody>\n",
       "</table>\n",
       "<p>5 rows × 478 columns</p>\n",
       "</div>"
      ],
      "text/plain": [
       "               1   2   3   4    5   6   7   8   9  10  ... interaction_max  \\\n",
       "0  Non-Essential  No  No  No   No  No  No  No  No  No  ...        0.000000   \n",
       "1  Non-Essential  No  No  No   No  No  No  No  No  No  ...        0.000000   \n",
       "2  Non-Essential  No  No  No  Yes  No  No  No  No  No  ...        0.000000   \n",
       "3  Non-Essential  No  No  No   No  No  No  No  No  No  ...        0.646193   \n",
       "4      Essential  No  No  No   No  No  No  No  No  No  ...        0.723051   \n",
       "\n",
       "  interaction_pos ppi_gen_phys_count max_corr_ppi mode_localization  \\\n",
       "0               0                  0          460           unknown   \n",
       "1               0                  0          460           unknown   \n",
       "2               0                  0          460           unknown   \n",
       "3               1                  0          658                11   \n",
       "4               4                  0          736                 0   \n",
       "\n",
       "  interaction_max2 interaction_count interaction_min interaction_mean  \\\n",
       "0         0.000000                 0        0.000000         0.000000   \n",
       "1         0.000000                 0        0.000000         0.000000   \n",
       "2         0.000000                 0        0.000000         0.000000   \n",
       "3         0.000000                 2       -0.063563         0.000676   \n",
       "4         0.709248                 7       -0.483302         0.001453   \n",
       "\n",
       "  interaction_sum  \n",
       "0        0.000000  \n",
       "1        0.000000  \n",
       "2        0.000000  \n",
       "3        0.582630  \n",
       "4        1.252315  \n",
       "\n",
       "[5 rows x 478 columns]"
      ]
     },
     "execution_count": 8,
     "metadata": {},
     "output_type": "execute_result"
    }
   ],
   "source": [
    "X.head()"
   ]
  },
  {
   "cell_type": "markdown",
   "metadata": {},
   "source": [
    "## Load Competition Data\n",
    "* Note that data engineering pipeline drops labels, so we'll need thos"
   ]
  },
  {
   "cell_type": "code",
   "execution_count": 9,
   "metadata": {},
   "outputs": [],
   "source": [
    "testdf = pd.read_csv(f\"{data_fpath}test.csv\", header=None)"
   ]
  },
  {
   "cell_type": "code",
   "execution_count": 10,
   "metadata": {},
   "outputs": [
    {
     "data": {
      "text/plain": [
       "(381, 478)"
      ]
     },
     "execution_count": 10,
     "metadata": {},
     "output_type": "execute_result"
    }
   ],
   "source": [
    "X_kaggle = pd.read_pickle(f\"{data_eng_fpath}X_kaggle.pkl\")\n",
    "X_kaggle.shape"
   ]
  },
  {
   "cell_type": "markdown",
   "metadata": {},
   "source": [
    "## Split Data"
   ]
  },
  {
   "cell_type": "code",
   "execution_count": 11,
   "metadata": {},
   "outputs": [],
   "source": [
    "ros = RandomOverSampler(sampling_strategy={i : 3 for i in range(12, 15)}, random_state=SEED)\n",
    "X_resampled, y_resampled = ros.fit_resample(X, y)"
   ]
  },
  {
   "cell_type": "code",
   "execution_count": 12,
   "metadata": {},
   "outputs": [
    {
     "data": {
      "text/plain": [
       "((606, 478), (261, 478))"
      ]
     },
     "execution_count": 12,
     "metadata": {},
     "output_type": "execute_result"
    }
   ],
   "source": [
    "X_train, X_test, y_train, y_test = train_test_split(\n",
    "    X_resampled, y_resampled, test_size=0.3, stratify=y_resampled, random_state=SEED)\n",
    "\n",
    "# X_train, X_val, y_train, y_val = train_test_split(\n",
    "#     X_train, y_train, test_size=0.2, stratify=y_train, random_state=SEED)\n",
    "# X_train.shape, X_val.shape, X_test.shape\n",
    "X_train.shape, X_test.shape"
   ]
  },
  {
   "cell_type": "markdown",
   "metadata": {},
   "source": [
    "### LightGBM"
   ]
  },
  {
   "cell_type": "code",
   "execution_count": 13,
   "metadata": {},
   "outputs": [
    {
     "data": {
      "text/plain": [
       "LGBMClassifier(class_weight={1: 1.3}, colsample_bytree=0.8, learning_rate=0.01,\n",
       "               max_depth=8, metric='None', min_child_samples=5,\n",
       "               n_estimators=200, num_leaves=400, objective='multiclass',\n",
       "               random_state=42, reg_alpha=0, reg_lambda=0, subsample=0.9)"
      ]
     },
     "execution_count": 13,
     "metadata": {},
     "output_type": "execute_result"
    }
   ],
   "source": [
    "N_ESTIMATORS = 200  # default is 100\n",
    "hyper_params = {\n",
    "    'boosting_type': 'gbdt',\n",
    "    'random_state' : SEED,\n",
    "    'objective' : 'multiclass',\n",
    "#     'zero_as_missing' : True,\n",
    "    'metric' : 'None',\n",
    "\n",
    "    'reg_alpha': 0,\n",
    "    'reg_lambda' : 0,\n",
    "    'num_leaves': 400,\n",
    "    'max_depth' : 8,\n",
    "    'colsample_bytree' : 0.8,\n",
    "    'subsample' : 0.9,\n",
    "    'min_child_samples': 5,\n",
    "    'class_weight' : {\n",
    "        1 : 1.3,\n",
    "    },\n",
    "\n",
    "    # Training Parameters\n",
    "    'learning_rate' : 0.01,\n",
    "    'n_estimators': N_ESTIMATORS,\n",
    "#     'first_metric_only' : True,\n",
    "}\n",
    "# model = lgb.LGBMClassifier(**hyper_params)\n",
    "model = lgb.LGBMClassifier()\n",
    "model.set_params(**hyper_params)"
   ]
  },
  {
   "cell_type": "code",
   "execution_count": 14,
   "metadata": {},
   "outputs": [
    {
     "name": "stdout",
     "output_type": "stream",
     "text": [
      "Training until validation scores don't improve for 200 rounds\n",
      "[20]\ttrain's acc.: 0.556106\ttrain's f1: 0.0929118\tvalidation's acc.: 0.521073\tvalidation's f1: 0.081783\n",
      "[40]\ttrain's acc.: 0.768977\ttrain's f1: 0.634716\tvalidation's acc.: 0.582375\tvalidation's f1: 0.179809\n",
      "[60]\ttrain's acc.: 0.876238\ttrain's f1: 0.764973\tvalidation's acc.: 0.62069\tvalidation's f1: 0.265283\n",
      "[80]\ttrain's acc.: 0.912541\ttrain's f1: 0.924888\tvalidation's acc.: 0.662835\tvalidation's f1: 0.420893\n",
      "[100]\ttrain's acc.: 0.919142\ttrain's f1: 0.916792\tvalidation's acc.: 0.681992\tvalidation's f1: 0.443754\n",
      "[120]\ttrain's acc.: 0.927393\ttrain's f1: 0.923166\tvalidation's acc.: 0.689655\tvalidation's f1: 0.44494\n",
      "[140]\ttrain's acc.: 0.937294\ttrain's f1: 0.932111\tvalidation's acc.: 0.678161\tvalidation's f1: 0.43635\n",
      "[160]\ttrain's acc.: 0.943894\ttrain's f1: 0.939921\tvalidation's acc.: 0.685824\tvalidation's f1: 0.440015\n",
      "[180]\ttrain's acc.: 0.948845\ttrain's f1: 0.941589\tvalidation's acc.: 0.685824\tvalidation's f1: 0.437987\n",
      "[200]\ttrain's acc.: 0.948845\ttrain's f1: 0.941186\tvalidation's acc.: 0.681992\tvalidation's f1: 0.456556\n",
      "Did not meet early stopping. Best iteration is:\n",
      "[184]\ttrain's acc.: 0.950495\ttrain's f1: 0.941976\tvalidation's acc.: 0.689655\tvalidation's f1: 0.460454\n"
     ]
    },
    {
     "data": {
      "text/plain": [
       "LGBMClassifier(class_weight={1: 1.3}, colsample_bytree=0.8, learning_rate=0.01,\n",
       "               max_depth=8, metric='None', min_child_samples=5,\n",
       "               n_estimators=200, num_leaves=400, objective='multiclass',\n",
       "               random_state=42, reg_alpha=0, reg_lambda=0, subsample=0.9)"
      ]
     },
     "execution_count": 14,
     "metadata": {},
     "output_type": "execute_result"
    }
   ],
   "source": [
    "fit_params={\n",
    "    \"early_stopping_rounds\": 200, \n",
    "    \"eval_metric\" : [\n",
    "        accuracy,\n",
    "#         'logloss',\n",
    "        f1_macro,\n",
    "#         balanced_accuracy,\n",
    "    ],\n",
    "    \"eval_set\" : [(X_train, y_train), (X_test, y_test)], # [(X_train, y_train), (X_val, y_val)],\n",
    "    'eval_names': ['train', 'validation'],\n",
    "    'verbose': N_ESTIMATORS // 10,\n",
    "    \n",
    "}\n",
    "model.fit(X_train, y_train, **fit_params)"
   ]
  },
  {
   "cell_type": "code",
   "execution_count": 15,
   "metadata": {},
   "outputs": [
    {
     "name": "stdout",
     "output_type": "stream",
     "text": [
      "              precision    recall  f1-score   support\n",
      "\n",
      "           0       0.81      0.91      0.86       110\n",
      "           1       0.53      0.67      0.60        58\n",
      "           2       0.76      0.62      0.68        21\n",
      "           3       0.69      0.65      0.67        17\n",
      "           4       0.20      0.08      0.11        13\n",
      "           5       0.53      0.69      0.60        13\n",
      "           6       1.00      0.18      0.31        11\n",
      "           7       0.33      0.20      0.25         5\n",
      "           8       1.00      0.20      0.33         5\n",
      "           9       1.00      0.33      0.50         3\n",
      "          10       0.00      0.00      0.00         1\n",
      "          11       0.00      0.00      0.00         1\n",
      "          12       0.00      0.00      0.00         1\n",
      "          13       1.00      1.00      1.00         1\n",
      "          14       1.00      1.00      1.00         1\n",
      "\n",
      "    accuracy                           0.69       261\n",
      "   macro avg       0.59      0.44      0.46       261\n",
      "weighted avg       0.69      0.69      0.67       261\n",
      "\n"
     ]
    }
   ],
   "source": [
    "y_pred = pd.Series(model.predict(X_test))\n",
    "print(classification_report(y_test, y_pred))"
   ]
  },
  {
   "cell_type": "code",
   "execution_count": 16,
   "metadata": {},
   "outputs": [
    {
     "data": {
      "text/plain": [
       "0     123\n",
       "1      73\n",
       "2      17\n",
       "5      17\n",
       "3      16\n",
       "4       5\n",
       "7       3\n",
       "6       2\n",
       "8       1\n",
       "9       1\n",
       "10      1\n",
       "13      1\n",
       "14      1\n",
       "dtype: int64"
      ]
     },
     "execution_count": 16,
     "metadata": {},
     "output_type": "execute_result"
    }
   ],
   "source": [
    "y_pred.value_counts()"
   ]
  },
  {
   "cell_type": "markdown",
   "metadata": {},
   "source": [
    "# Full model fit"
   ]
  },
  {
   "cell_type": "code",
   "execution_count": 17,
   "metadata": {
    "scrolled": false
   },
   "outputs": [
    {
     "name": "stdout",
     "output_type": "stream",
     "text": [
      "Training until validation scores don't improve for 10 rounds\n",
      "[20]\ttrain's f1: 0.0900853\ttrain's bal. acc.: 0.103637\ttrain's acc.: 0.547564\n",
      "[40]\ttrain's f1: 0.53807\ttrain's bal. acc.: 0.445137\ttrain's acc.: 0.74942\n",
      "[60]\ttrain's f1: 0.746537\ttrain's bal. acc.: 0.687349\ttrain's acc.: 0.856148\n",
      "[80]\ttrain's f1: 0.846542\ttrain's bal. acc.: 0.803308\ttrain's acc.: 0.893271\n",
      "[100]\ttrain's f1: 0.855992\ttrain's bal. acc.: 0.818763\ttrain's acc.: 0.908353\n",
      "[120]\ttrain's f1: 0.862051\ttrain's bal. acc.: 0.827392\ttrain's acc.: 0.917633\n",
      "[140]\ttrain's f1: 0.866395\ttrain's bal. acc.: 0.833069\ttrain's acc.: 0.929234\n",
      "[160]\ttrain's f1: 0.91303\ttrain's bal. acc.: 0.903694\ttrain's acc.: 0.929234\n",
      "[180]\ttrain's f1: 0.915818\ttrain's bal. acc.: 0.907836\ttrain's acc.: 0.935035\n",
      "[200]\ttrain's f1: 0.927947\ttrain's bal. acc.: 0.927896\ttrain's acc.: 0.941995\n",
      "Did not meet early stopping. Best iteration is:\n",
      "[144]\ttrain's f1: 0.933205\ttrain's bal. acc.: 0.899736\ttrain's acc.: 0.930394\n"
     ]
    },
    {
     "data": {
      "text/plain": [
       "LGBMClassifier(class_weight={1: 1.3}, colsample_bytree=0.8, learning_rate=0.01,\n",
       "               max_depth=8, metric='None', min_child_samples=5,\n",
       "               n_estimators=200, num_leaves=400, objective='multiclass',\n",
       "               random_state=42, reg_alpha=0, reg_lambda=0, subsample=0.9)"
      ]
     },
     "execution_count": 17,
     "metadata": {},
     "output_type": "execute_result"
    }
   ],
   "source": [
    "hyper_params['n_estimators'] = 200\n",
    "hyper_params['learning_rate'] = 0.01\n",
    "\n",
    "full_model = lgb.LGBMClassifier()\n",
    "full_model.set_params(**hyper_params)\n",
    "full_fit_params={\n",
    "    \"early_stopping_rounds\": 10, \n",
    "    \"eval_metric\" : [\n",
    "        f1_macro,\n",
    "        balanced_accuracy,\n",
    "        accuracy\n",
    "    ],\n",
    "    \"eval_set\" : [(X, y)],\n",
    "    'eval_names': ['train'],\n",
    "    'verbose': hyper_params['n_estimators'] // 10,\n",
    "    \n",
    "}\n",
    "full_model.fit(X, y, **full_fit_params)"
   ]
  },
  {
   "cell_type": "code",
   "execution_count": 18,
   "metadata": {
    "scrolled": false
   },
   "outputs": [
    {
     "data": {
      "image/png": "[encoded data removed]",
      "text/plain": [
       "<Figure size 720x1440 with 1 Axes>"
      ]
     },
     "metadata": {
      "needs_background": "light"
     },
     "output_type": "display_data"
    }
   ],
   "source": [
    "lgb.plot_importance(full_model, figsize=(10, 20), max_num_features=20);"
   ]
  },
  {
   "cell_type": "code",
   "execution_count": 19,
   "metadata": {},
   "outputs": [],
   "source": [
    "important_feats = np.array(full_model.feature_name_)[full_model.feature_importances_ > 0]\n",
    "def RepresentsInt(s):\n",
    "    try: \n",
    "        int(s)\n",
    "        return True\n",
    "    except ValueError:\n",
    "        return False\n",
    "important_feats = [int(feat) if RepresentsInt(feat) else feat for feat in important_feats]"
   ]
  },
  {
   "cell_type": "markdown",
   "metadata": {},
   "source": [
    "## Reduced Feature Set"
   ]
  },
  {
   "cell_type": "code",
   "execution_count": 20,
   "metadata": {},
   "outputs": [
    {
     "data": {
      "text/plain": [
       "((862, 88), (381, 88))"
      ]
     },
     "execution_count": 20,
     "metadata": {},
     "output_type": "execute_result"
    }
   ],
   "source": [
    "X_reduced = X[important_feats]\n",
    "X_kaggle_reduced = X_kaggle[important_feats]\n",
    "X_reduced.shape, X_kaggle_reduced.shape"
   ]
  },
  {
   "cell_type": "code",
   "execution_count": 21,
   "metadata": {},
   "outputs": [],
   "source": [
    "with open(f'{out_fpath}important_feats.pkl', 'wb') as f:\n",
    "    pickle.dump(important_feats, f)"
   ]
  },
  {
   "cell_type": "code",
   "execution_count": 22,
   "metadata": {
    "scrolled": false
   },
   "outputs": [
    {
     "name": "stdout",
     "output_type": "stream",
     "text": [
      "[1, 5, 8, 10, 11, 12, 14, 15, 17, 19, 20, 21, 22, 23, 25, 35, 38, 39, 42, 47, 49, 51, 54, 56, 59, 60, 65, 68, 69, 71, 79, 80, 81, 82, 83, 84, 85, 86, 87, 88, 89, 90, 91, 92, 94, 95, 96, 97, 102, 137, 138, 156, 175, 197, 252, 298, 444, 445, 446, 447, 448, 449, 450, 451, 452, 453, 454, 455, 456, 457, 'ppi_genetic_physical_ratio', 'ppi_physical_count', 'ppi_dom_type', 'ppi_genetic_count', 'strongest_localization', 'interaction_neg', 'interaction_skew', 'interaction_std', 'interaction_max3', 'interaction_max', 'interaction_pos', 'ppi_gen_phys_count', 'mode_localization', 'interaction_max2', 'interaction_count', 'interaction_min', 'interaction_mean', 'interaction_sum']\n"
     ]
    }
   ],
   "source": [
    "print(important_feats)"
   ]
  }
 ],
 "metadata": {
  "kernelspec": {
   "display_name": "Python 3",
   "language": "python",
   "name": "python3"
  },
  "language_info": {
   "codemirror_mode": {
    "name": "ipython",
    "version": 3
   },
   "file_extension": ".py",
   "mimetype": "text/x-python",
   "name": "python",
   "nbconvert_exporter": "python",
   "pygments_lexer": "ipython3",
   "version": "3.8.3"
  }
 },
 "nbformat": 4,
 "nbformat_minor": 4
}
