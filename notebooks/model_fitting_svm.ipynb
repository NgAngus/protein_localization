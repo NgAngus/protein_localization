{
 "cells": [
  {
   "cell_type": "code",
   "execution_count": 2,
   "id": "engaged-comedy",
   "metadata": {},
   "outputs": [],
   "source": [
    "%load_ext autoreload\n",
    "%autoreload 2\n",
    "\n",
    "import warnings\n",
    "warnings.filterwarnings('ignore')\n",
    "\n",
    "import data_tools"
   ]
  },
  {
   "cell_type": "code",
   "execution_count": 3,
   "id": "ancient-tokyo",
   "metadata": {},
   "outputs": [],
   "source": [
    "from datetime import datetime\n",
    "import pickle\n",
    "\n",
    "import lightgbm as lgb\n",
    "import pandas as pd\n",
    "import numpy as np\n",
    "\n",
    "SEED = 42"
   ]
  },
  {
   "cell_type": "code",
   "execution_count": 9,
   "id": "coordinate-watch",
   "metadata": {},
   "outputs": [],
   "source": [
    "X = pd.read_pickle(\"../data/intermediate/X.pkl\")\n",
    "Y = pd.read_pickle(\"../data/intermediate/Y.pkl\")"
   ]
  },
  {
   "cell_type": "code",
   "execution_count": 6,
   "id": "handed-thomson",
   "metadata": {},
   "outputs": [],
   "source": [
    "# need to convert all categorical to numbers for sklearn SVM\n",
    "# first convert the nans in our categorical back to \"?\", will use as category\n",
    "X = X.apply(lambda x: x.cat.add_categories(\"?\").fillna(\"?\") if x.dtype.name == 'category' and not \"?\" in x.cat.categories.values else x)"
   ]
  },
  {
   "cell_type": "code",
   "execution_count": 16,
   "id": "tough-culture",
   "metadata": {},
   "outputs": [],
   "source": [
    "X = pd.get_dummies(data=X, columns=X.columns[X.dtypes == 'category'], drop_first=True)"
   ]
  },
  {
   "cell_type": "markdown",
   "id": "protective-behavior",
   "metadata": {},
   "source": [
    "### Feature Selection"
   ]
  },
  {
   "cell_type": "code",
   "execution_count": 17,
   "id": "rental-episode",
   "metadata": {},
   "outputs": [],
   "source": [
    "field_descriptions_fpath = data_tools.field_descriptions_fpath\n",
    "fields = data_tools.parse_field_descriptions(field_descriptions_fpath)"
   ]
  },
  {
   "cell_type": "code",
   "execution_count": 18,
   "id": "acquired-surgeon",
   "metadata": {},
   "outputs": [
    {
     "data": {
      "text/plain": [
       "2960"
      ]
     },
     "execution_count": 18,
     "metadata": {},
     "output_type": "execute_result"
    }
   ],
   "source": [
    "# Use this to select features\n",
    "# currently using all features so ignore this, probably want to do this before we extend the categorical vars above to make it easier\n",
    "selected_features = None"
   ]
  },
  {
   "cell_type": "markdown",
   "id": "expensive-influence",
   "metadata": {},
   "source": [
    "### Validation"
   ]
  },
  {
   "cell_type": "code",
   "execution_count": 19,
   "id": "national-installation",
   "metadata": {},
   "outputs": [],
   "source": [
    "from sklearn.metrics import classification_report\n",
    "from sklearn.model_selection import GridSearchCV\n",
    "from sklearn import svm"
   ]
  },
  {
   "cell_type": "code",
   "execution_count": 25,
   "id": "removed-madrid",
   "metadata": {},
   "outputs": [],
   "source": [
    "hyper_params = {\n",
    "    'C': [0.1, 1, 10],\n",
    "    'tol': [0.001, 0.01, 0.1],\n",
    "    'class_weight': [None, 'balanced'], # balanced option helps with class frequencies, might be worth looking into\n",
    "    'kernel': ['linear', 'rbf'],\n",
    "    'random_state' : [SEED]\n",
    "}\n",
    "svc = svm.SVC()\n",
    "search = GridSearchCV(estimator = svc, param_grid=hyper_params, refit = True, cv = 5)\n",
    "search_results = search.fit(X, Y)"
   ]
  },
  {
   "cell_type": "code",
   "execution_count": 26,
   "id": "equivalent-bouquet",
   "metadata": {},
   "outputs": [
    {
     "data": {
      "text/plain": [
       "{'C': 1,\n",
       " 'class_weight': 'balanced',\n",
       " 'kernel': 'linear',\n",
       " 'random_state': 42,\n",
       " 'tol': 0.001}"
      ]
     },
     "execution_count": 26,
     "metadata": {},
     "output_type": "execute_result"
    }
   ],
   "source": [
    "search_results.best_params_"
   ]
  },
  {
   "cell_type": "code",
   "execution_count": 27,
   "id": "intelligent-tooth",
   "metadata": {},
   "outputs": [
    {
     "data": {
      "text/plain": [
       "0.9872496303266569"
      ]
     },
     "execution_count": 27,
     "metadata": {},
     "output_type": "execute_result"
    }
   ],
   "source": [
    "search_results.best_score_"
   ]
  }
 ],
 "metadata": {
  "kernelspec": {
   "display_name": "Python 3",
   "language": "python",
   "name": "python3"
  },
  "language_info": {
   "codemirror_mode": {
    "name": "ipython",
    "version": 3
   },
   "file_extension": ".py",
   "mimetype": "text/x-python",
   "name": "python",
   "nbconvert_exporter": "python",
   "pygments_lexer": "ipython3",
   "version": "3.7.8"
  }
 },
 "nbformat": 4,
 "nbformat_minor": 5
}
