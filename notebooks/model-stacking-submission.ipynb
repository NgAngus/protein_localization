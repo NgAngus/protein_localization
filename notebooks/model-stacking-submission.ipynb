{
 "cells": [
  {
   "cell_type": "markdown",
   "metadata": {},
   "source": [
    "The only purpose of this notebook is to generate a submission by stacking models."
   ]
  },
  {
   "cell_type": "code",
   "execution_count": 1,
   "metadata": {
    "scrolled": false
   },
   "outputs": [],
   "source": [
    "LOCAL = True\n",
    "REDUCE_FEATURE_SET = True  # Flag to use reduced features set from LightGBM feature importance\n",
    "data_fpath = '../data/raw/' if LOCAL else '/kaggle/input/protein-localization/'\n",
    "data_eng_fpath = '../data/intermediate/' if LOCAL else '../input/data-engineering/'\n",
    "out_fpath = '../data/intermediate/' if LOCAL else ''\n",
    "model_fpath = '../results/models/' if LOCAL else ''\n",
    "selected_feats_fpath = '../data/intermediate/' if LOCAL else '../input/lightgbm-feature-selection/'"
   ]
  },
  {
   "cell_type": "code",
   "execution_count": 2,
   "metadata": {},
   "outputs": [],
   "source": [
    "%load_ext autoreload\n",
    "%autoreload 2\n",
    "\n",
    "import warnings\n",
    "warnings.filterwarnings('ignore')\n",
    "\n",
    "import data_tools"
   ]
  },
  {
   "cell_type": "code",
   "execution_count": 3,
   "metadata": {},
   "outputs": [],
   "source": [
    "from datetime import datetime\n",
    "import pickle\n",
    "\n",
    "import lightgbm as lgb\n",
    "import pandas as pd\n",
    "import numpy as np"
   ]
  },
  {
   "cell_type": "code",
   "execution_count": 4,
   "metadata": {},
   "outputs": [],
   "source": [
    "from sklearn.metrics import classification_report\n",
    "from sklearn.model_selection import KFold, StratifiedKFold, GridSearchCV,train_test_split\n",
    "from sklearn.metrics import accuracy_score, balanced_accuracy_score, f1_score\n",
    "from sklearn.ensemble import RandomForestClassifier, StackingClassifier\n",
    "from sklearn.pipeline import Pipeline, FeatureUnion\n",
    "from sklearn.preprocessing import FunctionTransformer, StandardScaler\n",
    "from sklearn.svm import SVC\n",
    "from sklearn.linear_model import LogisticRegression\n",
    "from sklearn.neighbors import KNeighborsClassifier\n",
    "\n",
    "from imblearn.over_sampling import RandomOverSampler, SMOTENC"
   ]
  },
  {
   "cell_type": "markdown",
   "metadata": {},
   "source": [
    "## Load Training Data"
   ]
  },
  {
   "cell_type": "code",
   "execution_count": 5,
   "metadata": {
    "scrolled": false
   },
   "outputs": [
    {
     "data": {
      "text/plain": [
       "((862, 2112), (862,))"
      ]
     },
     "execution_count": 5,
     "metadata": {},
     "output_type": "execute_result"
    }
   ],
   "source": [
    "X = pd.read_pickle(f\"{data_eng_fpath}X_enc.pkl\")\n",
    "y = pd.read_pickle(f\"{data_eng_fpath}y.pkl\")\n",
    "X.shape, y.shape"
   ]
  },
  {
   "cell_type": "markdown",
   "metadata": {},
   "source": [
    "## Feature Selection"
   ]
  },
  {
   "cell_type": "code",
   "execution_count": 6,
   "metadata": {},
   "outputs": [],
   "source": [
    "if REDUCE_FEATURE_SET:\n",
    "    with open(f'{selected_feats_fpath}important_feats.pkl', 'rb') as handle:\n",
    "        important_feats = pickle.load(handle)\n",
    "    important_feats = X.columns\n",
    "    X = X[important_feats]"
   ]
  },
  {
   "cell_type": "markdown",
   "metadata": {},
   "source": [
    "## Load Competition Data\n",
    "* Note that data engineering pipeline drops labels, so we'll need this"
   ]
  },
  {
   "cell_type": "code",
   "execution_count": 7,
   "metadata": {},
   "outputs": [],
   "source": [
    "testdf = pd.read_csv(f\"{data_fpath}test.csv\", header=None)"
   ]
  },
  {
   "cell_type": "markdown",
   "metadata": {},
   "source": [
    "## Upsample Data\n",
    "* Because some classes literally have one training instance, first I duplicate those values so they can appear in test data (best we can do tbh)"
   ]
  },
  {
   "cell_type": "code",
   "execution_count": 8,
   "metadata": {},
   "outputs": [],
   "source": [
    "ros = RandomOverSampler(sampling_strategy={i : 5 for i in range(12, 15)})\n",
    "X_upsampled, y_upsampled = ros.fit_resample(X, y)"
   ]
  },
  {
   "cell_type": "markdown",
   "metadata": {},
   "source": [
    "## Train-Test Split"
   ]
  },
  {
   "cell_type": "code",
   "execution_count": 9,
   "metadata": {},
   "outputs": [
    {
     "data": {
      "text/plain": [
       "((698, 2112), (175, 2112))"
      ]
     },
     "execution_count": 9,
     "metadata": {},
     "output_type": "execute_result"
    }
   ],
   "source": [
    "X_train, X_test, y_train, y_test = train_test_split(\n",
    "    X_upsampled, y_upsampled, test_size=0.2, stratify=y_upsampled)\n",
    "\n",
    "X_train.shape, X_test.shape"
   ]
  },
  {
   "cell_type": "markdown",
   "metadata": {},
   "source": [
    "## Get Data Type Feature Lists"
   ]
  },
  {
   "cell_type": "code",
   "execution_count": 10,
   "metadata": {},
   "outputs": [],
   "source": [
    "numerics = ['int16', 'int32', 'int64', 'float16', 'float32', 'float64']  # unisnged ints are for one_hot encoding\n",
    "numeric_cols = X.select_dtypes(include=numerics).columns\n",
    "cat_cols = list(set(X.columns) - set(numeric_cols))"
   ]
  },
  {
   "cell_type": "markdown",
   "metadata": {},
   "source": [
    "# Specify Models Parameters"
   ]
  },
  {
   "cell_type": "code",
   "execution_count": 11,
   "metadata": {},
   "outputs": [],
   "source": [
    "svc_params = {\n",
    "    'C': 0.233,\n",
    "    'kernel': 'linear',\n",
    "    'probability': True,\n",
    "}"
   ]
  },
  {
   "cell_type": "code",
   "execution_count": 12,
   "metadata": {},
   "outputs": [],
   "source": [
    "rf_params = {\n",
    "    'max_depth' : 500,\n",
    "    'min_samples_leaf' : 2,\n",
    "    'min_samples_split' : 5,\n",
    "    'max_features' : None,\n",
    "    'n_estimators' : 250,\n",
    "    'oob_score' : True,\n",
    "    'n_jobs' : -1,\n",
    "}"
   ]
  },
  {
   "cell_type": "code",
   "execution_count": 13,
   "metadata": {},
   "outputs": [],
   "source": [
    "lgbm_params1 = {\n",
    "    'boosting_type': 'gbdt',\n",
    "    'objective' : 'multiclass',\n",
    "    'num_leaves': 400,\n",
    "    'max_depth' : 8,\n",
    "    'colsample_bytree' : 0.8,\n",
    "    'subsample' : 0.9,\n",
    "    'min_child_samples': 5,\n",
    "    'learning_rate' : 0.005,\n",
    "    'n_estimators': 300,\n",
    "}"
   ]
  },
  {
   "cell_type": "code",
   "execution_count": 14,
   "metadata": {},
   "outputs": [],
   "source": [
    "lgbm_params2 = {\n",
    "    'boosting_type': 'gbdt',\n",
    "    'objective' : 'multiclass',\n",
    "    'num_leaves': 400,\n",
    "    'max_depth' : 8,\n",
    "    'colsample_bytree' : 0.8,\n",
    "    'subsample' : 0.9,\n",
    "    'min_child_samples': 5,\n",
    "    'learning_rate' : 0.01,\n",
    "    'n_estimators': 150,\n",
    "}"
   ]
  },
  {
   "cell_type": "code",
   "execution_count": 15,
   "metadata": {},
   "outputs": [],
   "source": [
    "logr_params = {\n",
    "    'C' : 1.15,\n",
    "    'penalty' : 'l1',\n",
    "    'solver' : 'liblinear',\n",
    "    'n_jobs' : -1,\n",
    "}"
   ]
  },
  {
   "cell_type": "code",
   "execution_count": 16,
   "metadata": {},
   "outputs": [],
   "source": [
    "knn_params = {\n",
    "    'n_neighbors' : 7,\n",
    "    'weights' : 'distance'\n",
    "}"
   ]
  },
  {
   "cell_type": "markdown",
   "metadata": {},
   "source": [
    "# Stacking Model"
   ]
  },
  {
   "cell_type": "code",
   "execution_count": 17,
   "metadata": {},
   "outputs": [],
   "source": [
    "svc_pipeline = Pipeline(steps= [\n",
    "    ('feature_processing', FeatureUnion(transformer_list = [\n",
    "            ('categorical', FunctionTransformer(lambda data: data.loc[:, cat_cols])),\n",
    "            ('numeric', Pipeline(steps = [\n",
    "                ('select', FunctionTransformer(lambda data: data.loc[:, numeric_cols])),\n",
    "                ('scale', StandardScaler())\n",
    "                        ]))\n",
    "        ])),\n",
    "    ('svc', SVC(**svc_params)),\n",
    "    ]\n",
    ")"
   ]
  },
  {
   "cell_type": "code",
   "execution_count": 18,
   "metadata": {},
   "outputs": [],
   "source": [
    "estimators = [\n",
    "    ('rf1', RandomForestClassifier(**rf_params)),\n",
    "#     ('rf2', RandomForestClassifier(**rf_params)),\n",
    "#     ('lgbm1', lgb.LGBMClassifier(**lgbm_params1)),\n",
    "    ('lgbm2', lgb.LGBMClassifier(**lgbm_params2)),\n",
    "    ('logistic', LogisticRegression(**logr_params)),\n",
    "#     ('knn', KNeighborsClassifier(**knn_params)),\n",
    "    ('svc', svc_pipeline)\n",
    "]"
   ]
  },
  {
   "cell_type": "code",
   "execution_count": 19,
   "metadata": {},
   "outputs": [
    {
     "name": "stdout",
     "output_type": "stream",
     "text": [
      "CPU times: user 2.41 s, sys: 356 ms, total: 2.76 s\n",
      "Wall time: 20.3 s\n"
     ]
    },
    {
     "data": {
      "text/plain": [
       "StackingClassifier(cv=5,\n",
       "                   estimators=[('rf1',\n",
       "                                RandomForestClassifier(max_depth=500,\n",
       "                                                       max_features=None,\n",
       "                                                       min_samples_leaf=2,\n",
       "                                                       min_samples_split=5,\n",
       "                                                       n_estimators=250,\n",
       "                                                       n_jobs=-1,\n",
       "                                                       oob_score=True)),\n",
       "                               ('lgbm2',\n",
       "                                LGBMClassifier(colsample_bytree=0.8,\n",
       "                                               learning_rate=0.01, max_depth=8,\n",
       "                                               min_child_samples=5,\n",
       "                                               n_estimators=150, num_leaves=400,\n",
       "                                               objective='multiclass',\n",
       "                                               subsample=0.9)),\n",
       "                               ('...\n",
       "                                                                                 FunctionTransformer(func=<function <lambda> at 0x7fa61fb7de50>)),\n",
       "                                                                                ('numeric',\n",
       "                                                                                 Pipeline(steps=[('select',\n",
       "                                                                                                  FunctionTransformer(func=<function <lambda> at 0x7fa61fd869d0>)),\n",
       "                                                                                                 ('scale',\n",
       "                                                                                                  StandardScaler())]))])),\n",
       "                                                ('svc',\n",
       "                                                 SVC(C=0.233, kernel='linear',\n",
       "                                                     probability=True))]))],\n",
       "                   final_estimator=LogisticRegression(C=0.5, n_jobs=-1,\n",
       "                                                      penalty='l1',\n",
       "                                                      solver='liblinear'),\n",
       "                   n_jobs=-1, passthrough=True, verbose=1)"
      ]
     },
     "execution_count": 19,
     "metadata": {},
     "output_type": "execute_result"
    }
   ],
   "source": [
    "%%time\n",
    "# This should take a real long time!\n",
    "final_estimator_params = {\n",
    "    'C' : 0.5,\n",
    "    'solver' : 'liblinear',\n",
    "    'penalty' : 'l1',\n",
    "    'n_jobs' : -1,\n",
    "}\n",
    "stacker_params = {\n",
    "    'passthrough' : True,\n",
    "    'verbose' : 1,\n",
    "    'cv' : 5,\n",
    "}\n",
    "model = StackingClassifier(\n",
    "    estimators=estimators,\n",
    "    final_estimator=LogisticRegression(**final_estimator_params),\n",
    "    n_jobs=-1,\n",
    "    **stacker_params\n",
    ")\n",
    "model.fit(X_train, y_train)"
   ]
  },
  {
   "cell_type": "code",
   "execution_count": 20,
   "metadata": {
    "scrolled": false
   },
   "outputs": [
    {
     "name": "stdout",
     "output_type": "stream",
     "text": [
      "              precision    recall  f1-score   support\n",
      "\n",
      "           0       0.81      0.89      0.85        73\n",
      "           1       0.58      0.79      0.67        38\n",
      "           2       0.75      0.64      0.69        14\n",
      "           3       0.71      0.42      0.53        12\n",
      "           4       0.60      0.33      0.43         9\n",
      "           5       0.86      0.67      0.75         9\n",
      "           6       1.00      0.43      0.60         7\n",
      "           7       1.00      0.50      0.67         4\n",
      "           8       1.00      1.00      1.00         3\n",
      "           9       1.00      0.50      0.67         2\n",
      "          10       0.00      0.00      0.00         1\n",
      "          12       1.00      1.00      1.00         1\n",
      "          13       1.00      1.00      1.00         1\n",
      "          14       1.00      1.00      1.00         1\n",
      "\n",
      "    accuracy                           0.74       175\n",
      "   macro avg       0.81      0.65      0.70       175\n",
      "weighted avg       0.76      0.74      0.73       175\n",
      "\n"
     ]
    }
   ],
   "source": [
    "y_pred = pd.Series(model.predict(X_test))\n",
    "print(classification_report(y_test, y_pred))"
   ]
  },
  {
   "cell_type": "markdown",
   "metadata": {},
   "source": [
    "# Full Model Fit"
   ]
  },
  {
   "cell_type": "code",
   "execution_count": 21,
   "metadata": {},
   "outputs": [
    {
     "name": "stdout",
     "output_type": "stream",
     "text": [
      "CPU times: user 2.42 s, sys: 942 ms, total: 3.36 s\n",
      "Wall time: 23.4 s\n"
     ]
    },
    {
     "data": {
      "text/plain": [
       "StackingClassifier(cv=5,\n",
       "                   estimators=[('rf1',\n",
       "                                RandomForestClassifier(max_depth=500,\n",
       "                                                       max_features=None,\n",
       "                                                       min_samples_leaf=2,\n",
       "                                                       min_samples_split=5,\n",
       "                                                       n_estimators=250,\n",
       "                                                       n_jobs=-1,\n",
       "                                                       oob_score=True)),\n",
       "                               ('lgbm2',\n",
       "                                LGBMClassifier(colsample_bytree=0.8,\n",
       "                                               learning_rate=0.01, max_depth=8,\n",
       "                                               min_child_samples=5,\n",
       "                                               n_estimators=150, num_leaves=400,\n",
       "                                               objective='multiclass',\n",
       "                                               subsample=0.9)),\n",
       "                               ('...\n",
       "                                                                                 FunctionTransformer(func=<function <lambda> at 0x7fa61fb7de50>)),\n",
       "                                                                                ('numeric',\n",
       "                                                                                 Pipeline(steps=[('select',\n",
       "                                                                                                  FunctionTransformer(func=<function <lambda> at 0x7fa61fd869d0>)),\n",
       "                                                                                                 ('scale',\n",
       "                                                                                                  StandardScaler())]))])),\n",
       "                                                ('svc',\n",
       "                                                 SVC(C=0.233, kernel='linear',\n",
       "                                                     probability=True))]))],\n",
       "                   final_estimator=LogisticRegression(C=0.5, n_jobs=-1,\n",
       "                                                      penalty='l1',\n",
       "                                                      solver='liblinear'),\n",
       "                   n_jobs=-1, passthrough=True, verbose=1)"
      ]
     },
     "execution_count": 21,
     "metadata": {},
     "output_type": "execute_result"
    }
   ],
   "source": [
    "%%time\n",
    "full_model = StackingClassifier(\n",
    "    estimators=estimators,\n",
    "    final_estimator=LogisticRegression(**final_estimator_params),\n",
    "    n_jobs=-1,\n",
    "    **stacker_params\n",
    ")\n",
    "full_model.fit(X, y)"
   ]
  },
  {
   "cell_type": "markdown",
   "metadata": {},
   "source": [
    "# Competition Data"
   ]
  },
  {
   "cell_type": "markdown",
   "metadata": {},
   "source": [
    "### Create Submission"
   ]
  },
  {
   "cell_type": "code",
   "execution_count": 22,
   "metadata": {},
   "outputs": [],
   "source": [
    "X_kaggle = pd.read_pickle(f\"{data_eng_fpath}X_kaggle_enc.pkl\")\n",
    "if REDUCE_FEATURE_SET:\n",
    "    X_kaggle = X_kaggle[important_feats]"
   ]
  },
  {
   "cell_type": "code",
   "execution_count": 23,
   "metadata": {
    "scrolled": false
   },
   "outputs": [
    {
     "data": {
      "text/html": [
       "<div>\n",
       "<style scoped>\n",
       "    .dataframe tbody tr th:only-of-type {\n",
       "        vertical-align: middle;\n",
       "    }\n",
       "\n",
       "    .dataframe tbody tr th {\n",
       "        vertical-align: top;\n",
       "    }\n",
       "\n",
       "    .dataframe thead th {\n",
       "        text-align: right;\n",
       "    }\n",
       "</style>\n",
       "<table border=\"1\" class=\"dataframe\">\n",
       "  <thead>\n",
       "    <tr style=\"text-align: right;\">\n",
       "      <th></th>\n",
       "      <th>0</th>\n",
       "      <th>1</th>\n",
       "    </tr>\n",
       "  </thead>\n",
       "  <tbody>\n",
       "    <tr>\n",
       "      <th>0</th>\n",
       "      <td>168</td>\n",
       "      <td>0.440945</td>\n",
       "    </tr>\n",
       "    <tr>\n",
       "      <th>1</th>\n",
       "      <td>124</td>\n",
       "      <td>0.325459</td>\n",
       "    </tr>\n",
       "    <tr>\n",
       "      <th>2</th>\n",
       "      <td>23</td>\n",
       "      <td>0.060367</td>\n",
       "    </tr>\n",
       "    <tr>\n",
       "      <th>3</th>\n",
       "      <td>23</td>\n",
       "      <td>0.060367</td>\n",
       "    </tr>\n",
       "    <tr>\n",
       "      <th>4</th>\n",
       "      <td>5</td>\n",
       "      <td>0.013123</td>\n",
       "    </tr>\n",
       "    <tr>\n",
       "      <th>5</th>\n",
       "      <td>15</td>\n",
       "      <td>0.039370</td>\n",
       "    </tr>\n",
       "    <tr>\n",
       "      <th>6</th>\n",
       "      <td>7</td>\n",
       "      <td>0.018373</td>\n",
       "    </tr>\n",
       "    <tr>\n",
       "      <th>7</th>\n",
       "      <td>8</td>\n",
       "      <td>0.020997</td>\n",
       "    </tr>\n",
       "    <tr>\n",
       "      <th>8</th>\n",
       "      <td>8</td>\n",
       "      <td>0.020997</td>\n",
       "    </tr>\n",
       "  </tbody>\n",
       "</table>\n",
       "</div>"
      ],
      "text/plain": [
       "     0         1\n",
       "0  168  0.440945\n",
       "1  124  0.325459\n",
       "2   23  0.060367\n",
       "3   23  0.060367\n",
       "4    5  0.013123\n",
       "5   15  0.039370\n",
       "6    7  0.018373\n",
       "7    8  0.020997\n",
       "8    8  0.020997"
      ]
     },
     "execution_count": 23,
     "metadata": {},
     "output_type": "execute_result"
    }
   ],
   "source": [
    "y_kaggle = pd.Series(full_model.predict(X_kaggle))\n",
    "pd.concat((y_kaggle.value_counts().sort_index(), y_kaggle.value_counts().sort_index() / len(y_kaggle)), axis=1)"
   ]
  },
  {
   "cell_type": "code",
   "execution_count": 24,
   "metadata": {
    "scrolled": false
   },
   "outputs": [
    {
     "data": {
      "text/html": [
       "<div>\n",
       "<style scoped>\n",
       "    .dataframe tbody tr th:only-of-type {\n",
       "        vertical-align: middle;\n",
       "    }\n",
       "\n",
       "    .dataframe tbody tr th {\n",
       "        vertical-align: top;\n",
       "    }\n",
       "\n",
       "    .dataframe thead th {\n",
       "        text-align: right;\n",
       "    }\n",
       "</style>\n",
       "<table border=\"1\" class=\"dataframe\">\n",
       "  <thead>\n",
       "    <tr style=\"text-align: right;\">\n",
       "      <th></th>\n",
       "      <th>2960</th>\n",
       "      <th>2960</th>\n",
       "    </tr>\n",
       "  </thead>\n",
       "  <tbody>\n",
       "    <tr>\n",
       "      <th>0</th>\n",
       "      <td>366</td>\n",
       "      <td>0.424594</td>\n",
       "    </tr>\n",
       "    <tr>\n",
       "      <th>1</th>\n",
       "      <td>192</td>\n",
       "      <td>0.222738</td>\n",
       "    </tr>\n",
       "    <tr>\n",
       "      <th>2</th>\n",
       "      <td>69</td>\n",
       "      <td>0.080046</td>\n",
       "    </tr>\n",
       "    <tr>\n",
       "      <th>3</th>\n",
       "      <td>58</td>\n",
       "      <td>0.067285</td>\n",
       "    </tr>\n",
       "    <tr>\n",
       "      <th>4</th>\n",
       "      <td>43</td>\n",
       "      <td>0.049884</td>\n",
       "    </tr>\n",
       "    <tr>\n",
       "      <th>5</th>\n",
       "      <td>43</td>\n",
       "      <td>0.049884</td>\n",
       "    </tr>\n",
       "    <tr>\n",
       "      <th>6</th>\n",
       "      <td>35</td>\n",
       "      <td>0.040603</td>\n",
       "    </tr>\n",
       "    <tr>\n",
       "      <th>7</th>\n",
       "      <td>18</td>\n",
       "      <td>0.020882</td>\n",
       "    </tr>\n",
       "    <tr>\n",
       "      <th>8</th>\n",
       "      <td>17</td>\n",
       "      <td>0.019722</td>\n",
       "    </tr>\n",
       "    <tr>\n",
       "      <th>9</th>\n",
       "      <td>10</td>\n",
       "      <td>0.011601</td>\n",
       "    </tr>\n",
       "    <tr>\n",
       "      <th>10</th>\n",
       "      <td>4</td>\n",
       "      <td>0.004640</td>\n",
       "    </tr>\n",
       "    <tr>\n",
       "      <th>11</th>\n",
       "      <td>3</td>\n",
       "      <td>0.003480</td>\n",
       "    </tr>\n",
       "    <tr>\n",
       "      <th>12</th>\n",
       "      <td>2</td>\n",
       "      <td>0.002320</td>\n",
       "    </tr>\n",
       "    <tr>\n",
       "      <th>13</th>\n",
       "      <td>1</td>\n",
       "      <td>0.001160</td>\n",
       "    </tr>\n",
       "    <tr>\n",
       "      <th>14</th>\n",
       "      <td>1</td>\n",
       "      <td>0.001160</td>\n",
       "    </tr>\n",
       "  </tbody>\n",
       "</table>\n",
       "</div>"
      ],
      "text/plain": [
       "    2960      2960\n",
       "0    366  0.424594\n",
       "1    192  0.222738\n",
       "2     69  0.080046\n",
       "3     58  0.067285\n",
       "4     43  0.049884\n",
       "5     43  0.049884\n",
       "6     35  0.040603\n",
       "7     18  0.020882\n",
       "8     17  0.019722\n",
       "9     10  0.011601\n",
       "10     4  0.004640\n",
       "11     3  0.003480\n",
       "12     2  0.002320\n",
       "13     1  0.001160\n",
       "14     1  0.001160"
      ]
     },
     "execution_count": 24,
     "metadata": {},
     "output_type": "execute_result"
    }
   ],
   "source": [
    "# Compare with class distribution of training set\n",
    "pd.concat((y.value_counts().sort_index(), y.value_counts().sort_index() / len(y)), axis=1)"
   ]
  },
  {
   "cell_type": "code",
   "execution_count": 25,
   "metadata": {
    "scrolled": true
   },
   "outputs": [
    {
     "data": {
      "text/html": [
       "<div>\n",
       "<style scoped>\n",
       "    .dataframe tbody tr th:only-of-type {\n",
       "        vertical-align: middle;\n",
       "    }\n",
       "\n",
       "    .dataframe tbody tr th {\n",
       "        vertical-align: top;\n",
       "    }\n",
       "\n",
       "    .dataframe thead th {\n",
       "        text-align: right;\n",
       "    }\n",
       "</style>\n",
       "<table border=\"1\" class=\"dataframe\">\n",
       "  <thead>\n",
       "    <tr style=\"text-align: right;\">\n",
       "      <th></th>\n",
       "      <th>Key</th>\n",
       "      <th>Label</th>\n",
       "    </tr>\n",
       "  </thead>\n",
       "  <tbody>\n",
       "    <tr>\n",
       "      <th>0</th>\n",
       "      <td>P234062</td>\n",
       "      <td>2</td>\n",
       "    </tr>\n",
       "    <tr>\n",
       "      <th>1</th>\n",
       "      <td>P234081</td>\n",
       "      <td>1</td>\n",
       "    </tr>\n",
       "    <tr>\n",
       "      <th>2</th>\n",
       "      <td>P234086</td>\n",
       "      <td>2</td>\n",
       "    </tr>\n",
       "    <tr>\n",
       "      <th>3</th>\n",
       "      <td>P234087</td>\n",
       "      <td>0</td>\n",
       "    </tr>\n",
       "    <tr>\n",
       "      <th>4</th>\n",
       "      <td>P234094</td>\n",
       "      <td>0</td>\n",
       "    </tr>\n",
       "  </tbody>\n",
       "</table>\n",
       "</div>"
      ],
      "text/plain": [
       "       Key  Label\n",
       "0  P234062      2\n",
       "1  P234081      1\n",
       "2  P234086      2\n",
       "3  P234087      0\n",
       "4  P234094      0"
      ]
     },
     "execution_count": 25,
     "metadata": {},
     "output_type": "execute_result"
    }
   ],
   "source": [
    "# Now create the kaggle submission file\n",
    "submission = pd.concat((testdf[0], y_kaggle), axis=1)\n",
    "submission.columns = ['Key', 'Label']\n",
    "submission = submission.sort_values('Key').reset_index(drop=True)\n",
    "submission.head()"
   ]
  },
  {
   "cell_type": "code",
   "execution_count": 26,
   "metadata": {},
   "outputs": [],
   "source": [
    "assert set(submission['Key']) == set(testdf[0])"
   ]
  },
  {
   "cell_type": "code",
   "execution_count": 27,
   "metadata": {},
   "outputs": [
    {
     "data": {
      "text/plain": [
       "'stacked_submission-2021_04_03-15.54.csv'"
      ]
     },
     "execution_count": 27,
     "metadata": {},
     "output_type": "execute_result"
    }
   ],
   "source": [
    "timestamp = datetime.today().strftime('%Y_%m_%d-%H.%M')\n",
    "submission_fname = f\"stacked_submission-{timestamp}.csv\"\n",
    "submission.to_csv(submission_fname, index=False, header=True)\n",
    "submission_fname"
   ]
  }
 ],
 "metadata": {
  "kernelspec": {
   "display_name": "Python 3",
   "language": "python",
   "name": "python3"
  },
  "language_info": {
   "codemirror_mode": {
    "name": "ipython",
    "version": 3
   },
   "file_extension": ".py",
   "mimetype": "text/x-python",
   "name": "python",
   "nbconvert_exporter": "python",
   "pygments_lexer": "ipython3",
   "version": "3.8.3"
  }
 },
 "nbformat": 4,
 "nbformat_minor": 4
}
