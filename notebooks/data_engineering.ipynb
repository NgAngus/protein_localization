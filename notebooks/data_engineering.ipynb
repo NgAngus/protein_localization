{
 "cells": [
  {
   "cell_type": "code",
   "execution_count": 1,
   "metadata": {
    "scrolled": false
   },
   "outputs": [],
   "source": [
    "LOCAL = True\n",
    "data_fpath = '../data/raw/' if LOCAL else '/kaggle/input/protein-localization/'\n",
    "out_fpath = '../data/intermediate/' if LOCAL else ''"
   ]
  },
  {
   "cell_type": "code",
   "execution_count": 2,
   "metadata": {},
   "outputs": [],
   "source": [
    "%load_ext autoreload\n",
    "%autoreload 2\n",
    "import data_tools"
   ]
  },
  {
   "cell_type": "code",
   "execution_count": 3,
   "metadata": {},
   "outputs": [],
   "source": [
    "import lightgbm as lgb\n",
    "import pandas as pd\n",
    "import numpy as np\n",
    "import pickle\n",
    "import seaborn as sns"
   ]
  },
  {
   "cell_type": "code",
   "execution_count": 4,
   "metadata": {},
   "outputs": [],
   "source": [
    "from imblearn.over_sampling import RandomOverSampler"
   ]
  },
  {
   "cell_type": "markdown",
   "metadata": {},
   "source": [
    "# Data Types\n",
    "There are a few main “types” of features available, listed here:\n",
    "* ESSENTIAL\n",
    "* CLASS\n",
    "* COMPLEX\n",
    "* PHENOTYPE\n",
    "* MOTIF\n",
    "* Chromosome\n",
    "* NUM INTERACTING WITH FUNCTION (int)\n",
    "* INTERACTING PROTEIN type\n",
    "* INTERACTING PROTEIN corr (float)\n",
    "* Function\n",
    "* Localization\n",
    "\n",
    "Pretty much all are categorical except the last one."
   ]
  },
  {
   "cell_type": "code",
   "execution_count": 5,
   "metadata": {
    "scrolled": false
   },
   "outputs": [
    {
     "data": {
      "text/html": [
       "<div>\n",
       "<style scoped>\n",
       "    .dataframe tbody tr th:only-of-type {\n",
       "        vertical-align: middle;\n",
       "    }\n",
       "\n",
       "    .dataframe tbody tr th {\n",
       "        vertical-align: top;\n",
       "    }\n",
       "\n",
       "    .dataframe thead th {\n",
       "        text-align: right;\n",
       "    }\n",
       "</style>\n",
       "<table border=\"1\" class=\"dataframe\">\n",
       "  <thead>\n",
       "    <tr style=\"text-align: right;\">\n",
       "      <th></th>\n",
       "      <th>0</th>\n",
       "    </tr>\n",
       "  </thead>\n",
       "  <tbody>\n",
       "    <tr>\n",
       "      <th>0</th>\n",
       "      <td>protein</td>\n",
       "    </tr>\n",
       "    <tr>\n",
       "      <th>1</th>\n",
       "      <td>essential</td>\n",
       "    </tr>\n",
       "    <tr>\n",
       "      <th>2</th>\n",
       "      <td>class actin related proteins</td>\n",
       "    </tr>\n",
       "    <tr>\n",
       "      <th>3</th>\n",
       "      <td>class actins</td>\n",
       "    </tr>\n",
       "    <tr>\n",
       "      <th>4</th>\n",
       "      <td>class adaptins</td>\n",
       "    </tr>\n",
       "  </tbody>\n",
       "</table>\n",
       "</div>"
      ],
      "text/plain": [
       "                                   0\n",
       "0                            protein\n",
       "1                          essential\n",
       "2  class actin related proteins     \n",
       "3                class actins       \n",
       "4                     class adaptins"
      ]
     },
     "execution_count": 5,
     "metadata": {},
     "output_type": "execute_result"
    }
   ],
   "source": [
    "field_descriptions_fpath = data_tools.field_descriptions_fpath\n",
    "fields = data_tools.parse_field_descriptions(field_descriptions_fpath)\n",
    "fields[[0]].head()"
   ]
  },
  {
   "cell_type": "code",
   "execution_count": 6,
   "metadata": {},
   "outputs": [],
   "source": [
    "# Datatype Specification\n",
    "def feat_dtype(col_num, ints, floats):\n",
    "    if col_num in ints:\n",
    "        return 'int'\n",
    "    if col_num in floats:\n",
    "        return 'float'\n",
    "    # We assume everything else is categorical\n",
    "    return 'category'\n",
    "\n",
    "float_indices = fields[0].str.contains(\"interacting protein\") & fields[0].str.contains(\"corr\")\n",
    "int_indices = fields[0].str.contains(\"num interacting\")\n",
    "\n",
    "float_feats = set(fields[[0]][float_indices].index) - {0, 2960}\n",
    "int_feats = set(fields[[0]][int_indices].index) - {0, 2960}\n",
    "\n",
    "dtypes = {col_num : feat_dtype(col_num, int_feats, float_feats) for col_num in range(1,2961)}"
   ]
  },
  {
   "cell_type": "code",
   "execution_count": 7,
   "metadata": {},
   "outputs": [],
   "source": [
    "# Save the data type dictionary to pickle\n",
    "with open(f'{out_fpath}data_types_dict.pkl', 'wb') as handle:\n",
    "    pickle.dump(dtypes, handle, protocol=pickle.HIGHEST_PROTOCOL)"
   ]
  },
  {
   "cell_type": "markdown",
   "metadata": {},
   "source": [
    "Saving the data type dictionary so we can load it later when loading the DataFrame."
   ]
  },
  {
   "cell_type": "markdown",
   "metadata": {},
   "source": [
    "## Load Dataframes"
   ]
  },
  {
   "cell_type": "markdown",
   "metadata": {},
   "source": [
    "### Load Training DataFrame"
   ]
  },
  {
   "cell_type": "code",
   "execution_count": 8,
   "metadata": {
    "scrolled": false
   },
   "outputs": [
    {
     "name": "stderr",
     "output_type": "stream",
     "text": [
      "/Users/angus/anaconda3/lib/python3.8/site-packages/IPython/core/interactiveshell.py:3071: DtypeWarning: Columns (444) have mixed types.Specify dtype option on import or set low_memory=False.\n",
      "  has_raised = await self.run_ast_nodes(code_ast.body, cell_name,\n"
     ]
    }
   ],
   "source": [
    "df = pd.read_csv(f\"{data_fpath}train.csv\", header=None)\n",
    "df = df.replace(\"?\", np.nan)  # Replace ? mark with NaN\n",
    "df = df.astype(dtypes)"
   ]
  },
  {
   "cell_type": "code",
   "execution_count": 9,
   "metadata": {},
   "outputs": [],
   "source": [
    "with open(f'{out_fpath}data_types_dict.pkl', 'rb') as handle:\n",
    "    dtypes = pickle.load(handle)"
   ]
  },
  {
   "cell_type": "markdown",
   "metadata": {},
   "source": [
    "## Protein Interactions File"
   ]
  },
  {
   "cell_type": "code",
   "execution_count": 10,
   "metadata": {},
   "outputs": [
    {
     "data": {
      "text/plain": [
       "(910, 4)"
      ]
     },
     "execution_count": 10,
     "metadata": {},
     "output_type": "execute_result"
    }
   ],
   "source": [
    "interaction_colnames = ['protein1', 'protein2', 'type', 'strength']\n",
    "df2 = pd.read_csv(f\"{data_fpath}protein_interactions.csv\", header=None, names=interaction_colnames,\n",
    "    dtype={\n",
    "        'type' : 'category',\n",
    "    }\n",
    ")\n",
    "df2.shape"
   ]
  },
  {
   "cell_type": "code",
   "execution_count": 11,
   "metadata": {
    "scrolled": false
   },
   "outputs": [],
   "source": [
    "# The strength values have a random period at\n",
    "# the end of the values preventing it from being parsed as numeric\n",
    "df2['strength'] = df2['strength'].str.rstrip('.').replace(\"?\", np.nan)\n",
    "df2['strength'] = pd.to_numeric(df2['strength'].str.rstrip('.'))"
   ]
  },
  {
   "cell_type": "code",
   "execution_count": 12,
   "metadata": {
    "scrolled": true
   },
   "outputs": [
    {
     "data": {
      "text/html": [
       "<div>\n",
       "<style scoped>\n",
       "    .dataframe tbody tr th:only-of-type {\n",
       "        vertical-align: middle;\n",
       "    }\n",
       "\n",
       "    .dataframe tbody tr th {\n",
       "        vertical-align: top;\n",
       "    }\n",
       "\n",
       "    .dataframe thead th {\n",
       "        text-align: right;\n",
       "    }\n",
       "</style>\n",
       "<table border=\"1\" class=\"dataframe\">\n",
       "  <thead>\n",
       "    <tr style=\"text-align: right;\">\n",
       "      <th></th>\n",
       "      <th>protein1</th>\n",
       "      <th>protein2</th>\n",
       "      <th>type</th>\n",
       "      <th>strength</th>\n",
       "    </tr>\n",
       "  </thead>\n",
       "  <tbody>\n",
       "    <tr>\n",
       "      <th>0</th>\n",
       "      <td>P238510</td>\n",
       "      <td>P239467</td>\n",
       "      <td>Genetic</td>\n",
       "      <td>0.252653</td>\n",
       "    </tr>\n",
       "    <tr>\n",
       "      <th>1</th>\n",
       "      <td>P235550</td>\n",
       "      <td>P239467</td>\n",
       "      <td>Physical</td>\n",
       "      <td>0.709248</td>\n",
       "    </tr>\n",
       "    <tr>\n",
       "      <th>2</th>\n",
       "      <td>P235621</td>\n",
       "      <td>P239467</td>\n",
       "      <td>Physical</td>\n",
       "      <td>-0.001239</td>\n",
       "    </tr>\n",
       "    <tr>\n",
       "      <th>3</th>\n",
       "      <td>P235265</td>\n",
       "      <td>P239467</td>\n",
       "      <td>Physical</td>\n",
       "      <td>0.482255</td>\n",
       "    </tr>\n",
       "    <tr>\n",
       "      <th>4</th>\n",
       "      <td>P234935</td>\n",
       "      <td>P234445</td>\n",
       "      <td>Physical</td>\n",
       "      <td>-0.460856</td>\n",
       "    </tr>\n",
       "  </tbody>\n",
       "</table>\n",
       "</div>"
      ],
      "text/plain": [
       "  protein1 protein2      type  strength\n",
       "0  P238510  P239467   Genetic  0.252653\n",
       "1  P235550  P239467  Physical  0.709248\n",
       "2  P235621  P239467  Physical -0.001239\n",
       "3  P235265  P239467  Physical  0.482255\n",
       "4  P234935  P234445  Physical -0.460856"
      ]
     },
     "execution_count": 12,
     "metadata": {},
     "output_type": "execute_result"
    }
   ],
   "source": [
    "df2.head()"
   ]
  },
  {
   "cell_type": "markdown",
   "metadata": {},
   "source": [
    "## Protein Interactions Features"
   ]
  },
  {
   "cell_type": "code",
   "execution_count": 13,
   "metadata": {},
   "outputs": [
    {
     "data": {
      "text/plain": [
       "[2486, 1243, 1243]"
      ]
     },
     "execution_count": 13,
     "metadata": {},
     "output_type": "execute_result"
    }
   ],
   "source": [
    "# ppi := protein-protein interactions\n",
    "qry = fields[0].str.contains(\"interacting protein\")\n",
    "ppi_features = set(fields[[0]][qry].index) - {0}\n",
    "qry_corr = fields[0].str.contains(\"corr\")\n",
    "qry_type = fields[0].str.contains(\"type\")\n",
    "\n",
    "ppi_corr_features = set(fields[[0]][qry & qry_corr].index) - {0}\n",
    "ppi_type_features = set(fields[[0]][qry & qry_type].index) - {0}\n",
    "[len(x) for x in (ppi_features, ppi_corr_features, ppi_type_features)]"
   ]
  },
  {
   "cell_type": "code",
   "execution_count": 14,
   "metadata": {},
   "outputs": [],
   "source": [
    "def corr_feat(protein : str):\n",
    "    '''E.g.: interacting protein p235094 corr'''\n",
    "    return f\"interacting protein {protein.lower()} corr\"\n",
    "\n",
    "def type_feat(protein : str):\n",
    "    '''E.g.: interacting protein p235094 corr'''\n",
    "    return f\"interacting protein {protein.lower()} type\""
   ]
  },
  {
   "cell_type": "code",
   "execution_count": 15,
   "metadata": {
    "scrolled": true
   },
   "outputs": [
    {
     "data": {
      "text/plain": [
       "'interacting protein p234430 type'"
      ]
     },
     "execution_count": 15,
     "metadata": {},
     "output_type": "execute_result"
    }
   ],
   "source": [
    "data_tools.feature_name(fields, 465)  # Example interaction feature"
   ]
  },
  {
   "cell_type": "code",
   "execution_count": 16,
   "metadata": {},
   "outputs": [],
   "source": [
    "# Map from feature name to column\n",
    "feat_to_col = data_tools.feat_to_col_map(data_tools.field_descriptions_fpath)"
   ]
  },
  {
   "cell_type": "code",
   "execution_count": 17,
   "metadata": {
    "scrolled": false
   },
   "outputs": [
    {
     "data": {
      "text/plain": [
       "2936"
      ]
     },
     "execution_count": 17,
     "metadata": {},
     "output_type": "execute_result"
    }
   ],
   "source": [
    "feat_to_col[corr_feat('p235094')]"
   ]
  },
  {
   "cell_type": "markdown",
   "metadata": {},
   "source": [
    "Need a way to fill the protein interaction cells with the type."
   ]
  },
  {
   "cell_type": "code",
   "execution_count": null,
   "metadata": {},
   "outputs": [],
   "source": []
  },
  {
   "cell_type": "markdown",
   "metadata": {},
   "source": [
    "This protein is not present in the dataset at all! So how can we use the PPI features? Possible features to engineer:\n",
    "* Sum/min/max/mean/#negof interactions corr\n",
    "* mode of interactions\n",
    "* percent of interactions that are genetic\n",
    "* meta feature: mode of the CLASS of proteins that interact (data leakage)"
   ]
  },
  {
   "cell_type": "code",
   "execution_count": 20,
   "metadata": {},
   "outputs": [],
   "source": [
    "# Derive Features from PPI Correlation\n",
    "df['interaction_sum'] = df.loc[:, ppi_corr_features].sum(axis=1)\n",
    "df['interaction_mean'] = df.loc[:, ppi_corr_features].mean(axis=1)\n",
    "df['interaction_max'] = df.loc[:, ppi_corr_features].max(axis=1)\n",
    "df['interaction_min'] = df.loc[:, ppi_corr_features].min(axis=1)\n",
    "df['interaction_neg'] = df.loc[:, ppi_corr_features].lt(0).sum(axis=1)\n",
    "df['interaction_zero'] = (df.loc[:, ppi_corr_features] == 0).sum(axis=1)\n",
    "df['interaction_pos'] = df.loc[:, ppi_corr_features].gt(0).sum(axis=1)"
   ]
  },
  {
   "cell_type": "code",
   "execution_count": 22,
   "metadata": {},
   "outputs": [
    {
     "data": {
      "text/html": [
       "<div>\n",
       "<style scoped>\n",
       "    .dataframe tbody tr th:only-of-type {\n",
       "        vertical-align: middle;\n",
       "    }\n",
       "\n",
       "    .dataframe tbody tr th {\n",
       "        vertical-align: top;\n",
       "    }\n",
       "\n",
       "    .dataframe thead th {\n",
       "        text-align: right;\n",
       "    }\n",
       "</style>\n",
       "<table border=\"1\" class=\"dataframe\">\n",
       "  <thead>\n",
       "    <tr style=\"text-align: right;\">\n",
       "      <th></th>\n",
       "      <th>0</th>\n",
       "      <th>1</th>\n",
       "      <th>2</th>\n",
       "      <th>3</th>\n",
       "      <th>4</th>\n",
       "      <th>5</th>\n",
       "      <th>6</th>\n",
       "      <th>7</th>\n",
       "      <th>8</th>\n",
       "      <th>9</th>\n",
       "      <th>...</th>\n",
       "      <th>2958</th>\n",
       "      <th>2959</th>\n",
       "      <th>2960</th>\n",
       "      <th>interaction_sum</th>\n",
       "      <th>interaction_mean</th>\n",
       "      <th>interaction_max</th>\n",
       "      <th>interaction_min</th>\n",
       "      <th>interaction_neg</th>\n",
       "      <th>interaction_zero</th>\n",
       "      <th>interaction_pos</th>\n",
       "    </tr>\n",
       "  </thead>\n",
       "  <tbody>\n",
       "    <tr>\n",
       "      <th>0</th>\n",
       "      <td>P239476</td>\n",
       "      <td>Non-Essential</td>\n",
       "      <td>No</td>\n",
       "      <td>No</td>\n",
       "      <td>No</td>\n",
       "      <td>No</td>\n",
       "      <td>No</td>\n",
       "      <td>No</td>\n",
       "      <td>No</td>\n",
       "      <td>No</td>\n",
       "      <td>...</td>\n",
       "      <td>No</td>\n",
       "      <td>nucleus</td>\n",
       "      <td>0</td>\n",
       "      <td>0.000000</td>\n",
       "      <td>0.000000</td>\n",
       "      <td>0.000000</td>\n",
       "      <td>0.000000</td>\n",
       "      <td>0</td>\n",
       "      <td>862</td>\n",
       "      <td>0</td>\n",
       "    </tr>\n",
       "    <tr>\n",
       "      <th>1</th>\n",
       "      <td>P234427</td>\n",
       "      <td>Non-Essential</td>\n",
       "      <td>No</td>\n",
       "      <td>No</td>\n",
       "      <td>No</td>\n",
       "      <td>No</td>\n",
       "      <td>No</td>\n",
       "      <td>No</td>\n",
       "      <td>No</td>\n",
       "      <td>No</td>\n",
       "      <td>...</td>\n",
       "      <td>No</td>\n",
       "      <td>nucleus</td>\n",
       "      <td>0</td>\n",
       "      <td>0.000000</td>\n",
       "      <td>0.000000</td>\n",
       "      <td>0.000000</td>\n",
       "      <td>0.000000</td>\n",
       "      <td>0</td>\n",
       "      <td>862</td>\n",
       "      <td>0</td>\n",
       "    </tr>\n",
       "    <tr>\n",
       "      <th>2</th>\n",
       "      <td>P234429</td>\n",
       "      <td>Non-Essential</td>\n",
       "      <td>No</td>\n",
       "      <td>No</td>\n",
       "      <td>No</td>\n",
       "      <td>Yes</td>\n",
       "      <td>No</td>\n",
       "      <td>No</td>\n",
       "      <td>No</td>\n",
       "      <td>No</td>\n",
       "      <td>...</td>\n",
       "      <td>No</td>\n",
       "      <td>nucleus</td>\n",
       "      <td>0</td>\n",
       "      <td>0.000000</td>\n",
       "      <td>0.000000</td>\n",
       "      <td>0.000000</td>\n",
       "      <td>0.000000</td>\n",
       "      <td>0</td>\n",
       "      <td>862</td>\n",
       "      <td>0</td>\n",
       "    </tr>\n",
       "    <tr>\n",
       "      <th>3</th>\n",
       "      <td>P234430</td>\n",
       "      <td>Non-Essential</td>\n",
       "      <td>No</td>\n",
       "      <td>No</td>\n",
       "      <td>No</td>\n",
       "      <td>No</td>\n",
       "      <td>No</td>\n",
       "      <td>No</td>\n",
       "      <td>No</td>\n",
       "      <td>No</td>\n",
       "      <td>...</td>\n",
       "      <td>No</td>\n",
       "      <td>nucleus</td>\n",
       "      <td>0</td>\n",
       "      <td>0.582630</td>\n",
       "      <td>0.000676</td>\n",
       "      <td>0.646193</td>\n",
       "      <td>-0.063563</td>\n",
       "      <td>1</td>\n",
       "      <td>860</td>\n",
       "      <td>1</td>\n",
       "    </tr>\n",
       "    <tr>\n",
       "      <th>4</th>\n",
       "      <td>P239467</td>\n",
       "      <td>Essential</td>\n",
       "      <td>No</td>\n",
       "      <td>No</td>\n",
       "      <td>No</td>\n",
       "      <td>No</td>\n",
       "      <td>No</td>\n",
       "      <td>No</td>\n",
       "      <td>No</td>\n",
       "      <td>No</td>\n",
       "      <td>...</td>\n",
       "      <td>No</td>\n",
       "      <td>nucleus</td>\n",
       "      <td>0</td>\n",
       "      <td>1.252315</td>\n",
       "      <td>0.001453</td>\n",
       "      <td>0.723051</td>\n",
       "      <td>-0.483302</td>\n",
       "      <td>3</td>\n",
       "      <td>855</td>\n",
       "      <td>4</td>\n",
       "    </tr>\n",
       "  </tbody>\n",
       "</table>\n",
       "<p>5 rows × 2968 columns</p>\n",
       "</div>"
      ],
      "text/plain": [
       "         0              1   2   3   4    5   6   7   8   9  ... 2958     2959  \\\n",
       "0  P239476  Non-Essential  No  No  No   No  No  No  No  No  ...   No  nucleus   \n",
       "1  P234427  Non-Essential  No  No  No   No  No  No  No  No  ...   No  nucleus   \n",
       "2  P234429  Non-Essential  No  No  No  Yes  No  No  No  No  ...   No  nucleus   \n",
       "3  P234430  Non-Essential  No  No  No   No  No  No  No  No  ...   No  nucleus   \n",
       "4  P239467      Essential  No  No  No   No  No  No  No  No  ...   No  nucleus   \n",
       "\n",
       "  2960 interaction_sum interaction_mean interaction_max interaction_min  \\\n",
       "0    0        0.000000         0.000000        0.000000        0.000000   \n",
       "1    0        0.000000         0.000000        0.000000        0.000000   \n",
       "2    0        0.000000         0.000000        0.000000        0.000000   \n",
       "3    0        0.582630         0.000676        0.646193       -0.063563   \n",
       "4    0        1.252315         0.001453        0.723051       -0.483302   \n",
       "\n",
       "  interaction_neg interaction_zero interaction_pos  \n",
       "0               0              862               0  \n",
       "1               0              862               0  \n",
       "2               0              862               0  \n",
       "3               1              860               1  \n",
       "4               3              855               4  \n",
       "\n",
       "[5 rows x 2968 columns]"
      ]
     },
     "execution_count": 22,
     "metadata": {},
     "output_type": "execute_result"
    }
   ],
   "source": [
    "df.head()"
   ]
  },
  {
   "cell_type": "markdown",
   "metadata": {},
   "source": [
    "### Pipeline Altogether"
   ]
  },
  {
   "cell_type": "code",
   "execution_count": 23,
   "metadata": {},
   "outputs": [],
   "source": [
    "def data_pipeline(df, fields, dtypes, target_col=None, seed=None):\n",
    "    '''Takes a DataFrame and returns features to pass into model.'''\n",
    "    # Handle Missing Values\n",
    "    # TODO: Try using zeros\n",
    "    # LightGBM should handle NasNs though\n",
    "    df = df.replace(\"?\", np.nan)  # Replace ? mark with NaN\n",
    "    \n",
    "    # Convert to correct data types\n",
    "    if target_col is None:\n",
    "        dtypes.pop(2960)  # labels aren't in test data\n",
    "    df = df.astype(dtypes)\n",
    "    \n",
    "    # Identify columns corresponding to PPI features\n",
    "    # PPI := protein-protein interactions\n",
    "    qry = fields[0].str.contains(\"interacting protein\")\n",
    "    ppi_features = set(fields[[0]][qry].index) - {0}\n",
    "    qry_corr = fields[0].str.contains(\"corr\")\n",
    "    qry_type = fields[0].str.contains(\"type\")\n",
    "\n",
    "    ppi_corr_features = set(fields[[0]][qry & qry_corr].index) - {0}\n",
    "    ppi_type_features = set(fields[[0]][qry & qry_type].index) - {0}\n",
    "    \n",
    "    # Derive Features from PPI Correlation\n",
    "    df['interaction_sum'] = df.loc[:, ppi_corr_features].sum(axis=1)\n",
    "    df['interaction_mean'] = df.loc[:, ppi_corr_features].mean(axis=1)\n",
    "    df['interaction_max'] = df.loc[:, ppi_corr_features].max(axis=1)\n",
    "    df['interaction_min'] = df.loc[:, ppi_corr_features].min(axis=1)\n",
    "    df['interaction_neg'] = df.loc[:, ppi_corr_features].lt(0).sum(axis=1)\n",
    "    df['interaction_zero'] = (df.loc[:, ppi_corr_features] == 0).sum(axis=1)\n",
    "    df['interaction_pos'] = df.loc[:, ppi_corr_features].gt(0).sum(axis=1)\n",
    "    \n",
    "    # Derive Features from PPI Type\n",
    "    \n",
    "    # Use only selected features\n",
    "    X = df[set(df.columns) - {target_col, 0} - ppi_features]\n",
    "    if target_col is not None:\n",
    "        y = df[target_col]\n",
    "    \n",
    "x     # Return Datasets\n",
    "    if target_col is not None:\n",
    "        return X, y\n",
    "    return X"
   ]
  },
  {
   "cell_type": "markdown",
   "metadata": {},
   "source": [
    "### Apply Pipeline to Training Data"
   ]
  },
  {
   "cell_type": "code",
   "execution_count": 24,
   "metadata": {
    "scrolled": true
   },
   "outputs": [
    {
     "name": "stderr",
     "output_type": "stream",
     "text": [
      "/Users/angus/anaconda3/lib/python3.8/site-packages/IPython/core/interactiveshell.py:3071: DtypeWarning: Columns (444) have mixed types.Specify dtype option on import or set low_memory=False.\n",
      "  has_raised = await self.run_ast_nodes(code_ast.body, cell_name,\n"
     ]
    }
   ],
   "source": [
    "df = pd.read_csv(f\"{data_fpath}train.csv\", header=None)"
   ]
  },
  {
   "cell_type": "code",
   "execution_count": 25,
   "metadata": {},
   "outputs": [],
   "source": [
    "with open(f'{out_fpath}data_types_dict.pkl', 'rb') as handle:\n",
    "    dtypes = pickle.load(handle)"
   ]
  },
  {
   "cell_type": "code",
   "execution_count": 26,
   "metadata": {},
   "outputs": [],
   "source": [
    "X, y = data_pipeline(df, fields, dtypes, target_col=2960, seed=42)"
   ]
  },
  {
   "cell_type": "code",
   "execution_count": 27,
   "metadata": {},
   "outputs": [
    {
     "data": {
      "text/html": [
       "<div>\n",
       "<style scoped>\n",
       "    .dataframe tbody tr th:only-of-type {\n",
       "        vertical-align: middle;\n",
       "    }\n",
       "\n",
       "    .dataframe tbody tr th {\n",
       "        vertical-align: top;\n",
       "    }\n",
       "\n",
       "    .dataframe thead th {\n",
       "        text-align: right;\n",
       "    }\n",
       "</style>\n",
       "<table border=\"1\" class=\"dataframe\">\n",
       "  <thead>\n",
       "    <tr style=\"text-align: right;\">\n",
       "      <th></th>\n",
       "      <th>1</th>\n",
       "      <th>2</th>\n",
       "      <th>3</th>\n",
       "      <th>4</th>\n",
       "      <th>5</th>\n",
       "      <th>6</th>\n",
       "      <th>7</th>\n",
       "      <th>8</th>\n",
       "      <th>9</th>\n",
       "      <th>10</th>\n",
       "      <th>...</th>\n",
       "      <th>2953</th>\n",
       "      <th>2954</th>\n",
       "      <th>2955</th>\n",
       "      <th>2956</th>\n",
       "      <th>2957</th>\n",
       "      <th>2958</th>\n",
       "      <th>2959</th>\n",
       "      <th>interaction_mean</th>\n",
       "      <th>interaction_pos</th>\n",
       "      <th>interaction_sum</th>\n",
       "    </tr>\n",
       "  </thead>\n",
       "  <tbody>\n",
       "    <tr>\n",
       "      <th>0</th>\n",
       "      <td>Non-Essential</td>\n",
       "      <td>No</td>\n",
       "      <td>No</td>\n",
       "      <td>No</td>\n",
       "      <td>No</td>\n",
       "      <td>No</td>\n",
       "      <td>No</td>\n",
       "      <td>No</td>\n",
       "      <td>No</td>\n",
       "      <td>No</td>\n",
       "      <td>...</td>\n",
       "      <td>Yes</td>\n",
       "      <td>No</td>\n",
       "      <td>No</td>\n",
       "      <td>Yes</td>\n",
       "      <td>No</td>\n",
       "      <td>No</td>\n",
       "      <td>nucleus</td>\n",
       "      <td>0.000000</td>\n",
       "      <td>0</td>\n",
       "      <td>0.000000</td>\n",
       "    </tr>\n",
       "    <tr>\n",
       "      <th>1</th>\n",
       "      <td>Non-Essential</td>\n",
       "      <td>No</td>\n",
       "      <td>No</td>\n",
       "      <td>No</td>\n",
       "      <td>No</td>\n",
       "      <td>No</td>\n",
       "      <td>No</td>\n",
       "      <td>No</td>\n",
       "      <td>No</td>\n",
       "      <td>No</td>\n",
       "      <td>...</td>\n",
       "      <td>No</td>\n",
       "      <td>No</td>\n",
       "      <td>No</td>\n",
       "      <td>Yes</td>\n",
       "      <td>No</td>\n",
       "      <td>No</td>\n",
       "      <td>nucleus</td>\n",
       "      <td>0.000000</td>\n",
       "      <td>0</td>\n",
       "      <td>0.000000</td>\n",
       "    </tr>\n",
       "    <tr>\n",
       "      <th>2</th>\n",
       "      <td>Non-Essential</td>\n",
       "      <td>No</td>\n",
       "      <td>No</td>\n",
       "      <td>No</td>\n",
       "      <td>Yes</td>\n",
       "      <td>No</td>\n",
       "      <td>No</td>\n",
       "      <td>No</td>\n",
       "      <td>No</td>\n",
       "      <td>No</td>\n",
       "      <td>...</td>\n",
       "      <td>No</td>\n",
       "      <td>No</td>\n",
       "      <td>No</td>\n",
       "      <td>No</td>\n",
       "      <td>No</td>\n",
       "      <td>No</td>\n",
       "      <td>nucleus</td>\n",
       "      <td>0.000000</td>\n",
       "      <td>0</td>\n",
       "      <td>0.000000</td>\n",
       "    </tr>\n",
       "    <tr>\n",
       "      <th>3</th>\n",
       "      <td>Non-Essential</td>\n",
       "      <td>No</td>\n",
       "      <td>No</td>\n",
       "      <td>No</td>\n",
       "      <td>No</td>\n",
       "      <td>No</td>\n",
       "      <td>No</td>\n",
       "      <td>No</td>\n",
       "      <td>No</td>\n",
       "      <td>No</td>\n",
       "      <td>...</td>\n",
       "      <td>No</td>\n",
       "      <td>No</td>\n",
       "      <td>No</td>\n",
       "      <td>Yes</td>\n",
       "      <td>No</td>\n",
       "      <td>No</td>\n",
       "      <td>nucleus</td>\n",
       "      <td>0.000676</td>\n",
       "      <td>1</td>\n",
       "      <td>0.582630</td>\n",
       "    </tr>\n",
       "    <tr>\n",
       "      <th>4</th>\n",
       "      <td>Essential</td>\n",
       "      <td>No</td>\n",
       "      <td>No</td>\n",
       "      <td>No</td>\n",
       "      <td>No</td>\n",
       "      <td>No</td>\n",
       "      <td>No</td>\n",
       "      <td>No</td>\n",
       "      <td>No</td>\n",
       "      <td>No</td>\n",
       "      <td>...</td>\n",
       "      <td>No</td>\n",
       "      <td>No</td>\n",
       "      <td>No</td>\n",
       "      <td>Yes</td>\n",
       "      <td>No</td>\n",
       "      <td>No</td>\n",
       "      <td>nucleus</td>\n",
       "      <td>0.001453</td>\n",
       "      <td>4</td>\n",
       "      <td>1.252315</td>\n",
       "    </tr>\n",
       "  </tbody>\n",
       "</table>\n",
       "<p>5 rows × 480 columns</p>\n",
       "</div>"
      ],
      "text/plain": [
       "               1   2   3   4    5   6   7   8   9  10  ... 2953 2954 2955  \\\n",
       "0  Non-Essential  No  No  No   No  No  No  No  No  No  ...  Yes   No   No   \n",
       "1  Non-Essential  No  No  No   No  No  No  No  No  No  ...   No   No   No   \n",
       "2  Non-Essential  No  No  No  Yes  No  No  No  No  No  ...   No   No   No   \n",
       "3  Non-Essential  No  No  No   No  No  No  No  No  No  ...   No   No   No   \n",
       "4      Essential  No  No  No   No  No  No  No  No  No  ...   No   No   No   \n",
       "\n",
       "  2956 2957 2958     2959 interaction_mean interaction_pos interaction_sum  \n",
       "0  Yes   No   No  nucleus         0.000000               0        0.000000  \n",
       "1  Yes   No   No  nucleus         0.000000               0        0.000000  \n",
       "2   No   No   No  nucleus         0.000000               0        0.000000  \n",
       "3  Yes   No   No  nucleus         0.000676               1        0.582630  \n",
       "4  Yes   No   No  nucleus         0.001453               4        1.252315  \n",
       "\n",
       "[5 rows x 480 columns]"
      ]
     },
     "execution_count": 27,
     "metadata": {},
     "output_type": "execute_result"
    }
   ],
   "source": [
    "X.head()"
   ]
  },
  {
   "cell_type": "markdown",
   "metadata": {},
   "source": [
    "### Apply Pipeline to Test Data"
   ]
  },
  {
   "cell_type": "code",
   "execution_count": 28,
   "metadata": {
    "scrolled": false
   },
   "outputs": [
    {
     "name": "stderr",
     "output_type": "stream",
     "text": [
      "/Users/angus/anaconda3/lib/python3.8/site-packages/IPython/core/interactiveshell.py:3071: DtypeWarning: Columns (524,720,768,1112,1182,1288,1302,1352,1354,1378,1434,1436,1488,1502,1504,1604,1608,1734,1838,1908,1914,1942,1996,2246,2270,2328,2460,2514,2576,2620,2724,2758,2930) have mixed types.Specify dtype option on import or set low_memory=False.\n",
      "  has_raised = await self.run_ast_nodes(code_ast.body, cell_name,\n"
     ]
    }
   ],
   "source": [
    "testdf = pd.read_csv(f\"{data_fpath}test.csv\", header=None)"
   ]
  },
  {
   "cell_type": "code",
   "execution_count": 29,
   "metadata": {},
   "outputs": [],
   "source": [
    "with open(f'{out_fpath}data_types_dict.pkl', 'rb') as handle:\n",
    "    dtypes = pickle.load(handle)"
   ]
  },
  {
   "cell_type": "code",
   "execution_count": 30,
   "metadata": {},
   "outputs": [],
   "source": [
    "X_kaggle = data_pipeline(testdf, fields, dtypes, target_col=None, seed=42)"
   ]
  },
  {
   "cell_type": "code",
   "execution_count": 31,
   "metadata": {},
   "outputs": [
    {
     "name": "stdout",
     "output_type": "stream",
     "text": [
      "<class 'pandas.core.frame.DataFrame'>\n",
      "RangeIndex: 381 entries, 0 to 380\n",
      "Columns: 480 entries, 1 to interaction_sum\n",
      "dtypes: category(459), float64(4), int64(17)\n",
      "memory usage: 287.3 KB\n"
     ]
    }
   ],
   "source": [
    "X_kaggle.info()"
   ]
  },
  {
   "cell_type": "markdown",
   "metadata": {},
   "source": [
    "# Saving output"
   ]
  },
  {
   "cell_type": "code",
   "execution_count": 32,
   "metadata": {},
   "outputs": [],
   "source": [
    "X.to_pickle(f\"{out_fpath}X.pkl\")\n",
    "y.to_pickle(f\"{out_fpath}y.pkl\")"
   ]
  },
  {
   "cell_type": "code",
   "execution_count": 33,
   "metadata": {},
   "outputs": [],
   "source": [
    "X_kaggle.to_pickle(f\"{out_fpath}X_kaggle.pkl\")"
   ]
  },
  {
   "cell_type": "code",
   "execution_count": 34,
   "metadata": {},
   "outputs": [
    {
     "data": {
      "text/html": [
       "<div>\n",
       "<style scoped>\n",
       "    .dataframe tbody tr th:only-of-type {\n",
       "        vertical-align: middle;\n",
       "    }\n",
       "\n",
       "    .dataframe tbody tr th {\n",
       "        vertical-align: top;\n",
       "    }\n",
       "\n",
       "    .dataframe thead th {\n",
       "        text-align: right;\n",
       "    }\n",
       "</style>\n",
       "<table border=\"1\" class=\"dataframe\">\n",
       "  <thead>\n",
       "    <tr style=\"text-align: right;\">\n",
       "      <th></th>\n",
       "      <th>0</th>\n",
       "      <th>1</th>\n",
       "      <th>2</th>\n",
       "      <th>3</th>\n",
       "      <th>4</th>\n",
       "      <th>5</th>\n",
       "      <th>6</th>\n",
       "      <th>7</th>\n",
       "      <th>8</th>\n",
       "      <th>9</th>\n",
       "      <th>...</th>\n",
       "      <th>2950</th>\n",
       "      <th>2951</th>\n",
       "      <th>2952</th>\n",
       "      <th>2953</th>\n",
       "      <th>2954</th>\n",
       "      <th>2955</th>\n",
       "      <th>2956</th>\n",
       "      <th>2957</th>\n",
       "      <th>2958</th>\n",
       "      <th>2959</th>\n",
       "    </tr>\n",
       "  </thead>\n",
       "  <tbody>\n",
       "    <tr>\n",
       "      <th>0</th>\n",
       "      <td>P234273</td>\n",
       "      <td>Essential</td>\n",
       "      <td>No</td>\n",
       "      <td>No</td>\n",
       "      <td>No</td>\n",
       "      <td>Yes</td>\n",
       "      <td>No</td>\n",
       "      <td>No</td>\n",
       "      <td>No</td>\n",
       "      <td>No</td>\n",
       "      <td>...</td>\n",
       "      <td>?</td>\n",
       "      <td>?</td>\n",
       "      <td>?</td>\n",
       "      <td>?</td>\n",
       "      <td>?</td>\n",
       "      <td>?</td>\n",
       "      <td>?</td>\n",
       "      <td>?</td>\n",
       "      <td>?</td>\n",
       "      <td>?</td>\n",
       "    </tr>\n",
       "    <tr>\n",
       "      <th>1</th>\n",
       "      <td>P234490</td>\n",
       "      <td>Non-Essential</td>\n",
       "      <td>No</td>\n",
       "      <td>No</td>\n",
       "      <td>No</td>\n",
       "      <td>No</td>\n",
       "      <td>No</td>\n",
       "      <td>No</td>\n",
       "      <td>No</td>\n",
       "      <td>No</td>\n",
       "      <td>...</td>\n",
       "      <td>?</td>\n",
       "      <td>?</td>\n",
       "      <td>?</td>\n",
       "      <td>?</td>\n",
       "      <td>?</td>\n",
       "      <td>?</td>\n",
       "      <td>?</td>\n",
       "      <td>?</td>\n",
       "      <td>?</td>\n",
       "      <td>?</td>\n",
       "    </tr>\n",
       "    <tr>\n",
       "      <th>2</th>\n",
       "      <td>P236380</td>\n",
       "      <td>?</td>\n",
       "      <td>No</td>\n",
       "      <td>No</td>\n",
       "      <td>No</td>\n",
       "      <td>No</td>\n",
       "      <td>No</td>\n",
       "      <td>No</td>\n",
       "      <td>No</td>\n",
       "      <td>No</td>\n",
       "      <td>...</td>\n",
       "      <td>?</td>\n",
       "      <td>?</td>\n",
       "      <td>?</td>\n",
       "      <td>?</td>\n",
       "      <td>?</td>\n",
       "      <td>?</td>\n",
       "      <td>?</td>\n",
       "      <td>?</td>\n",
       "      <td>?</td>\n",
       "      <td>?</td>\n",
       "    </tr>\n",
       "    <tr>\n",
       "      <th>3</th>\n",
       "      <td>P234394</td>\n",
       "      <td>Essential</td>\n",
       "      <td>No</td>\n",
       "      <td>Yes</td>\n",
       "      <td>No</td>\n",
       "      <td>No</td>\n",
       "      <td>No</td>\n",
       "      <td>No</td>\n",
       "      <td>No</td>\n",
       "      <td>No</td>\n",
       "      <td>...</td>\n",
       "      <td>?</td>\n",
       "      <td>?</td>\n",
       "      <td>?</td>\n",
       "      <td>?</td>\n",
       "      <td>?</td>\n",
       "      <td>?</td>\n",
       "      <td>?</td>\n",
       "      <td>?</td>\n",
       "      <td>?</td>\n",
       "      <td>?</td>\n",
       "    </tr>\n",
       "    <tr>\n",
       "      <th>4</th>\n",
       "      <td>P234385</td>\n",
       "      <td>Non-Essential</td>\n",
       "      <td>No</td>\n",
       "      <td>No</td>\n",
       "      <td>No</td>\n",
       "      <td>No</td>\n",
       "      <td>No</td>\n",
       "      <td>No</td>\n",
       "      <td>No</td>\n",
       "      <td>No</td>\n",
       "      <td>...</td>\n",
       "      <td>?</td>\n",
       "      <td>?</td>\n",
       "      <td>?</td>\n",
       "      <td>?</td>\n",
       "      <td>?</td>\n",
       "      <td>?</td>\n",
       "      <td>?</td>\n",
       "      <td>?</td>\n",
       "      <td>?</td>\n",
       "      <td>?</td>\n",
       "    </tr>\n",
       "    <tr>\n",
       "      <th>...</th>\n",
       "      <td>...</td>\n",
       "      <td>...</td>\n",
       "      <td>...</td>\n",
       "      <td>...</td>\n",
       "      <td>...</td>\n",
       "      <td>...</td>\n",
       "      <td>...</td>\n",
       "      <td>...</td>\n",
       "      <td>...</td>\n",
       "      <td>...</td>\n",
       "      <td>...</td>\n",
       "      <td>...</td>\n",
       "      <td>...</td>\n",
       "      <td>...</td>\n",
       "      <td>...</td>\n",
       "      <td>...</td>\n",
       "      <td>...</td>\n",
       "      <td>...</td>\n",
       "      <td>...</td>\n",
       "      <td>...</td>\n",
       "      <td>...</td>\n",
       "    </tr>\n",
       "    <tr>\n",
       "      <th>376</th>\n",
       "      <td>P235517</td>\n",
       "      <td>Essential</td>\n",
       "      <td>No</td>\n",
       "      <td>No</td>\n",
       "      <td>No</td>\n",
       "      <td>No</td>\n",
       "      <td>No</td>\n",
       "      <td>No</td>\n",
       "      <td>No</td>\n",
       "      <td>No</td>\n",
       "      <td>...</td>\n",
       "      <td>?</td>\n",
       "      <td>?</td>\n",
       "      <td>?</td>\n",
       "      <td>?</td>\n",
       "      <td>?</td>\n",
       "      <td>?</td>\n",
       "      <td>?</td>\n",
       "      <td>?</td>\n",
       "      <td>?</td>\n",
       "      <td>?</td>\n",
       "    </tr>\n",
       "    <tr>\n",
       "      <th>377</th>\n",
       "      <td>P239167</td>\n",
       "      <td>Non-Essential</td>\n",
       "      <td>No</td>\n",
       "      <td>No</td>\n",
       "      <td>No</td>\n",
       "      <td>No</td>\n",
       "      <td>No</td>\n",
       "      <td>No</td>\n",
       "      <td>No</td>\n",
       "      <td>No</td>\n",
       "      <td>...</td>\n",
       "      <td>?</td>\n",
       "      <td>?</td>\n",
       "      <td>?</td>\n",
       "      <td>?</td>\n",
       "      <td>?</td>\n",
       "      <td>?</td>\n",
       "      <td>?</td>\n",
       "      <td>?</td>\n",
       "      <td>?</td>\n",
       "      <td>?</td>\n",
       "    </tr>\n",
       "    <tr>\n",
       "      <th>378</th>\n",
       "      <td>P240327</td>\n",
       "      <td>Non-Essential</td>\n",
       "      <td>No</td>\n",
       "      <td>No</td>\n",
       "      <td>No</td>\n",
       "      <td>No</td>\n",
       "      <td>No</td>\n",
       "      <td>No</td>\n",
       "      <td>No</td>\n",
       "      <td>No</td>\n",
       "      <td>...</td>\n",
       "      <td>?</td>\n",
       "      <td>?</td>\n",
       "      <td>?</td>\n",
       "      <td>?</td>\n",
       "      <td>?</td>\n",
       "      <td>?</td>\n",
       "      <td>?</td>\n",
       "      <td>?</td>\n",
       "      <td>?</td>\n",
       "      <td>?</td>\n",
       "    </tr>\n",
       "    <tr>\n",
       "      <th>379</th>\n",
       "      <td>P235928</td>\n",
       "      <td>Essential</td>\n",
       "      <td>No</td>\n",
       "      <td>No</td>\n",
       "      <td>No</td>\n",
       "      <td>No</td>\n",
       "      <td>No</td>\n",
       "      <td>No</td>\n",
       "      <td>No</td>\n",
       "      <td>No</td>\n",
       "      <td>...</td>\n",
       "      <td>?</td>\n",
       "      <td>?</td>\n",
       "      <td>?</td>\n",
       "      <td>?</td>\n",
       "      <td>?</td>\n",
       "      <td>?</td>\n",
       "      <td>?</td>\n",
       "      <td>?</td>\n",
       "      <td>?</td>\n",
       "      <td>?</td>\n",
       "    </tr>\n",
       "    <tr>\n",
       "      <th>380</th>\n",
       "      <td>P235898</td>\n",
       "      <td>?</td>\n",
       "      <td>No</td>\n",
       "      <td>No</td>\n",
       "      <td>No</td>\n",
       "      <td>No</td>\n",
       "      <td>No</td>\n",
       "      <td>No</td>\n",
       "      <td>No</td>\n",
       "      <td>No</td>\n",
       "      <td>...</td>\n",
       "      <td>?</td>\n",
       "      <td>?</td>\n",
       "      <td>?</td>\n",
       "      <td>?</td>\n",
       "      <td>?</td>\n",
       "      <td>?</td>\n",
       "      <td>?</td>\n",
       "      <td>?</td>\n",
       "      <td>?</td>\n",
       "      <td>?</td>\n",
       "    </tr>\n",
       "  </tbody>\n",
       "</table>\n",
       "<p>381 rows × 2960 columns</p>\n",
       "</div>"
      ],
      "text/plain": [
       "        0              1    2    3    4    5    6    7    8    9     ... 2950  \\\n",
       "0    P234273      Essential   No   No   No  Yes   No   No   No   No  ...    ?   \n",
       "1    P234490  Non-Essential   No   No   No   No   No   No   No   No  ...    ?   \n",
       "2    P236380              ?   No   No   No   No   No   No   No   No  ...    ?   \n",
       "3    P234394      Essential   No  Yes   No   No   No   No   No   No  ...    ?   \n",
       "4    P234385  Non-Essential   No   No   No   No   No   No   No   No  ...    ?   \n",
       "..       ...            ...  ...  ...  ...  ...  ...  ...  ...  ...  ...  ...   \n",
       "376  P235517      Essential   No   No   No   No   No   No   No   No  ...    ?   \n",
       "377  P239167  Non-Essential   No   No   No   No   No   No   No   No  ...    ?   \n",
       "378  P240327  Non-Essential   No   No   No   No   No   No   No   No  ...    ?   \n",
       "379  P235928      Essential   No   No   No   No   No   No   No   No  ...    ?   \n",
       "380  P235898              ?   No   No   No   No   No   No   No   No  ...    ?   \n",
       "\n",
       "    2951 2952 2953 2954 2955 2956 2957 2958 2959  \n",
       "0      ?    ?    ?    ?    ?    ?    ?    ?    ?  \n",
       "1      ?    ?    ?    ?    ?    ?    ?    ?    ?  \n",
       "2      ?    ?    ?    ?    ?    ?    ?    ?    ?  \n",
       "3      ?    ?    ?    ?    ?    ?    ?    ?    ?  \n",
       "4      ?    ?    ?    ?    ?    ?    ?    ?    ?  \n",
       "..   ...  ...  ...  ...  ...  ...  ...  ...  ...  \n",
       "376    ?    ?    ?    ?    ?    ?    ?    ?    ?  \n",
       "377    ?    ?    ?    ?    ?    ?    ?    ?    ?  \n",
       "378    ?    ?    ?    ?    ?    ?    ?    ?    ?  \n",
       "379    ?    ?    ?    ?    ?    ?    ?    ?    ?  \n",
       "380    ?    ?    ?    ?    ?    ?    ?    ?    ?  \n",
       "\n",
       "[381 rows x 2960 columns]"
      ]
     },
     "execution_count": 34,
     "metadata": {},
     "output_type": "execute_result"
    }
   ],
   "source": [
    "testdf"
   ]
  }
 ],
 "metadata": {
  "kernelspec": {
   "display_name": "Python 3",
   "language": "python",
   "name": "python3"
  },
  "language_info": {
   "codemirror_mode": {
    "name": "ipython",
    "version": 3
   },
   "file_extension": ".py",
   "mimetype": "text/x-python",
   "name": "python",
   "nbconvert_exporter": "python",
   "pygments_lexer": "ipython3",
   "version": "3.8.3"
  }
 },
 "nbformat": 4,
 "nbformat_minor": 4
}
