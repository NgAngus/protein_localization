{
 "cells": [
  {
   "cell_type": "markdown",
   "metadata": {},
   "source": [
    "The only purpose of this notebook is to generate a submission."
   ]
  },
  {
   "cell_type": "code",
   "execution_count": 1,
   "metadata": {
    "scrolled": false
   },
   "outputs": [],
   "source": [
    "LOCAL = True\n",
    "data_fpath = '../data/raw/' if LOCAL else '/kaggle/input/protein-localization/'\n",
    "data_eng_fpath = '../data/intermediate/' if LOCAL else '../input/data-engineering/'\n",
    "out_fpath = '../data/intermediate/' if LOCAL else ''\n",
    "model_fpath = '../results/models/' if LOCAL else ''\n",
    "selected_feats_fpath = '../data/intermediate/' if LOCAL else '../input/lightgbm-feature-selection/'"
   ]
  },
  {
   "cell_type": "code",
   "execution_count": 2,
   "metadata": {},
   "outputs": [],
   "source": [
    "%load_ext autoreload\n",
    "%autoreload 2\n",
    "\n",
    "import warnings\n",
    "warnings.filterwarnings('ignore')"
   ]
  },
  {
   "cell_type": "code",
   "execution_count": 3,
   "metadata": {},
   "outputs": [
    {
     "data": {
      "text/plain": [
       "743"
      ]
     },
     "execution_count": 3,
     "metadata": {},
     "output_type": "execute_result"
    }
   ],
   "source": [
    "from datetime import datetime\n",
    "import pickle\n",
    "\n",
    "import lightgbm as lgb\n",
    "import pandas as pd\n",
    "import numpy as np\n",
    "\n",
    "SEED = np.random.randint(1000)\n",
    "SEED"
   ]
  },
  {
   "cell_type": "code",
   "execution_count": 4,
   "metadata": {},
   "outputs": [],
   "source": [
    "from sklearn.metrics import classification_report\n",
    "from sklearn.model_selection import KFold, StratifiedKFold, GridSearchCV,train_test_split\n",
    "from sklearn.metrics import accuracy_score, balanced_accuracy_score, f1_score\n",
    "from sklearn.preprocessing import StandardScaler\n",
    "from sklearn.linear_model import LogisticRegression\n",
    "from statsmodels.discrete.discrete_model import MNLogit\n",
    "from sklearn.neighbors import KNeighborsClassifier\n",
    "from sklearn.naive_bayes import GaussianNB\n",
    "from sklearn.ensemble import RandomForestClassifier, StackingClassifier\n",
    "\n",
    "\n",
    "from sklearn.svm import SVC, OneClassSVM\n",
    "\n",
    "from imblearn.over_sampling import RandomOverSampler, SMOTENC"
   ]
  },
  {
   "cell_type": "markdown",
   "metadata": {},
   "source": [
    "## Load Training DataFrame\n",
    "* Here I instead load the one-hot encoded file"
   ]
  },
  {
   "cell_type": "code",
   "execution_count": 5,
   "metadata": {
    "scrolled": false
   },
   "outputs": [
    {
     "data": {
      "text/plain": [
       "((862, 2112), (862,))"
      ]
     },
     "execution_count": 5,
     "metadata": {},
     "output_type": "execute_result"
    }
   ],
   "source": [
    "X = pd.read_pickle(f\"{data_eng_fpath}X_enc.pkl\")\n",
    "y = pd.read_pickle(f\"{data_eng_fpath}y.pkl\")\n",
    "X.shape, y.shape"
   ]
  },
  {
   "cell_type": "code",
   "execution_count": 6,
   "metadata": {
    "scrolled": false
   },
   "outputs": [
    {
     "name": "stdout",
     "output_type": "stream",
     "text": [
      "<class 'pandas.core.frame.DataFrame'>\n",
      "Int64Index: 862 entries, 0 to 861\n",
      "Columns: 2112 entries, 445 to ppi_min_corr_2944\n",
      "dtypes: float64(135), int64(25), uint8(1952)\n",
      "memory usage: 2.7 MB\n"
     ]
    }
   ],
   "source": [
    "X.info()"
   ]
  },
  {
   "cell_type": "markdown",
   "metadata": {},
   "source": [
    "## Load Competition Data\n",
    "* Note that data engineering pipeline drops labels, so we'll need this"
   ]
  },
  {
   "cell_type": "code",
   "execution_count": 7,
   "metadata": {},
   "outputs": [],
   "source": [
    "testdf = pd.read_csv(f\"{data_fpath}test.csv\", header=None)"
   ]
  },
  {
   "cell_type": "code",
   "execution_count": 8,
   "metadata": {},
   "outputs": [],
   "source": [
    "X_kaggle = pd.read_pickle(f\"{data_eng_fpath}X_kaggle_enc.pkl\")"
   ]
  },
  {
   "cell_type": "markdown",
   "metadata": {},
   "source": [
    "## Scale Numeric Data"
   ]
  },
  {
   "cell_type": "code",
   "execution_count": 9,
   "metadata": {},
   "outputs": [],
   "source": [
    "numerics = ['int16', 'int32', 'int64', 'float16', 'float32', 'float64']\n",
    "numeric_cols = X.select_dtypes(include=numerics).columns"
   ]
  },
  {
   "cell_type": "code",
   "execution_count": 10,
   "metadata": {},
   "outputs": [],
   "source": [
    "# # Scale numeric columns in training and kaggle data\n",
    "# scaler = StandardScaler()\n",
    "# X[numeric_cols] = scaler.fit_transform(X[numeric_cols])\n",
    "# X_kaggle[numeric_cols] = scaler.fit_transform(X_kaggle[numeric_cols])"
   ]
  },
  {
   "cell_type": "markdown",
   "metadata": {},
   "source": [
    "## Feature Selection"
   ]
  },
  {
   "cell_type": "code",
   "execution_count": 11,
   "metadata": {},
   "outputs": [],
   "source": [
    "with open(f'{selected_feats_fpath}important_feats.pkl', 'rb') as handle:\n",
    "    important_feats = pickle.load(handle)\n",
    "important_feats = X.columns\n",
    "X = X[important_feats]"
   ]
  },
  {
   "cell_type": "markdown",
   "metadata": {},
   "source": [
    "## Split Data\n",
    "* Because some classes literally have one training instance, first I duplicate those values so they can appear in test data (best we can do tbh)"
   ]
  },
  {
   "cell_type": "code",
   "execution_count": 12,
   "metadata": {},
   "outputs": [
    {
     "name": "stdout",
     "output_type": "stream",
     "text": [
      "<class 'pandas.core.frame.DataFrame'>\n",
      "Int64Index: 862 entries, 0 to 861\n",
      "Columns: 2112 entries, 445 to ppi_min_corr_2944\n",
      "dtypes: float64(135), int64(25), uint8(1952)\n",
      "memory usage: 2.7 MB\n"
     ]
    }
   ],
   "source": [
    "X.info()"
   ]
  },
  {
   "cell_type": "code",
   "execution_count": 13,
   "metadata": {
    "scrolled": true
   },
   "outputs": [],
   "source": [
    "ros = RandomOverSampler(sampling_strategy={i : 5 for i in range(12, 15)})\n",
    "X_upsampled, y_upsampled = ros.fit_resample(X, y)"
   ]
  },
  {
   "cell_type": "code",
   "execution_count": 14,
   "metadata": {
    "scrolled": true
   },
   "outputs": [
    {
     "data": {
      "text/plain": [
       "((584, 2112), (289, 2112))"
      ]
     },
     "execution_count": 14,
     "metadata": {},
     "output_type": "execute_result"
    }
   ],
   "source": [
    "X_train, X_test, y_train, y_test = train_test_split(\n",
    "    X_upsampled, y_upsampled, test_size=0.33, stratify=y_upsampled)\n",
    "\n",
    "X_train.shape, X_test.shape"
   ]
  },
  {
   "cell_type": "markdown",
   "metadata": {},
   "source": [
    "### Logistic Regression"
   ]
  },
  {
   "cell_type": "code",
   "execution_count": 15,
   "metadata": {
    "scrolled": false
   },
   "outputs": [
    {
     "name": "stdout",
     "output_type": "stream",
     "text": [
      "              precision    recall  f1-score   support\n",
      "\n",
      "           0       0.77      0.93      0.85       121\n",
      "           1       0.59      0.67      0.63        63\n",
      "           2       0.57      0.35      0.43        23\n",
      "           3       0.72      0.68      0.70        19\n",
      "           4       0.33      0.21      0.26        14\n",
      "           5       0.88      0.50      0.64        14\n",
      "           6       0.80      0.67      0.73        12\n",
      "           7       0.80      0.67      0.73         6\n",
      "           8       1.00      0.50      0.67         6\n",
      "           9       0.00      0.00      0.00         3\n",
      "          10       0.00      0.00      0.00         1\n",
      "          11       0.00      0.00      0.00         1\n",
      "          12       1.00      0.50      0.67         2\n",
      "          13       1.00      1.00      1.00         2\n",
      "          14       1.00      1.00      1.00         2\n",
      "\n",
      "    accuracy                           0.71       289\n",
      "   macro avg       0.63      0.51      0.55       289\n",
      "weighted avg       0.70      0.71      0.69       289\n",
      "\n"
     ]
    }
   ],
   "source": [
    "logistic_model = LogisticRegression(C=1.15, penalty='l1', solver='liblinear', n_jobs=-1)\n",
    "logistic_model.fit(X_train, y_train)\n",
    "y_pred = pd.Series(logistic_model.predict(X_test))\n",
    "print(classification_report(y_test, y_pred))"
   ]
  },
  {
   "cell_type": "code",
   "execution_count": 36,
   "metadata": {
    "scrolled": false
   },
   "outputs": [
    {
     "data": {
      "text/html": [
       "<div>\n",
       "<style scoped>\n",
       "    .dataframe tbody tr th:only-of-type {\n",
       "        vertical-align: middle;\n",
       "    }\n",
       "\n",
       "    .dataframe tbody tr th {\n",
       "        vertical-align: top;\n",
       "    }\n",
       "\n",
       "    .dataframe thead th {\n",
       "        text-align: right;\n",
       "    }\n",
       "</style>\n",
       "<table border=\"1\" class=\"dataframe\">\n",
       "  <thead>\n",
       "    <tr style=\"text-align: right;\">\n",
       "      <th></th>\n",
       "      <th>features</th>\n",
       "      <th>coef</th>\n",
       "    </tr>\n",
       "  </thead>\n",
       "  <tbody>\n",
       "    <tr>\n",
       "      <th>315</th>\n",
       "      <td>80_Yes</td>\n",
       "      <td>-2.661544</td>\n",
       "    </tr>\n",
       "    <tr>\n",
       "      <th>339</th>\n",
       "      <td>92_Yes</td>\n",
       "      <td>-1.497376</td>\n",
       "    </tr>\n",
       "    <tr>\n",
       "      <th>325</th>\n",
       "      <td>85_Yes</td>\n",
       "      <td>-1.227718</td>\n",
       "    </tr>\n",
       "    <tr>\n",
       "      <th>258</th>\n",
       "      <td>51_Yes</td>\n",
       "      <td>-0.945128</td>\n",
       "    </tr>\n",
       "    <tr>\n",
       "      <th>333</th>\n",
       "      <td>89_Yes</td>\n",
       "      <td>-0.942694</td>\n",
       "    </tr>\n",
       "    <tr>\n",
       "      <th>...</th>\n",
       "      <td>...</td>\n",
       "      <td>...</td>\n",
       "    </tr>\n",
       "    <tr>\n",
       "      <th>19</th>\n",
       "      <td>ppi_all_pct_0</td>\n",
       "      <td>2.611914</td>\n",
       "    </tr>\n",
       "    <tr>\n",
       "      <th>313</th>\n",
       "      <td>79_Yes</td>\n",
       "      <td>3.091759</td>\n",
       "    </tr>\n",
       "    <tr>\n",
       "      <th>286</th>\n",
       "      <td>65_Yes</td>\n",
       "      <td>3.373374</td>\n",
       "    </tr>\n",
       "    <tr>\n",
       "      <th>274</th>\n",
       "      <td>59_Yes</td>\n",
       "      <td>4.566808</td>\n",
       "    </tr>\n",
       "    <tr>\n",
       "      <th>204</th>\n",
       "      <td>23_Yes</td>\n",
       "      <td>4.607618</td>\n",
       "    </tr>\n",
       "  </tbody>\n",
       "</table>\n",
       "<p>2112 rows × 2 columns</p>\n",
       "</div>"
      ],
      "text/plain": [
       "          features      coef\n",
       "315         80_Yes -2.661544\n",
       "339         92_Yes -1.497376\n",
       "325         85_Yes -1.227718\n",
       "258         51_Yes -0.945128\n",
       "333         89_Yes -0.942694\n",
       "..             ...       ...\n",
       "19   ppi_all_pct_0  2.611914\n",
       "313         79_Yes  3.091759\n",
       "286         65_Yes  3.373374\n",
       "274         59_Yes  4.566808\n",
       "204         23_Yes  4.607618\n",
       "\n",
       "[2112 rows x 2 columns]"
      ]
     },
     "execution_count": 36,
     "metadata": {},
     "output_type": "execute_result"
    }
   ],
   "source": [
    "coeffs = pd.DataFrame(zip(X_train.columns, np.transpose(logistic_model.coef_.tolist()[0])),\n",
    "                      columns=['features', 'coef'])\n",
    "coeffs.sort_values('coef')"
   ]
  },
  {
   "cell_type": "markdown",
   "metadata": {},
   "source": [
    "### SVM"
   ]
  },
  {
   "cell_type": "code",
   "execution_count": 31,
   "metadata": {
    "scrolled": false
   },
   "outputs": [
    {
     "name": "stdout",
     "output_type": "stream",
     "text": [
      "              precision    recall  f1-score   support\n",
      "\n",
      "           0       0.77      0.90      0.83       121\n",
      "           1       0.55      0.71      0.62        63\n",
      "           2       0.69      0.39      0.50        23\n",
      "           3       0.61      0.58      0.59        19\n",
      "           4       0.75      0.21      0.33        14\n",
      "           5       0.75      0.43      0.55        14\n",
      "           6       0.56      0.42      0.48        12\n",
      "           7       0.67      0.67      0.67         6\n",
      "           8       1.00      0.33      0.50         6\n",
      "           9       0.00      0.00      0.00         3\n",
      "          10       0.00      0.00      0.00         1\n",
      "          11       0.00      0.00      0.00         1\n",
      "          12       1.00      0.50      0.67         2\n",
      "          13       1.00      1.00      1.00         2\n",
      "          14       1.00      1.00      1.00         2\n",
      "\n",
      "    accuracy                           0.69       289\n",
      "   macro avg       0.62      0.48      0.52       289\n",
      "weighted avg       0.69      0.69      0.67       289\n",
      "\n"
     ]
    }
   ],
   "source": [
    "params = {\n",
    "    'C': 0.233,\n",
    "    'kernel': 'linear',\n",
    "    'probability' : True,\n",
    "}\n",
    "svm_model = SVC(**params)\n",
    "svm_model.fit(X_train, y_train)\n",
    "y_pred = pd.Series(svm_model.predict(X_test))\n",
    "print(classification_report(y_test, y_pred))"
   ]
  },
  {
   "cell_type": "markdown",
   "metadata": {},
   "source": [
    "## kNN"
   ]
  },
  {
   "cell_type": "code",
   "execution_count": 33,
   "metadata": {},
   "outputs": [
    {
     "name": "stdout",
     "output_type": "stream",
     "text": [
      "              precision    recall  f1-score   support\n",
      "\n",
      "           0       0.57      0.84      0.68       121\n",
      "           1       0.39      0.35      0.37        63\n",
      "           2       0.31      0.22      0.26        23\n",
      "           3       0.14      0.05      0.08        19\n",
      "           4       0.10      0.07      0.08        14\n",
      "           5       0.40      0.29      0.33        14\n",
      "           6       0.50      0.17      0.25        12\n",
      "           7       1.00      0.17      0.29         6\n",
      "           8       0.00      0.00      0.00         6\n",
      "           9       0.00      0.00      0.00         3\n",
      "          10       0.00      0.00      0.00         1\n",
      "          11       0.00      0.00      0.00         1\n",
      "          12       1.00      1.00      1.00         2\n",
      "          13       0.67      1.00      0.80         2\n",
      "          14       1.00      1.00      1.00         2\n",
      "\n",
      "    accuracy                           0.50       289\n",
      "   macro avg       0.41      0.34      0.34       289\n",
      "weighted avg       0.44      0.50      0.45       289\n",
      "\n"
     ]
    }
   ],
   "source": [
    "params = {\n",
    "    'n_neighbors' : 8,\n",
    "    'weights' : 'distance'\n",
    "}\n",
    "knn_model = KNeighborsClassifier(**params)\n",
    "knn_model.fit(X_train, y_train)\n",
    "y_pred = pd.Series(knn_model.predict(X_test))\n",
    "print(classification_report(y_test, y_pred))"
   ]
  },
  {
   "cell_type": "markdown",
   "metadata": {},
   "source": [
    "## GaussianNB"
   ]
  },
  {
   "cell_type": "code",
   "execution_count": 19,
   "metadata": {
    "scrolled": false
   },
   "outputs": [
    {
     "name": "stdout",
     "output_type": "stream",
     "text": [
      "              precision    recall  f1-score   support\n",
      "\n",
      "           0       0.87      0.72      0.79       121\n",
      "           1       0.67      0.57      0.62        63\n",
      "           2       0.52      0.52      0.52        23\n",
      "           3       0.47      0.42      0.44        19\n",
      "           4       0.41      0.64      0.50        14\n",
      "           5       0.32      0.50      0.39        14\n",
      "           6       0.31      0.75      0.44        12\n",
      "           7       0.50      0.50      0.50         6\n",
      "           8       0.25      0.17      0.20         6\n",
      "           9       0.00      0.00      0.00         3\n",
      "          10       0.00      0.00      0.00         1\n",
      "          11       0.00      0.00      0.00         1\n",
      "          12       0.50      1.00      0.67         2\n",
      "          13       1.00      1.00      1.00         2\n",
      "          14       1.00      1.00      1.00         2\n",
      "\n",
      "    accuracy                           0.62       289\n",
      "   macro avg       0.45      0.52      0.47       289\n",
      "weighted avg       0.66      0.62      0.63       289\n",
      "\n"
     ]
    }
   ],
   "source": [
    "params = {\n",
    "}\n",
    "nb_model = GaussianNB(**params)\n",
    "nb_model.fit(X_train, y_train)\n",
    "y_pred = pd.Series(nb_model.predict(X_test))\n",
    "print(classification_report(y_test, y_pred))"
   ]
  },
  {
   "cell_type": "markdown",
   "metadata": {},
   "source": [
    "# Failure analysis\n",
    "* Analyze which classes are failing"
   ]
  },
  {
   "cell_type": "code",
   "execution_count": 20,
   "metadata": {},
   "outputs": [],
   "source": [
    "models = {\n",
    "    'logistic_model' : logistic_model,\n",
    "    'svm_model' : svm_model,\n",
    "    'knn_model' : knn_model,\n",
    "    'nb_model' : nb_model\n",
    "}\n",
    "model_preds = {}\n",
    "for name, model in models.items():\n",
    "    model_preds[name] = model.predict(X_test).ravel()\n",
    "model_preds['true_label'] = y_test.ravel()"
   ]
  },
  {
   "cell_type": "code",
   "execution_count": 21,
   "metadata": {},
   "outputs": [
    {
     "data": {
      "text/html": [
       "<div>\n",
       "<style scoped>\n",
       "    .dataframe tbody tr th:only-of-type {\n",
       "        vertical-align: middle;\n",
       "    }\n",
       "\n",
       "    .dataframe tbody tr th {\n",
       "        vertical-align: top;\n",
       "    }\n",
       "\n",
       "    .dataframe thead th {\n",
       "        text-align: right;\n",
       "    }\n",
       "</style>\n",
       "<table border=\"1\" class=\"dataframe\">\n",
       "  <thead>\n",
       "    <tr style=\"text-align: right;\">\n",
       "      <th></th>\n",
       "      <th>logistic_model</th>\n",
       "      <th>svm_model</th>\n",
       "      <th>knn_model</th>\n",
       "      <th>nb_model</th>\n",
       "      <th>true_label</th>\n",
       "    </tr>\n",
       "  </thead>\n",
       "  <tbody>\n",
       "    <tr>\n",
       "      <th>0</th>\n",
       "      <td>1</td>\n",
       "      <td>1</td>\n",
       "      <td>0</td>\n",
       "      <td>3</td>\n",
       "      <td>1</td>\n",
       "    </tr>\n",
       "    <tr>\n",
       "      <th>1</th>\n",
       "      <td>0</td>\n",
       "      <td>0</td>\n",
       "      <td>0</td>\n",
       "      <td>0</td>\n",
       "      <td>0</td>\n",
       "    </tr>\n",
       "    <tr>\n",
       "      <th>2</th>\n",
       "      <td>0</td>\n",
       "      <td>0</td>\n",
       "      <td>0</td>\n",
       "      <td>5</td>\n",
       "      <td>0</td>\n",
       "    </tr>\n",
       "    <tr>\n",
       "      <th>3</th>\n",
       "      <td>0</td>\n",
       "      <td>0</td>\n",
       "      <td>1</td>\n",
       "      <td>10</td>\n",
       "      <td>11</td>\n",
       "    </tr>\n",
       "    <tr>\n",
       "      <th>4</th>\n",
       "      <td>0</td>\n",
       "      <td>1</td>\n",
       "      <td>2</td>\n",
       "      <td>0</td>\n",
       "      <td>0</td>\n",
       "    </tr>\n",
       "  </tbody>\n",
       "</table>\n",
       "</div>"
      ],
      "text/plain": [
       "   logistic_model  svm_model  knn_model  nb_model true_label\n",
       "0               1          1          0         3          1\n",
       "1               0          0          0         0          0\n",
       "2               0          0          0         5          0\n",
       "3               0          0          1        10         11\n",
       "4               0          1          2         0          0"
      ]
     },
     "execution_count": 21,
     "metadata": {},
     "output_type": "execute_result"
    }
   ],
   "source": [
    "fails = pd.DataFrame(model_preds)\n",
    "fails.head()"
   ]
  },
  {
   "cell_type": "code",
   "execution_count": 22,
   "metadata": {
    "scrolled": true
   },
   "outputs": [
    {
     "data": {
      "image/png": "[encoded data removed]",
      "text/plain": [
       "<Figure size 432x288 with 1 Axes>"
      ]
     },
     "metadata": {
      "needs_background": "light"
     },
     "output_type": "display_data"
    }
   ],
   "source": [
    "fails.loc[fails['logistic_model'] != fails['true_label'], 'true_label'].astype(int).hist(bins=14, alpha=0.3);\n",
    "fails.loc[fails['svm_model'] != fails['true_label'], 'true_label'].astype(int).hist(bins=14, alpha=0.3);\n",
    "fails.loc[fails['knn_model'] != fails['true_label'], 'true_label'].astype(int).hist(bins=14, alpha=0.3);"
   ]
  },
  {
   "cell_type": "markdown",
   "metadata": {},
   "source": [
    "Majority of failures are in class 1. Also the second largest class! So the key to improving performance (specifically for this competition) is to increase the precision of class 1."
   ]
  },
  {
   "cell_type": "markdown",
   "metadata": {},
   "source": [
    "# One Class"
   ]
  },
  {
   "cell_type": "code",
   "execution_count": 23,
   "metadata": {},
   "outputs": [],
   "source": [
    "y_one_train = y_train == 1  # encode a new label only for class 1\n",
    "y_one_test = y_test == 1  # encode a new label only for class 1"
   ]
  },
  {
   "cell_type": "code",
   "execution_count": 24,
   "metadata": {},
   "outputs": [
    {
     "data": {
      "text/plain": [
       "LogisticRegression()"
      ]
     },
     "execution_count": 24,
     "metadata": {},
     "output_type": "execute_result"
    }
   ],
   "source": [
    "one_class_svm_params = {\n",
    "#     'kernel' : 'linear',\n",
    "}\n",
    "model_one = LogisticRegression(**one_class_svm_params)\n",
    "model_one.fit(X_train, y_one_train)"
   ]
  },
  {
   "cell_type": "code",
   "execution_count": 25,
   "metadata": {
    "scrolled": false
   },
   "outputs": [
    {
     "name": "stdout",
     "output_type": "stream",
     "text": [
      "              precision    recall  f1-score   support\n",
      "\n",
      "       False       0.85      0.95      0.89       226\n",
      "        True       0.67      0.38      0.48        63\n",
      "\n",
      "    accuracy                           0.82       289\n",
      "   macro avg       0.76      0.66      0.69       289\n",
      "weighted avg       0.81      0.82      0.80       289\n",
      "\n"
     ]
    }
   ],
   "source": [
    "y_one_pred = pd.Series(model_one.predict(X_test))\n",
    "print(classification_report(y_one_test, y_one_pred))"
   ]
  },
  {
   "cell_type": "markdown",
   "metadata": {},
   "source": [
    "Question is does this model perform better than the main models for predicting class 1."
   ]
  },
  {
   "cell_type": "code",
   "execution_count": 26,
   "metadata": {},
   "outputs": [],
   "source": [
    "models = {\n",
    "    'logistic_model' : logistic_model,\n",
    "    'svm_model' : svm_model,\n",
    "#     'knn_model' : knn_model,\n",
    "#     'nb_model' : nb_model,\n",
    "    'one_class' : model_one,\n",
    "}\n",
    "model_preds = {}\n",
    "for name, model in models.items():\n",
    "    model_preds[name] = model.predict(X_test).ravel()\n",
    "model_preds['true_label'] = y_test.ravel()\n",
    "model_preds['one_class'] = model_preds['one_class'].astype(int)"
   ]
  },
  {
   "cell_type": "code",
   "execution_count": 27,
   "metadata": {},
   "outputs": [],
   "source": [
    "fails = pd.DataFrame(model_preds)\n",
    "class_one_fails = fails[fails['true_label'] == 1]"
   ]
  },
  {
   "cell_type": "code",
   "execution_count": 28,
   "metadata": {},
   "outputs": [
    {
     "data": {
      "text/plain": [
       "21"
      ]
     },
     "execution_count": 28,
     "metadata": {},
     "output_type": "execute_result"
    }
   ],
   "source": [
    "sum(class_one_fails['logistic_model'] != class_one_fails['true_label'])"
   ]
  },
  {
   "cell_type": "code",
   "execution_count": 29,
   "metadata": {},
   "outputs": [
    {
     "data": {
      "text/plain": [
       "39"
      ]
     },
     "execution_count": 29,
     "metadata": {},
     "output_type": "execute_result"
    }
   ],
   "source": [
    "sum(class_one_fails['one_class'] != class_one_fails['true_label'])"
   ]
  }
 ],
 "metadata": {
  "kernelspec": {
   "display_name": "Python 3",
   "language": "python",
   "name": "python3"
  },
  "language_info": {
   "codemirror_mode": {
    "name": "ipython",
    "version": 3
   },
   "file_extension": ".py",
   "mimetype": "text/x-python",
   "name": "python",
   "nbconvert_exporter": "python",
   "pygments_lexer": "ipython3",
   "version": "3.8.3"
  }
 },
 "nbformat": 4,
 "nbformat_minor": 4
}
