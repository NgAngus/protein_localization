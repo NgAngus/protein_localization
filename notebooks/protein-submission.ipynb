{
 "cells": [
  {
   "cell_type": "markdown",
   "metadata": {},
   "source": [
    "The only purpose of this notebook is to generate a submission."
   ]
  },
  {
   "cell_type": "code",
   "execution_count": 1,
   "metadata": {
    "scrolled": false
   },
   "outputs": [],
   "source": [
    "LOCAL = True\n",
    "data_fpath = '../data/raw/' if LOCAL else '/kaggle/input/protein-localization/'\n",
    "data_eng_fpath = '../data/intermediate/' if LOCAL else '../input/data-engineering/'\n",
    "out_fpath = '../data/intermediate/' if LOCAL else ''\n",
    "model_fpath = '../results/models/' if LOCAL else ''\n",
    "selected_feats_fpath = '../data/intermediate/' if LOCAL else '../input/lightgbm-feature-selection/'"
   ]
  },
  {
   "cell_type": "code",
   "execution_count": 2,
   "metadata": {},
   "outputs": [],
   "source": [
    "%load_ext autoreload\n",
    "%autoreload 2\n",
    "\n",
    "import warnings\n",
    "warnings.filterwarnings('ignore')\n",
    "\n",
    "import data_tools"
   ]
  },
  {
   "cell_type": "code",
   "execution_count": 3,
   "metadata": {},
   "outputs": [],
   "source": [
    "from datetime import datetime\n",
    "import pickle\n",
    "\n",
    "import lightgbm as lgb\n",
    "import pandas as pd\n",
    "import numpy as np\n",
    "\n",
    "SEED = 421"
   ]
  },
  {
   "cell_type": "code",
   "execution_count": 4,
   "metadata": {},
   "outputs": [],
   "source": [
    "from sklearn.metrics import classification_report\n",
    "from sklearn.model_selection import KFold, StratifiedKFold, GridSearchCV,train_test_split\n",
    "from sklearn.metrics import accuracy_score, balanced_accuracy_score, f1_score\n",
    "\n",
    "\n",
    "from imblearn.over_sampling import RandomOverSampler, SMOTENC"
   ]
  },
  {
   "cell_type": "code",
   "execution_count": 5,
   "metadata": {},
   "outputs": [],
   "source": [
    "# Use the accuracy metric\n",
    "def accuracy(y_true, y_pred):\n",
    "    preds = y_pred.reshape(15, -1)\n",
    "    preds = preds.argmax(axis = 0)\n",
    "    return 'acc.', accuracy_score(y_true, preds), True\n",
    "\n",
    "def balanced_accuracy(y_true, y_pred):\n",
    "    preds = y_pred.reshape(15, -1)\n",
    "    preds = preds.argmax(axis = 0)\n",
    "    return 'bal. acc.', balanced_accuracy_score(y_true, preds), True\n",
    "\n",
    "def f1_weighted(y_true, y_pred):\n",
    "    preds = y_pred.reshape(15, -1)\n",
    "    preds = preds.argmax(axis = 0)\n",
    "    return 'f1', f1_score(y_true, preds, average='weighted'), True\n",
    "\n",
    "def f1_macro(y_true, y_pred):\n",
    "    preds = y_pred.reshape(15, -1)\n",
    "    preds = preds.argmax(axis = 0)\n",
    "    return 'f1', f1_score(y_true, preds, average='macro'), True"
   ]
  },
  {
   "cell_type": "markdown",
   "metadata": {},
   "source": [
    "## Load Training DataFrame"
   ]
  },
  {
   "cell_type": "code",
   "execution_count": 6,
   "metadata": {
    "scrolled": false
   },
   "outputs": [
    {
     "data": {
      "text/plain": [
       "((862, 477), (862,))"
      ]
     },
     "execution_count": 6,
     "metadata": {},
     "output_type": "execute_result"
    }
   ],
   "source": [
    "X = pd.read_pickle(f\"{data_eng_fpath}X.pkl\")\n",
    "y = pd.read_pickle(f\"{data_eng_fpath}y.pkl\")\n",
    "X.shape, y.shape"
   ]
  },
  {
   "cell_type": "code",
   "execution_count": 7,
   "metadata": {
    "scrolled": true
   },
   "outputs": [
    {
     "name": "stdout",
     "output_type": "stream",
     "text": [
      "<class 'pandas.core.frame.DataFrame'>\n",
      "RangeIndex: 862 entries, 0 to 861\n",
      "Columns: 477 entries, 1 to interaction_mean\n",
      "dtypes: category(448), float64(9), int64(20)\n",
      "memory usage: 586.4 KB\n"
     ]
    }
   ],
   "source": [
    "X.info()"
   ]
  },
  {
   "cell_type": "markdown",
   "metadata": {},
   "source": [
    "## Load Competition Data\n",
    "* Note that data engineering pipeline drops labels, so we'll need this"
   ]
  },
  {
   "cell_type": "code",
   "execution_count": 8,
   "metadata": {},
   "outputs": [],
   "source": [
    "testdf = pd.read_csv(f\"{data_fpath}test.csv\", header=None)"
   ]
  },
  {
   "cell_type": "markdown",
   "metadata": {},
   "source": [
    "## Feature Selection\n",
    "* See feature selection notebook"
   ]
  },
  {
   "cell_type": "code",
   "execution_count": 9,
   "metadata": {},
   "outputs": [],
   "source": [
    "with open(f'{selected_feats_fpath}important_feats.pkl', 'rb') as handle:\n",
    "    important_feats = pickle.load(handle)"
   ]
  },
  {
   "cell_type": "code",
   "execution_count": 10,
   "metadata": {
    "scrolled": true
   },
   "outputs": [],
   "source": [
    "X = X[important_feats]"
   ]
  },
  {
   "cell_type": "markdown",
   "metadata": {},
   "source": [
    "## Split Data\n",
    "* Because some classes literally have one training instance, first I duplicate those values so they can appear in test data (best we can do tbh)\n",
    "* Then I upsample training data again, because we need this to satisfy SMOTE conditions\n",
    "* Afterwards, I split to train/test, and then use SMOTE/ADASYN on minority classes"
   ]
  },
  {
   "cell_type": "code",
   "execution_count": 11,
   "metadata": {},
   "outputs": [],
   "source": [
    "ros = RandomOverSampler(sampling_strategy={i : 2 for i in range(12, 15)})\n",
    "X_upsampled, y_upsampled = ros.fit_resample(X, y)"
   ]
  },
  {
   "cell_type": "code",
   "execution_count": 12,
   "metadata": {},
   "outputs": [
    {
     "data": {
      "text/plain": [
       "((691, 137), (173, 137))"
      ]
     },
     "execution_count": 12,
     "metadata": {},
     "output_type": "execute_result"
    }
   ],
   "source": [
    "X_train, X_test, y_train, y_test = train_test_split(\n",
    "    X_upsampled, y_upsampled, test_size=0.2, stratify=y_upsampled)\n",
    "\n",
    "X_train.shape, X_test.shape"
   ]
  },
  {
   "cell_type": "code",
   "execution_count": 13,
   "metadata": {},
   "outputs": [],
   "source": [
    "categoricals = X_train.select_dtypes(include=['category']).columns\n",
    "categoricals_by_idx = [X_train.columns.get_loc(c) for c in categoricals]"
   ]
  },
  {
   "cell_type": "markdown",
   "metadata": {},
   "source": [
    "### LightGBM"
   ]
  },
  {
   "cell_type": "code",
   "execution_count": 14,
   "metadata": {},
   "outputs": [
    {
     "data": {
      "text/plain": [
       "LGBMClassifier(class_weight={1: 1.3}, colsample_bytree=0.8, learning_rate=0.01,\n",
       "               max_depth=8, metric='None', min_child_samples=5,\n",
       "               n_estimators=500, num_leaves=400, objective='multiclass',\n",
       "               random_state=421, reg_alpha=0, reg_lambda=0, subsample=0.9)"
      ]
     },
     "execution_count": 14,
     "metadata": {},
     "output_type": "execute_result"
    }
   ],
   "source": [
    "N_ESTIMATORS = 500  # default is 100\n",
    "hyper_params = {\n",
    "    'boosting_type': 'gbdt',\n",
    "    'random_state' : SEED,\n",
    "    'objective' : 'multiclass',\n",
    "#     'zero_as_missing' : True,\n",
    "    'metric' : 'None',\n",
    "\n",
    "    'reg_alpha': 0,\n",
    "    'reg_lambda' : 0,\n",
    "    'num_leaves': 400,\n",
    "    'max_depth' : 8,\n",
    "    'colsample_bytree' : 0.8,\n",
    "    'subsample' : 0.9,\n",
    "    'min_child_samples': 5,\n",
    "    'class_weight' : {\n",
    "        1 : 1.3,\n",
    "    },\n",
    "\n",
    "    # Training Parameters\n",
    "    'learning_rate' : 0.01,\n",
    "    'n_estimators': N_ESTIMATORS,\n",
    "#     'first_metric_only' : True,\n",
    "}\n",
    "# model = lgb.LGBMClassifier(**hyper_params)\n",
    "model = lgb.LGBMClassifier()\n",
    "model.set_params(**hyper_params)"
   ]
  },
  {
   "cell_type": "code",
   "execution_count": 15,
   "metadata": {},
   "outputs": [
    {
     "name": "stdout",
     "output_type": "stream",
     "text": [
      "Training until validation scores don't improve for 50 rounds\n",
      "[50]\ttrain's acc.: 0.808973\ttrain's f1: 0.759498\tvalidation's acc.: 0.606936\tvalidation's f1: 0.290075\n",
      "[100]\ttrain's acc.: 0.911722\ttrain's f1: 0.90597\tvalidation's acc.: 0.612717\tvalidation's f1: 0.300802\n",
      "Early stopping, best iteration is:\n",
      "[59]\ttrain's acc.: 0.836469\ttrain's f1: 0.781418\tvalidation's acc.: 0.618497\tvalidation's f1: 0.299156\n"
     ]
    },
    {
     "data": {
      "text/plain": [
       "LGBMClassifier(class_weight={1: 1.3}, colsample_bytree=0.8, learning_rate=0.01,\n",
       "               max_depth=8, metric='None', min_child_samples=5,\n",
       "               n_estimators=500, num_leaves=400, objective='multiclass',\n",
       "               random_state=421, reg_alpha=0, reg_lambda=0, subsample=0.9)"
      ]
     },
     "execution_count": 15,
     "metadata": {},
     "output_type": "execute_result"
    }
   ],
   "source": [
    "fit_params={\n",
    "    \"early_stopping_rounds\": 50, \n",
    "    \"eval_metric\" : [\n",
    "        accuracy,\n",
    "#         'logloss',\n",
    "        f1_macro,\n",
    "#         balanced_accuracy,\n",
    "    ],\n",
    "    \"eval_set\" : [\n",
    "        (X_train, y_train),\n",
    "        (X_test, y_test),\n",
    "    ],\n",
    "    'eval_names': ['train', 'validation'],\n",
    "    'verbose': N_ESTIMATORS // 10,\n",
    "    \n",
    "}\n",
    "model.fit(X_train, y_train, **fit_params)"
   ]
  },
  {
   "cell_type": "code",
   "execution_count": 16,
   "metadata": {},
   "outputs": [
    {
     "data": {
      "image/png": "[encoded data removed]",
      "text/plain": [
       "<Figure size 432x288 with 1 Axes>"
      ]
     },
     "metadata": {
      "needs_background": "light"
     },
     "output_type": "display_data"
    }
   ],
   "source": [
    "lgb.plot_metric(model);"
   ]
  },
  {
   "cell_type": "code",
   "execution_count": 17,
   "metadata": {},
   "outputs": [
    {
     "name": "stdout",
     "output_type": "stream",
     "text": [
      "              precision    recall  f1-score   support\n",
      "\n",
      "           0       0.67      0.88      0.76        73\n",
      "           1       0.45      0.53      0.49        38\n",
      "           2       0.89      0.57      0.70        14\n",
      "           3       0.60      0.50      0.55        12\n",
      "           4       1.00      0.22      0.36         9\n",
      "           5       0.62      0.56      0.59         9\n",
      "           6       1.00      0.14      0.25         7\n",
      "           7       0.00      0.00      0.00         4\n",
      "           8       1.00      0.33      0.50         3\n",
      "           9       0.00      0.00      0.00         2\n",
      "          10       0.00      0.00      0.00         1\n",
      "          11       0.00      0.00      0.00         1\n",
      "          12       0.00      0.00      0.00         0\n",
      "          14       0.00      0.00      0.00         0\n",
      "\n",
      "    accuracy                           0.62       173\n",
      "   macro avg       0.45      0.27      0.30       173\n",
      "weighted avg       0.64      0.62      0.59       173\n",
      "\n"
     ]
    }
   ],
   "source": [
    "y_pred = pd.Series(model.predict(X_test))\n",
    "print(classification_report(y_test, y_pred))"
   ]
  },
  {
   "cell_type": "markdown",
   "metadata": {},
   "source": [
    "# Full model fit"
   ]
  },
  {
   "cell_type": "markdown",
   "metadata": {},
   "source": [
    "## Fit model on full dataset"
   ]
  },
  {
   "cell_type": "code",
   "execution_count": 18,
   "metadata": {
    "scrolled": true
   },
   "outputs": [
    {
     "name": "stdout",
     "output_type": "stream",
     "text": [
      "Training until validation scores don't improve for 100 rounds\n",
      "[15]\ttrain's f1: 0.0778767\ttrain's bal. acc.: 0.0913194\ttrain's acc.: 0.506961\n",
      "[30]\ttrain's f1: 0.298418\ttrain's bal. acc.: 0.238317\ttrain's acc.: 0.642691\n",
      "[45]\ttrain's f1: 0.603419\ttrain's bal. acc.: 0.506496\ttrain's acc.: 0.773782\n",
      "[60]\ttrain's f1: 0.798501\ttrain's bal. acc.: 0.735664\ttrain's acc.: 0.838747\n",
      "[75]\ttrain's f1: 0.822058\ttrain's bal. acc.: 0.770912\ttrain's acc.: 0.865429\n",
      "[90]\ttrain's f1: 0.84444\ttrain's bal. acc.: 0.801606\ttrain's acc.: 0.889791\n",
      "[105]\ttrain's f1: 0.849443\ttrain's bal. acc.: 0.809863\ttrain's acc.: 0.899072\n",
      "[120]\ttrain's f1: 0.85411\ttrain's bal. acc.: 0.817313\ttrain's acc.: 0.906032\n",
      "[135]\ttrain's f1: 0.857392\ttrain's bal. acc.: 0.821672\ttrain's acc.: 0.912993\n",
      "[150]\ttrain's f1: 0.928231\ttrain's bal. acc.: 0.893719\ttrain's acc.: 0.919954\n",
      "Did not meet early stopping. Best iteration is:\n",
      "[148]\ttrain's f1: 0.928231\ttrain's bal. acc.: 0.893719\ttrain's acc.: 0.919954\n"
     ]
    },
    {
     "data": {
      "text/plain": [
       "LGBMClassifier(class_weight={1: 1.3}, colsample_bytree=0.8, learning_rate=0.01,\n",
       "               max_depth=8, metric='None', min_child_samples=5,\n",
       "               n_estimators=150, num_leaves=400, objective='multiclass',\n",
       "               random_state=421, reg_alpha=0, reg_lambda=0, subsample=0.9)"
      ]
     },
     "execution_count": 18,
     "metadata": {},
     "output_type": "execute_result"
    }
   ],
   "source": [
    "hyper_params['n_estimators'] = 150\n",
    "hyper_params['learning_rate'] = 0.01\n",
    "\n",
    "full_model = lgb.LGBMClassifier()\n",
    "full_model.set_params(**hyper_params)\n",
    "full_fit_params={\n",
    "    \"early_stopping_rounds\": 100, \n",
    "    \"eval_metric\" : [\n",
    "        f1_macro,\n",
    "        balanced_accuracy,\n",
    "        accuracy\n",
    "    ],\n",
    "    \"eval_set\" : [(X, y)],\n",
    "    'eval_names': ['train'],\n",
    "    'verbose': hyper_params['n_estimators'] // 10,\n",
    "    \n",
    "}\n",
    "full_model.fit(X, y, **full_fit_params)"
   ]
  },
  {
   "cell_type": "markdown",
   "metadata": {},
   "source": [
    "# Competition Data"
   ]
  },
  {
   "cell_type": "markdown",
   "metadata": {},
   "source": [
    "### Create Submission"
   ]
  },
  {
   "cell_type": "code",
   "execution_count": 19,
   "metadata": {},
   "outputs": [
    {
     "data": {
      "text/plain": [
       "(381, 477)"
      ]
     },
     "execution_count": 19,
     "metadata": {},
     "output_type": "execute_result"
    }
   ],
   "source": [
    "X_kaggle = pd.read_pickle(f\"{data_eng_fpath}X_kaggle.pkl\")\n",
    "X_kaggle.shape"
   ]
  },
  {
   "cell_type": "code",
   "execution_count": 20,
   "metadata": {
    "scrolled": false
   },
   "outputs": [
    {
     "data": {
      "text/html": [
       "<div>\n",
       "<style scoped>\n",
       "    .dataframe tbody tr th:only-of-type {\n",
       "        vertical-align: middle;\n",
       "    }\n",
       "\n",
       "    .dataframe tbody tr th {\n",
       "        vertical-align: top;\n",
       "    }\n",
       "\n",
       "    .dataframe thead th {\n",
       "        text-align: right;\n",
       "    }\n",
       "</style>\n",
       "<table border=\"1\" class=\"dataframe\">\n",
       "  <thead>\n",
       "    <tr style=\"text-align: right;\">\n",
       "      <th></th>\n",
       "      <th>0</th>\n",
       "      <th>1</th>\n",
       "    </tr>\n",
       "  </thead>\n",
       "  <tbody>\n",
       "    <tr>\n",
       "      <th>0</th>\n",
       "      <td>175</td>\n",
       "      <td>0.459318</td>\n",
       "    </tr>\n",
       "    <tr>\n",
       "      <th>1</th>\n",
       "      <td>151</td>\n",
       "      <td>0.396325</td>\n",
       "    </tr>\n",
       "    <tr>\n",
       "      <th>2</th>\n",
       "      <td>8</td>\n",
       "      <td>0.020997</td>\n",
       "    </tr>\n",
       "    <tr>\n",
       "      <th>3</th>\n",
       "      <td>22</td>\n",
       "      <td>0.057743</td>\n",
       "    </tr>\n",
       "    <tr>\n",
       "      <th>4</th>\n",
       "      <td>2</td>\n",
       "      <td>0.005249</td>\n",
       "    </tr>\n",
       "    <tr>\n",
       "      <th>5</th>\n",
       "      <td>13</td>\n",
       "      <td>0.034121</td>\n",
       "    </tr>\n",
       "    <tr>\n",
       "      <th>6</th>\n",
       "      <td>7</td>\n",
       "      <td>0.018373</td>\n",
       "    </tr>\n",
       "    <tr>\n",
       "      <th>7</th>\n",
       "      <td>1</td>\n",
       "      <td>0.002625</td>\n",
       "    </tr>\n",
       "    <tr>\n",
       "      <th>8</th>\n",
       "      <td>2</td>\n",
       "      <td>0.005249</td>\n",
       "    </tr>\n",
       "  </tbody>\n",
       "</table>\n",
       "</div>"
      ],
      "text/plain": [
       "     0         1\n",
       "0  175  0.459318\n",
       "1  151  0.396325\n",
       "2    8  0.020997\n",
       "3   22  0.057743\n",
       "4    2  0.005249\n",
       "5   13  0.034121\n",
       "6    7  0.018373\n",
       "7    1  0.002625\n",
       "8    2  0.005249"
      ]
     },
     "execution_count": 20,
     "metadata": {},
     "output_type": "execute_result"
    }
   ],
   "source": [
    "y_kaggle = pd.Series(full_model.predict(X_kaggle[important_feats]))\n",
    "pd.concat((y_kaggle.value_counts().sort_index(), y_kaggle.value_counts().sort_index() / len(y_kaggle)), axis=1)"
   ]
  },
  {
   "cell_type": "code",
   "execution_count": 21,
   "metadata": {
    "scrolled": false
   },
   "outputs": [
    {
     "data": {
      "text/html": [
       "<div>\n",
       "<style scoped>\n",
       "    .dataframe tbody tr th:only-of-type {\n",
       "        vertical-align: middle;\n",
       "    }\n",
       "\n",
       "    .dataframe tbody tr th {\n",
       "        vertical-align: top;\n",
       "    }\n",
       "\n",
       "    .dataframe thead th {\n",
       "        text-align: right;\n",
       "    }\n",
       "</style>\n",
       "<table border=\"1\" class=\"dataframe\">\n",
       "  <thead>\n",
       "    <tr style=\"text-align: right;\">\n",
       "      <th></th>\n",
       "      <th>2960</th>\n",
       "      <th>2960</th>\n",
       "    </tr>\n",
       "  </thead>\n",
       "  <tbody>\n",
       "    <tr>\n",
       "      <th>0</th>\n",
       "      <td>366</td>\n",
       "      <td>0.424594</td>\n",
       "    </tr>\n",
       "    <tr>\n",
       "      <th>1</th>\n",
       "      <td>192</td>\n",
       "      <td>0.222738</td>\n",
       "    </tr>\n",
       "    <tr>\n",
       "      <th>2</th>\n",
       "      <td>69</td>\n",
       "      <td>0.080046</td>\n",
       "    </tr>\n",
       "    <tr>\n",
       "      <th>3</th>\n",
       "      <td>58</td>\n",
       "      <td>0.067285</td>\n",
       "    </tr>\n",
       "    <tr>\n",
       "      <th>4</th>\n",
       "      <td>43</td>\n",
       "      <td>0.049884</td>\n",
       "    </tr>\n",
       "    <tr>\n",
       "      <th>5</th>\n",
       "      <td>43</td>\n",
       "      <td>0.049884</td>\n",
       "    </tr>\n",
       "    <tr>\n",
       "      <th>6</th>\n",
       "      <td>35</td>\n",
       "      <td>0.040603</td>\n",
       "    </tr>\n",
       "    <tr>\n",
       "      <th>7</th>\n",
       "      <td>18</td>\n",
       "      <td>0.020882</td>\n",
       "    </tr>\n",
       "    <tr>\n",
       "      <th>8</th>\n",
       "      <td>17</td>\n",
       "      <td>0.019722</td>\n",
       "    </tr>\n",
       "    <tr>\n",
       "      <th>9</th>\n",
       "      <td>10</td>\n",
       "      <td>0.011601</td>\n",
       "    </tr>\n",
       "    <tr>\n",
       "      <th>10</th>\n",
       "      <td>4</td>\n",
       "      <td>0.004640</td>\n",
       "    </tr>\n",
       "    <tr>\n",
       "      <th>11</th>\n",
       "      <td>3</td>\n",
       "      <td>0.003480</td>\n",
       "    </tr>\n",
       "    <tr>\n",
       "      <th>12</th>\n",
       "      <td>2</td>\n",
       "      <td>0.002320</td>\n",
       "    </tr>\n",
       "    <tr>\n",
       "      <th>13</th>\n",
       "      <td>1</td>\n",
       "      <td>0.001160</td>\n",
       "    </tr>\n",
       "    <tr>\n",
       "      <th>14</th>\n",
       "      <td>1</td>\n",
       "      <td>0.001160</td>\n",
       "    </tr>\n",
       "  </tbody>\n",
       "</table>\n",
       "</div>"
      ],
      "text/plain": [
       "    2960      2960\n",
       "0    366  0.424594\n",
       "1    192  0.222738\n",
       "2     69  0.080046\n",
       "3     58  0.067285\n",
       "4     43  0.049884\n",
       "5     43  0.049884\n",
       "6     35  0.040603\n",
       "7     18  0.020882\n",
       "8     17  0.019722\n",
       "9     10  0.011601\n",
       "10     4  0.004640\n",
       "11     3  0.003480\n",
       "12     2  0.002320\n",
       "13     1  0.001160\n",
       "14     1  0.001160"
      ]
     },
     "execution_count": 21,
     "metadata": {},
     "output_type": "execute_result"
    }
   ],
   "source": [
    "# Compare with class distribution of training set\n",
    "pd.concat((y.value_counts().sort_index(), y.value_counts().sort_index() / len(y)), axis=1)"
   ]
  },
  {
   "cell_type": "code",
   "execution_count": 22,
   "metadata": {
    "scrolled": true
   },
   "outputs": [
    {
     "data": {
      "text/html": [
       "<div>\n",
       "<style scoped>\n",
       "    .dataframe tbody tr th:only-of-type {\n",
       "        vertical-align: middle;\n",
       "    }\n",
       "\n",
       "    .dataframe tbody tr th {\n",
       "        vertical-align: top;\n",
       "    }\n",
       "\n",
       "    .dataframe thead th {\n",
       "        text-align: right;\n",
       "    }\n",
       "</style>\n",
       "<table border=\"1\" class=\"dataframe\">\n",
       "  <thead>\n",
       "    <tr style=\"text-align: right;\">\n",
       "      <th></th>\n",
       "      <th>Key</th>\n",
       "      <th>Label</th>\n",
       "    </tr>\n",
       "  </thead>\n",
       "  <tbody>\n",
       "    <tr>\n",
       "      <th>0</th>\n",
       "      <td>P234062</td>\n",
       "      <td>2</td>\n",
       "    </tr>\n",
       "    <tr>\n",
       "      <th>1</th>\n",
       "      <td>P234081</td>\n",
       "      <td>0</td>\n",
       "    </tr>\n",
       "    <tr>\n",
       "      <th>2</th>\n",
       "      <td>P234086</td>\n",
       "      <td>1</td>\n",
       "    </tr>\n",
       "    <tr>\n",
       "      <th>3</th>\n",
       "      <td>P234087</td>\n",
       "      <td>0</td>\n",
       "    </tr>\n",
       "    <tr>\n",
       "      <th>4</th>\n",
       "      <td>P234094</td>\n",
       "      <td>0</td>\n",
       "    </tr>\n",
       "  </tbody>\n",
       "</table>\n",
       "</div>"
      ],
      "text/plain": [
       "       Key  Label\n",
       "0  P234062      2\n",
       "1  P234081      0\n",
       "2  P234086      1\n",
       "3  P234087      0\n",
       "4  P234094      0"
      ]
     },
     "execution_count": 22,
     "metadata": {},
     "output_type": "execute_result"
    }
   ],
   "source": [
    "# Now create the kaggle submission file\n",
    "submission = pd.concat((testdf[0], y_kaggle), axis=1)\n",
    "submission.columns = ['Key', 'Label']\n",
    "submission = submission.sort_values('Key').reset_index(drop=True)\n",
    "submission.head()"
   ]
  },
  {
   "cell_type": "code",
   "execution_count": 23,
   "metadata": {},
   "outputs": [],
   "source": [
    "assert set(submission['Key']) == set(testdf[0])"
   ]
  },
  {
   "cell_type": "code",
   "execution_count": 24,
   "metadata": {},
   "outputs": [
    {
     "data": {
      "text/plain": [
       "'submission-2021_04_01-22.49.csv'"
      ]
     },
     "execution_count": 24,
     "metadata": {},
     "output_type": "execute_result"
    }
   ],
   "source": [
    "timestamp = datetime.today().strftime('%Y_%m_%d-%H.%M')\n",
    "submission_fname = f\"submission-{timestamp}.csv\"\n",
    "submission.to_csv(submission_fname, index=False, header=True)\n",
    "submission_fname"
   ]
  },
  {
   "cell_type": "code",
   "execution_count": 25,
   "metadata": {},
   "outputs": [],
   "source": [
    "# Save model\n",
    "pickle.dump(full_model, open(f\"{model_fpath}lightgbm.pkl\", 'wb'))"
   ]
  },
  {
   "cell_type": "code",
   "execution_count": 26,
   "metadata": {},
   "outputs": [
    {
     "data": {
      "image/png": "[encoded data removed]",
      "text/plain": [
       "<Figure size 1440x1440 with 1 Axes>"
      ]
     },
     "metadata": {
      "needs_background": "light"
     },
     "output_type": "display_data"
    }
   ],
   "source": [
    "lgb.plot_importance(full_model, figsize=(20, 20), max_num_features=30);"
   ]
  }
 ],
 "metadata": {
  "kernelspec": {
   "display_name": "Python 3",
   "language": "python",
   "name": "python3"
  },
  "language_info": {
   "codemirror_mode": {
    "name": "ipython",
    "version": 3
   },
   "file_extension": ".py",
   "mimetype": "text/x-python",
   "name": "python",
   "nbconvert_exporter": "python",
   "pygments_lexer": "ipython3",
   "version": "3.8.3"
  }
 },
 "nbformat": 4,
 "nbformat_minor": 4
}
