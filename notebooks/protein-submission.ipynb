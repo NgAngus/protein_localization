{
 "cells": [
  {
   "cell_type": "markdown",
   "metadata": {},
   "source": [
    "The only purpose of this notebook is to generate a submission."
   ]
  },
  {
   "cell_type": "code",
   "execution_count": 1,
   "metadata": {
    "scrolled": false
   },
   "outputs": [],
   "source": [
    "LOCAL = True\n",
    "data_fpath = '../data/raw/' if LOCAL else '/kaggle/input/protein-localization/'\n",
    "data_eng_fpath = '../data/intermediate/' if LOCAL else ''"
   ]
  },
  {
   "cell_type": "code",
   "execution_count": 2,
   "metadata": {},
   "outputs": [],
   "source": [
    "%load_ext autoreload\n",
    "%autoreload 2\n",
    "\n",
    "import warnings\n",
    "warnings.filterwarnings('ignore')\n",
    "\n",
    "import data_tools"
   ]
  },
  {
   "cell_type": "code",
   "execution_count": 3,
   "metadata": {},
   "outputs": [],
   "source": [
    "from datetime import datetime\n",
    "import pickle\n",
    "\n",
    "import lightgbm as lgb\n",
    "import pandas as pd\n",
    "import numpy as np\n",
    "\n",
    "SEED = 42"
   ]
  },
  {
   "cell_type": "code",
   "execution_count": 4,
   "metadata": {},
   "outputs": [],
   "source": [
    "from sklearn.metrics import classification_report\n",
    "from sklearn.model_selection import KFold, StratifiedKFold, GridSearchCV,train_test_split\n",
    "from sklearn.metrics import accuracy_score, balanced_accuracy_score, f1_score\n",
    "\n",
    "\n",
    "from imblearn.over_sampling import RandomOverSampler"
   ]
  },
  {
   "cell_type": "code",
   "execution_count": 5,
   "metadata": {},
   "outputs": [],
   "source": [
    "from imblearn.over_sampling import RandomOverSampler"
   ]
  },
  {
   "cell_type": "code",
   "execution_count": 6,
   "metadata": {},
   "outputs": [],
   "source": [
    "# Use the accuracy metric\n",
    "def accuracy(y_true, y_pred):\n",
    "    preds = y_pred.reshape(15, -1)\n",
    "    preds = preds.argmax(axis = 0)\n",
    "    return 'acc.', accuracy_score(y_true, preds), True\n",
    "\n",
    "def balanced_accuracy(y_true, y_pred):\n",
    "    preds = y_pred.reshape(15, -1)\n",
    "    preds = preds.argmax(axis = 0)\n",
    "    return 'bal. acc.', balanced_accuracy_score(y_true, preds), True\n",
    "\n",
    "def f1_weighted(y_true, y_pred):\n",
    "    preds = y_pred.reshape(15, -1)\n",
    "    preds = preds.argmax(axis = 0)\n",
    "    return 'f1', f1_score(y_true, preds, average='weighted'), True\n",
    "\n",
    "def f1_macro(y_true, y_pred):\n",
    "    preds = y_pred.reshape(15, -1)\n",
    "    preds = preds.argmax(axis = 0)\n",
    "    return 'f1', f1_score(y_true, preds, average='macro'), True"
   ]
  },
  {
   "cell_type": "markdown",
   "metadata": {},
   "source": [
    "## Load Training DataFrame"
   ]
  },
  {
   "cell_type": "code",
   "execution_count": 7,
   "metadata": {
    "scrolled": false
   },
   "outputs": [
    {
     "data": {
      "text/plain": [
       "((862, 470), (862,))"
      ]
     },
     "execution_count": 7,
     "metadata": {},
     "output_type": "execute_result"
    }
   ],
   "source": [
    "X = pd.read_pickle(f\"{data_eng_fpath}X.pkl\")\n",
    "y = pd.read_pickle(f\"{data_eng_fpath}y.pkl\")\n",
    "X.shape, y.shape"
   ]
  },
  {
   "cell_type": "code",
   "execution_count": 8,
   "metadata": {},
   "outputs": [
    {
     "data": {
      "text/html": [
       "<div>\n",
       "<style scoped>\n",
       "    .dataframe tbody tr th:only-of-type {\n",
       "        vertical-align: middle;\n",
       "    }\n",
       "\n",
       "    .dataframe tbody tr th {\n",
       "        vertical-align: top;\n",
       "    }\n",
       "\n",
       "    .dataframe thead th {\n",
       "        text-align: right;\n",
       "    }\n",
       "</style>\n",
       "<table border=\"1\" class=\"dataframe\">\n",
       "  <thead>\n",
       "    <tr style=\"text-align: right;\">\n",
       "      <th></th>\n",
       "      <th>1</th>\n",
       "      <th>2</th>\n",
       "      <th>3</th>\n",
       "      <th>4</th>\n",
       "      <th>5</th>\n",
       "      <th>6</th>\n",
       "      <th>7</th>\n",
       "      <th>8</th>\n",
       "      <th>9</th>\n",
       "      <th>10</th>\n",
       "      <th>...</th>\n",
       "      <th>interaction_mean</th>\n",
       "      <th>ppi_genetic_physical_ratio</th>\n",
       "      <th>interaction_max</th>\n",
       "      <th>ppi_physical_count</th>\n",
       "      <th>interaction_counts</th>\n",
       "      <th>interaction_pos</th>\n",
       "      <th>interaction_neg</th>\n",
       "      <th>ppi_genetic_count</th>\n",
       "      <th>interaction_min</th>\n",
       "      <th>ppi_dom_type</th>\n",
       "    </tr>\n",
       "  </thead>\n",
       "  <tbody>\n",
       "    <tr>\n",
       "      <th>0</th>\n",
       "      <td>Non-Essential</td>\n",
       "      <td>No</td>\n",
       "      <td>No</td>\n",
       "      <td>No</td>\n",
       "      <td>No</td>\n",
       "      <td>No</td>\n",
       "      <td>No</td>\n",
       "      <td>No</td>\n",
       "      <td>No</td>\n",
       "      <td>No</td>\n",
       "      <td>...</td>\n",
       "      <td>0.000000</td>\n",
       "      <td>0.000000</td>\n",
       "      <td>0.000000</td>\n",
       "      <td>0</td>\n",
       "      <td>0</td>\n",
       "      <td>0</td>\n",
       "      <td>0</td>\n",
       "      <td>0</td>\n",
       "      <td>0.000000</td>\n",
       "      <td>ppi_genetic_count</td>\n",
       "    </tr>\n",
       "    <tr>\n",
       "      <th>1</th>\n",
       "      <td>Non-Essential</td>\n",
       "      <td>No</td>\n",
       "      <td>No</td>\n",
       "      <td>No</td>\n",
       "      <td>No</td>\n",
       "      <td>No</td>\n",
       "      <td>No</td>\n",
       "      <td>No</td>\n",
       "      <td>No</td>\n",
       "      <td>No</td>\n",
       "      <td>...</td>\n",
       "      <td>0.000000</td>\n",
       "      <td>0.000000</td>\n",
       "      <td>0.000000</td>\n",
       "      <td>0</td>\n",
       "      <td>0</td>\n",
       "      <td>0</td>\n",
       "      <td>0</td>\n",
       "      <td>0</td>\n",
       "      <td>0.000000</td>\n",
       "      <td>ppi_genetic_count</td>\n",
       "    </tr>\n",
       "    <tr>\n",
       "      <th>2</th>\n",
       "      <td>Non-Essential</td>\n",
       "      <td>No</td>\n",
       "      <td>No</td>\n",
       "      <td>No</td>\n",
       "      <td>Yes</td>\n",
       "      <td>No</td>\n",
       "      <td>No</td>\n",
       "      <td>No</td>\n",
       "      <td>No</td>\n",
       "      <td>No</td>\n",
       "      <td>...</td>\n",
       "      <td>0.000000</td>\n",
       "      <td>0.000000</td>\n",
       "      <td>0.000000</td>\n",
       "      <td>0</td>\n",
       "      <td>0</td>\n",
       "      <td>0</td>\n",
       "      <td>0</td>\n",
       "      <td>0</td>\n",
       "      <td>0.000000</td>\n",
       "      <td>ppi_genetic_count</td>\n",
       "    </tr>\n",
       "    <tr>\n",
       "      <th>3</th>\n",
       "      <td>Non-Essential</td>\n",
       "      <td>No</td>\n",
       "      <td>No</td>\n",
       "      <td>No</td>\n",
       "      <td>No</td>\n",
       "      <td>No</td>\n",
       "      <td>No</td>\n",
       "      <td>No</td>\n",
       "      <td>No</td>\n",
       "      <td>No</td>\n",
       "      <td>...</td>\n",
       "      <td>0.000676</td>\n",
       "      <td>0.000000</td>\n",
       "      <td>0.646193</td>\n",
       "      <td>2</td>\n",
       "      <td>2</td>\n",
       "      <td>1</td>\n",
       "      <td>1</td>\n",
       "      <td>0</td>\n",
       "      <td>-0.063563</td>\n",
       "      <td>ppi_physical_count</td>\n",
       "    </tr>\n",
       "    <tr>\n",
       "      <th>4</th>\n",
       "      <td>Essential</td>\n",
       "      <td>No</td>\n",
       "      <td>No</td>\n",
       "      <td>No</td>\n",
       "      <td>No</td>\n",
       "      <td>No</td>\n",
       "      <td>No</td>\n",
       "      <td>No</td>\n",
       "      <td>No</td>\n",
       "      <td>No</td>\n",
       "      <td>...</td>\n",
       "      <td>0.001453</td>\n",
       "      <td>0.333333</td>\n",
       "      <td>0.723051</td>\n",
       "      <td>5</td>\n",
       "      <td>7</td>\n",
       "      <td>4</td>\n",
       "      <td>3</td>\n",
       "      <td>2</td>\n",
       "      <td>-0.483302</td>\n",
       "      <td>ppi_physical_count</td>\n",
       "    </tr>\n",
       "  </tbody>\n",
       "</table>\n",
       "<p>5 rows × 470 columns</p>\n",
       "</div>"
      ],
      "text/plain": [
       "               1   2   3   4    5   6   7   8   9  10  ... interaction_mean  \\\n",
       "0  Non-Essential  No  No  No   No  No  No  No  No  No  ...         0.000000   \n",
       "1  Non-Essential  No  No  No   No  No  No  No  No  No  ...         0.000000   \n",
       "2  Non-Essential  No  No  No  Yes  No  No  No  No  No  ...         0.000000   \n",
       "3  Non-Essential  No  No  No   No  No  No  No  No  No  ...         0.000676   \n",
       "4      Essential  No  No  No   No  No  No  No  No  No  ...         0.001453   \n",
       "\n",
       "  ppi_genetic_physical_ratio interaction_max ppi_physical_count  \\\n",
       "0                   0.000000        0.000000                  0   \n",
       "1                   0.000000        0.000000                  0   \n",
       "2                   0.000000        0.000000                  0   \n",
       "3                   0.000000        0.646193                  2   \n",
       "4                   0.333333        0.723051                  5   \n",
       "\n",
       "  interaction_counts interaction_pos interaction_neg ppi_genetic_count  \\\n",
       "0                  0               0               0                 0   \n",
       "1                  0               0               0                 0   \n",
       "2                  0               0               0                 0   \n",
       "3                  2               1               1                 0   \n",
       "4                  7               4               3                 2   \n",
       "\n",
       "  interaction_min        ppi_dom_type  \n",
       "0        0.000000   ppi_genetic_count  \n",
       "1        0.000000   ppi_genetic_count  \n",
       "2        0.000000   ppi_genetic_count  \n",
       "3       -0.063563  ppi_physical_count  \n",
       "4       -0.483302  ppi_physical_count  \n",
       "\n",
       "[5 rows x 470 columns]"
      ]
     },
     "execution_count": 8,
     "metadata": {},
     "output_type": "execute_result"
    }
   ],
   "source": [
    "X.head()"
   ]
  },
  {
   "cell_type": "markdown",
   "metadata": {},
   "source": [
    "## Load Competition Data\n",
    "* Note that data engineering pipeline drops labels, so we'll need thos"
   ]
  },
  {
   "cell_type": "code",
   "execution_count": 9,
   "metadata": {},
   "outputs": [],
   "source": [
    "testdf = pd.read_csv(f\"{data_fpath}test.csv\", header=None)"
   ]
  },
  {
   "cell_type": "code",
   "execution_count": 10,
   "metadata": {},
   "outputs": [
    {
     "data": {
      "text/plain": [
       "(381, 470)"
      ]
     },
     "execution_count": 10,
     "metadata": {},
     "output_type": "execute_result"
    }
   ],
   "source": [
    "X_kaggle = pd.read_pickle(f\"{data_eng_fpath}X_kaggle.pkl\")\n",
    "X_kaggle.shape"
   ]
  },
  {
   "cell_type": "markdown",
   "metadata": {},
   "source": [
    "## Split Data"
   ]
  },
  {
   "cell_type": "code",
   "execution_count": 11,
   "metadata": {},
   "outputs": [],
   "source": [
    "ros = RandomOverSampler(sampling_strategy={i : 3 for i in range(12, 15)}, random_state=SEED)\n",
    "X_resampled, y_resampled = ros.fit_resample(X, y)"
   ]
  },
  {
   "cell_type": "code",
   "execution_count": 12,
   "metadata": {},
   "outputs": [
    {
     "data": {
      "text/plain": [
       "((606, 470), (261, 470))"
      ]
     },
     "execution_count": 12,
     "metadata": {},
     "output_type": "execute_result"
    }
   ],
   "source": [
    "X_train, X_test, y_train, y_test = train_test_split(\n",
    "    X_resampled, y_resampled, test_size=0.3, stratify=y_resampled, random_state=SEED)\n",
    "\n",
    "# X_train, X_val, y_train, y_val = train_test_split(\n",
    "#     X_train, y_train, test_size=0.2, stratify=y_train, random_state=SEED)\n",
    "# X_train.shape, X_val.shape, X_test.shape\n",
    "X_train.shape, X_test.shape"
   ]
  },
  {
   "cell_type": "markdown",
   "metadata": {},
   "source": [
    "### LightGBM"
   ]
  },
  {
   "cell_type": "code",
   "execution_count": 13,
   "metadata": {},
   "outputs": [
    {
     "data": {
      "text/plain": [
       "LGBMClassifier(colsample_bytree=0.7, first_metric_only=True,\n",
       "               learning_rate=0.005, max_depth=6, metric='None',\n",
       "               min_child_samples=2, n_estimators=500, num_leaves=70,\n",
       "               objective='multiclass', random_state=42, reg_alpha=0,\n",
       "               reg_lambda=0.1, subsample=0.8)"
      ]
     },
     "execution_count": 13,
     "metadata": {},
     "output_type": "execute_result"
    }
   ],
   "source": [
    "N_ESTIMATORS = 500  # default is 100\n",
    "hyper_params = {\n",
    "    'boosting_type': 'gbdt',\n",
    "    'random_state' : SEED,\n",
    "    'objective' : 'multiclass',\n",
    "#     'zero_as_missing' : True,\n",
    "    'metric' : 'None',\n",
    "\n",
    "    'reg_alpha': 0,\n",
    "    'reg_lambda' : 0.1,\n",
    "    'num_leaves': 70,\n",
    "    'max_depth' : 6,\n",
    "    'colsample_bytree' : 0.7,\n",
    "    'subsample' : 0.8,\n",
    "    'min_child_samples': 2,\n",
    "\n",
    "    # Training Parameters\n",
    "    'learning_rate' : 0.005,\n",
    "    'n_estimators': N_ESTIMATORS,\n",
    "    'first_metric_only' : True,\n",
    "}\n",
    "# model = lgb.LGBMClassifier(**hyper_params)\n",
    "model = lgb.LGBMClassifier()\n",
    "model.set_params(**hyper_params)"
   ]
  },
  {
   "cell_type": "code",
   "execution_count": 14,
   "metadata": {},
   "outputs": [
    {
     "name": "stdout",
     "output_type": "stream",
     "text": [
      "Training until validation scores don't improve for 200 rounds\n",
      "[50]\ttrain's acc.: 0.4967\ttrain's f1: 0.0752984\tvalidation's acc.: 0.478927\tvalidation's f1: 0.0685958\n",
      "[100]\ttrain's acc.: 0.714521\ttrain's f1: 0.454039\tvalidation's acc.: 0.601533\tvalidation's f1: 0.227715\n",
      "[150]\ttrain's acc.: 0.816832\ttrain's f1: 0.737309\tvalidation's acc.: 0.639847\tvalidation's f1: 0.381149\n",
      "[200]\ttrain's acc.: 0.874587\ttrain's f1: 0.904687\tvalidation's acc.: 0.64751\tvalidation's f1: 0.449089\n",
      "[250]\ttrain's acc.: 0.894389\ttrain's f1: 0.922637\tvalidation's acc.: 0.662835\tvalidation's f1: 0.491476\n",
      "[300]\ttrain's acc.: 0.910891\ttrain's f1: 0.933744\tvalidation's acc.: 0.659004\tvalidation's f1: 0.48609\n",
      "[350]\ttrain's acc.: 0.927393\ttrain's f1: 0.944805\tvalidation's acc.: 0.659004\tvalidation's f1: 0.485498\n",
      "[400]\ttrain's acc.: 0.932343\ttrain's f1: 0.946869\tvalidation's acc.: 0.662835\tvalidation's f1: 0.486862\n",
      "[450]\ttrain's acc.: 0.945545\ttrain's f1: 0.970065\tvalidation's acc.: 0.662835\tvalidation's f1: 0.479771\n",
      "[500]\ttrain's acc.: 0.957096\ttrain's f1: 0.975544\tvalidation's acc.: 0.659004\tvalidation's f1: 0.476024\n",
      "Did not meet early stopping. Best iteration is:\n",
      "[490]\ttrain's acc.: 0.957096\ttrain's f1: 0.975544\tvalidation's acc.: 0.659004\tvalidation's f1: 0.476024\n",
      "Evaluated only: acc.\n"
     ]
    },
    {
     "data": {
      "text/plain": [
       "LGBMClassifier(colsample_bytree=0.7, first_metric_only=True,\n",
       "               learning_rate=0.005, max_depth=6, metric='None',\n",
       "               min_child_samples=2, n_estimators=500, num_leaves=70,\n",
       "               objective='multiclass', random_state=42, reg_alpha=0,\n",
       "               reg_lambda=0.1, subsample=0.8)"
      ]
     },
     "execution_count": 14,
     "metadata": {},
     "output_type": "execute_result"
    }
   ],
   "source": [
    "fit_params={\n",
    "    \"early_stopping_rounds\": 200, \n",
    "    \"eval_metric\" : [\n",
    "        accuracy,\n",
    "#         'logloss',\n",
    "        f1_macro,\n",
    "#         balanced_accuracy,\n",
    "    ],\n",
    "    \"eval_set\" : [(X_train, y_train), (X_test, y_test)], # [(X_train, y_train), (X_val, y_val)],\n",
    "    'eval_names': ['train', 'validation'],\n",
    "    'verbose': N_ESTIMATORS // 10,\n",
    "    \n",
    "}\n",
    "model.fit(X_train, y_train, **fit_params)"
   ]
  },
  {
   "cell_type": "code",
   "execution_count": 15,
   "metadata": {},
   "outputs": [
    {
     "name": "stdout",
     "output_type": "stream",
     "text": [
      "              precision    recall  f1-score   support\n",
      "\n",
      "           0       0.74      0.90      0.81       110\n",
      "           1       0.50      0.52      0.51        58\n",
      "           2       0.74      0.67      0.70        21\n",
      "           3       0.67      0.59      0.62        17\n",
      "           4       0.20      0.08      0.11        13\n",
      "           5       0.60      0.69      0.64        13\n",
      "           6       0.50      0.18      0.27        11\n",
      "           7       0.67      0.40      0.50         5\n",
      "           8       1.00      0.40      0.57         5\n",
      "           9       0.50      0.33      0.40         3\n",
      "          10       0.00      0.00      0.00         1\n",
      "          11       0.00      0.00      0.00         1\n",
      "          12       0.00      0.00      0.00         1\n",
      "          13       1.00      1.00      1.00         1\n",
      "          14       1.00      1.00      1.00         1\n",
      "\n",
      "    accuracy                           0.66       261\n",
      "   macro avg       0.54      0.45      0.48       261\n",
      "weighted avg       0.63      0.66      0.64       261\n",
      "\n"
     ]
    }
   ],
   "source": [
    "y_pred = pd.Series(model.predict(X_test))\n",
    "print(classification_report(y_test, y_pred))"
   ]
  },
  {
   "cell_type": "code",
   "execution_count": 16,
   "metadata": {},
   "outputs": [
    {
     "data": {
      "text/plain": [
       "0     133\n",
       "1      60\n",
       "2      19\n",
       "3      15\n",
       "5      15\n",
       "4       5\n",
       "6       4\n",
       "7       3\n",
       "8       2\n",
       "9       2\n",
       "10      1\n",
       "13      1\n",
       "14      1\n",
       "dtype: int64"
      ]
     },
     "execution_count": 16,
     "metadata": {},
     "output_type": "execute_result"
    }
   ],
   "source": [
    "y_pred.value_counts()"
   ]
  },
  {
   "cell_type": "markdown",
   "metadata": {},
   "source": [
    "# Full model fit"
   ]
  },
  {
   "cell_type": "code",
   "execution_count": 17,
   "metadata": {
    "scrolled": false
   },
   "outputs": [
    {
     "name": "stdout",
     "output_type": "stream",
     "text": [
      "Training until validation scores don't improve for 10 rounds\n",
      "[40]\ttrain's f1: 0.0645741\ttrain's bal. acc.: 0.0809028\ttrain's acc.: 0.472158\n",
      "[80]\ttrain's f1: 0.288874\ttrain's bal. acc.: 0.227738\ttrain's acc.: 0.617169\n",
      "[120]\ttrain's f1: 0.535815\ttrain's bal. acc.: 0.46362\ttrain's acc.: 0.743619\n",
      "[160]\ttrain's f1: 0.618496\ttrain's bal. acc.: 0.547345\ttrain's acc.: 0.808585\n",
      "[200]\ttrain's f1: 0.756792\ttrain's bal. acc.: 0.704661\ttrain's acc.: 0.849188\n",
      "[240]\ttrain's f1: 0.835288\ttrain's bal. acc.: 0.790244\ttrain's acc.: 0.865429\n",
      "[280]\ttrain's f1: 0.846966\ttrain's bal. acc.: 0.806834\ttrain's acc.: 0.883991\n",
      "[320]\ttrain's f1: 0.919946\ttrain's bal. acc.: 0.88214\ttrain's acc.: 0.896752\n",
      "[360]\ttrain's f1: 0.901308\ttrain's bal. acc.: 0.887142\ttrain's acc.: 0.904872\n",
      "[400]\ttrain's f1: 0.914567\ttrain's bal. acc.: 0.909154\ttrain's acc.: 0.911833\n",
      "Did not meet early stopping. Best iteration is:\n",
      "[329]\ttrain's f1: 0.920228\ttrain's bal. acc.: 0.882487\ttrain's acc.: 0.897912\n",
      "Evaluated only: f1\n"
     ]
    },
    {
     "data": {
      "text/plain": [
       "LGBMClassifier(colsample_bytree=0.7, first_metric_only=True,\n",
       "               learning_rate=0.005, max_depth=6, metric='None',\n",
       "               min_child_samples=2, n_estimators=400, num_leaves=70,\n",
       "               objective='multiclass', random_state=42, reg_alpha=0,\n",
       "               reg_lambda=0.1, subsample=0.8)"
      ]
     },
     "execution_count": 17,
     "metadata": {},
     "output_type": "execute_result"
    }
   ],
   "source": [
    "hyper_params['n_estimators'] = 400\n",
    "hyper_params['learning_rate'] = 0.005\n",
    "\n",
    "full_model = lgb.LGBMClassifier()\n",
    "full_model.set_params(**hyper_params)\n",
    "full_fit_params={\n",
    "    \"early_stopping_rounds\": 10, \n",
    "    \"eval_metric\" : [\n",
    "        f1_macro,\n",
    "        balanced_accuracy,\n",
    "        accuracy\n",
    "    ],\n",
    "    \"eval_set\" : [(X, y)],\n",
    "    'eval_names': ['train'],\n",
    "    'verbose': hyper_params['n_estimators'] // 10,\n",
    "    \n",
    "}\n",
    "full_model.fit(X, y, **full_fit_params)"
   ]
  },
  {
   "cell_type": "code",
   "execution_count": 18,
   "metadata": {},
   "outputs": [
    {
     "data": {
      "image/png": "[encoded data removed]",
      "text/plain": [
       "<Figure size 720x1440 with 1 Axes>"
      ]
     },
     "metadata": {
      "needs_background": "light"
     },
     "output_type": "display_data"
    }
   ],
   "source": [
    "lgb.plot_importance(full_model, figsize=(10, 20), max_num_features=20);"
   ]
  },
  {
   "cell_type": "code",
   "execution_count": 19,
   "metadata": {},
   "outputs": [],
   "source": [
    "important_feats = np.array(full_model.feature_name_)[full_model.feature_importances_ > 0]\n",
    "def RepresentsInt(s):\n",
    "    try: \n",
    "        int(s)\n",
    "        return True\n",
    "    except ValueError:\n",
    "        return False\n",
    "important_feats = [int(feat) if RepresentsInt(feat) else feat for feat in important_feats]"
   ]
  },
  {
   "cell_type": "markdown",
   "metadata": {},
   "source": [
    "## Reduced Feature Set"
   ]
  },
  {
   "cell_type": "code",
   "execution_count": 20,
   "metadata": {},
   "outputs": [
    {
     "data": {
      "text/plain": [
       "((862, 137), (381, 137))"
      ]
     },
     "execution_count": 20,
     "metadata": {},
     "output_type": "execute_result"
    }
   ],
   "source": [
    "X_reduced = X[important_feats]\n",
    "X_kaggle_reduced = X_kaggle[important_feats]\n",
    "X_reduced.shape, X_kaggle_reduced.shape"
   ]
  },
  {
   "cell_type": "code",
   "execution_count": 21,
   "metadata": {},
   "outputs": [
    {
     "name": "stdout",
     "output_type": "stream",
     "text": [
      "Training until validation scores don't improve for 10 rounds\n",
      "[40]\ttrain's f1: 0.0630374\ttrain's bal. acc.: 0.0798611\ttrain's acc.: 0.468677\n",
      "[80]\ttrain's f1: 0.269156\ttrain's bal. acc.: 0.214054\ttrain's acc.: 0.609049\n",
      "[120]\ttrain's f1: 0.547338\ttrain's bal. acc.: 0.475121\ttrain's acc.: 0.75406\n",
      "[160]\ttrain's f1: 0.618375\ttrain's bal. acc.: 0.54761\ttrain's acc.: 0.807425\n",
      "[200]\ttrain's f1: 0.756559\ttrain's bal. acc.: 0.704479\ttrain's acc.: 0.848028\n",
      "[240]\ttrain's f1: 0.833417\ttrain's bal. acc.: 0.787318\ttrain's acc.: 0.865429\n",
      "[280]\ttrain's f1: 0.84575\ttrain's bal. acc.: 0.805155\ttrain's acc.: 0.88051\n",
      "[320]\ttrain's f1: 0.919713\ttrain's bal. acc.: 0.881958\ttrain's acc.: 0.895592\n",
      "[360]\ttrain's f1: 0.901443\ttrain's bal. acc.: 0.888345\ttrain's acc.: 0.904872\n",
      "[400]\ttrain's f1: 0.914657\ttrain's bal. acc.: 0.910121\ttrain's acc.: 0.912993\n",
      "Did not meet early stopping. Best iteration is:\n",
      "[331]\ttrain's f1: 0.920277\ttrain's bal. acc.: 0.882652\ttrain's acc.: 0.897912\n",
      "Evaluated only: f1\n"
     ]
    },
    {
     "data": {
      "text/plain": [
       "LGBMClassifier(colsample_bytree=0.7, first_metric_only=True,\n",
       "               learning_rate=0.005, max_depth=6, metric='None',\n",
       "               min_child_samples=2, n_estimators=400, num_leaves=70,\n",
       "               objective='multiclass', random_state=42, reg_alpha=0,\n",
       "               reg_lambda=0.1, subsample=0.8)"
      ]
     },
     "execution_count": 21,
     "metadata": {},
     "output_type": "execute_result"
    }
   ],
   "source": [
    "hyper_params['n_estimators'] = 400\n",
    "hyper_params['learning_rate'] = 0.005\n",
    "\n",
    "reduced_model = lgb.LGBMClassifier()\n",
    "reduced_model.set_params(**hyper_params)\n",
    "full_fit_params={\n",
    "    \"early_stopping_rounds\": 10, \n",
    "    \"eval_metric\" : [\n",
    "        f1_macro,\n",
    "        balanced_accuracy,\n",
    "        accuracy\n",
    "    ],\n",
    "    \"eval_set\" : [(X_reduced, y)],\n",
    "    'eval_names': ['train'],\n",
    "    'verbose': hyper_params['n_estimators'] // 10,\n",
    "    \n",
    "}\n",
    "reduced_model.fit(X_reduced, y, **full_fit_params)"
   ]
  },
  {
   "cell_type": "markdown",
   "metadata": {},
   "source": [
    "# Competition Data"
   ]
  },
  {
   "cell_type": "markdown",
   "metadata": {},
   "source": [
    "### Create Submission"
   ]
  },
  {
   "cell_type": "code",
   "execution_count": 22,
   "metadata": {
    "scrolled": true
   },
   "outputs": [
    {
     "data": {
      "text/html": [
       "<div>\n",
       "<style scoped>\n",
       "    .dataframe tbody tr th:only-of-type {\n",
       "        vertical-align: middle;\n",
       "    }\n",
       "\n",
       "    .dataframe tbody tr th {\n",
       "        vertical-align: top;\n",
       "    }\n",
       "\n",
       "    .dataframe thead th {\n",
       "        text-align: right;\n",
       "    }\n",
       "</style>\n",
       "<table border=\"1\" class=\"dataframe\">\n",
       "  <thead>\n",
       "    <tr style=\"text-align: right;\">\n",
       "      <th></th>\n",
       "      <th>0</th>\n",
       "      <th>1</th>\n",
       "    </tr>\n",
       "  </thead>\n",
       "  <tbody>\n",
       "    <tr>\n",
       "      <th>0</th>\n",
       "      <td>201</td>\n",
       "      <td>0.527559</td>\n",
       "    </tr>\n",
       "    <tr>\n",
       "      <th>1</th>\n",
       "      <td>122</td>\n",
       "      <td>0.320210</td>\n",
       "    </tr>\n",
       "    <tr>\n",
       "      <th>2</th>\n",
       "      <td>9</td>\n",
       "      <td>0.023622</td>\n",
       "    </tr>\n",
       "    <tr>\n",
       "      <th>3</th>\n",
       "      <td>24</td>\n",
       "      <td>0.062992</td>\n",
       "    </tr>\n",
       "    <tr>\n",
       "      <th>4</th>\n",
       "      <td>3</td>\n",
       "      <td>0.007874</td>\n",
       "    </tr>\n",
       "    <tr>\n",
       "      <th>5</th>\n",
       "      <td>13</td>\n",
       "      <td>0.034121</td>\n",
       "    </tr>\n",
       "    <tr>\n",
       "      <th>6</th>\n",
       "      <td>5</td>\n",
       "      <td>0.013123</td>\n",
       "    </tr>\n",
       "    <tr>\n",
       "      <th>7</th>\n",
       "      <td>2</td>\n",
       "      <td>0.005249</td>\n",
       "    </tr>\n",
       "    <tr>\n",
       "      <th>8</th>\n",
       "      <td>2</td>\n",
       "      <td>0.005249</td>\n",
       "    </tr>\n",
       "  </tbody>\n",
       "</table>\n",
       "</div>"
      ],
      "text/plain": [
       "     0         1\n",
       "0  201  0.527559\n",
       "1  122  0.320210\n",
       "2    9  0.023622\n",
       "3   24  0.062992\n",
       "4    3  0.007874\n",
       "5   13  0.034121\n",
       "6    5  0.013123\n",
       "7    2  0.005249\n",
       "8    2  0.005249"
      ]
     },
     "execution_count": 22,
     "metadata": {},
     "output_type": "execute_result"
    }
   ],
   "source": [
    "y_kaggle = pd.Series(reduced_model.predict(X_kaggle[important_feats]))\n",
    "pd.concat((y_kaggle.value_counts().sort_index(), y_kaggle.value_counts().sort_index() / len(y_kaggle)), axis=1)"
   ]
  },
  {
   "cell_type": "code",
   "execution_count": 23,
   "metadata": {
    "scrolled": false
   },
   "outputs": [
    {
     "data": {
      "text/html": [
       "<div>\n",
       "<style scoped>\n",
       "    .dataframe tbody tr th:only-of-type {\n",
       "        vertical-align: middle;\n",
       "    }\n",
       "\n",
       "    .dataframe tbody tr th {\n",
       "        vertical-align: top;\n",
       "    }\n",
       "\n",
       "    .dataframe thead th {\n",
       "        text-align: right;\n",
       "    }\n",
       "</style>\n",
       "<table border=\"1\" class=\"dataframe\">\n",
       "  <thead>\n",
       "    <tr style=\"text-align: right;\">\n",
       "      <th></th>\n",
       "      <th>2960</th>\n",
       "      <th>2960</th>\n",
       "    </tr>\n",
       "  </thead>\n",
       "  <tbody>\n",
       "    <tr>\n",
       "      <th>0</th>\n",
       "      <td>366</td>\n",
       "      <td>0.424594</td>\n",
       "    </tr>\n",
       "    <tr>\n",
       "      <th>1</th>\n",
       "      <td>192</td>\n",
       "      <td>0.222738</td>\n",
       "    </tr>\n",
       "    <tr>\n",
       "      <th>2</th>\n",
       "      <td>69</td>\n",
       "      <td>0.080046</td>\n",
       "    </tr>\n",
       "    <tr>\n",
       "      <th>3</th>\n",
       "      <td>58</td>\n",
       "      <td>0.067285</td>\n",
       "    </tr>\n",
       "    <tr>\n",
       "      <th>4</th>\n",
       "      <td>43</td>\n",
       "      <td>0.049884</td>\n",
       "    </tr>\n",
       "    <tr>\n",
       "      <th>5</th>\n",
       "      <td>43</td>\n",
       "      <td>0.049884</td>\n",
       "    </tr>\n",
       "    <tr>\n",
       "      <th>6</th>\n",
       "      <td>35</td>\n",
       "      <td>0.040603</td>\n",
       "    </tr>\n",
       "    <tr>\n",
       "      <th>7</th>\n",
       "      <td>18</td>\n",
       "      <td>0.020882</td>\n",
       "    </tr>\n",
       "    <tr>\n",
       "      <th>8</th>\n",
       "      <td>17</td>\n",
       "      <td>0.019722</td>\n",
       "    </tr>\n",
       "    <tr>\n",
       "      <th>9</th>\n",
       "      <td>10</td>\n",
       "      <td>0.011601</td>\n",
       "    </tr>\n",
       "    <tr>\n",
       "      <th>10</th>\n",
       "      <td>4</td>\n",
       "      <td>0.004640</td>\n",
       "    </tr>\n",
       "    <tr>\n",
       "      <th>11</th>\n",
       "      <td>3</td>\n",
       "      <td>0.003480</td>\n",
       "    </tr>\n",
       "    <tr>\n",
       "      <th>12</th>\n",
       "      <td>2</td>\n",
       "      <td>0.002320</td>\n",
       "    </tr>\n",
       "    <tr>\n",
       "      <th>13</th>\n",
       "      <td>1</td>\n",
       "      <td>0.001160</td>\n",
       "    </tr>\n",
       "    <tr>\n",
       "      <th>14</th>\n",
       "      <td>1</td>\n",
       "      <td>0.001160</td>\n",
       "    </tr>\n",
       "  </tbody>\n",
       "</table>\n",
       "</div>"
      ],
      "text/plain": [
       "    2960      2960\n",
       "0    366  0.424594\n",
       "1    192  0.222738\n",
       "2     69  0.080046\n",
       "3     58  0.067285\n",
       "4     43  0.049884\n",
       "5     43  0.049884\n",
       "6     35  0.040603\n",
       "7     18  0.020882\n",
       "8     17  0.019722\n",
       "9     10  0.011601\n",
       "10     4  0.004640\n",
       "11     3  0.003480\n",
       "12     2  0.002320\n",
       "13     1  0.001160\n",
       "14     1  0.001160"
      ]
     },
     "execution_count": 23,
     "metadata": {},
     "output_type": "execute_result"
    }
   ],
   "source": [
    "# Compare with class distribution of training set\n",
    "pd.concat((y.value_counts().sort_index(), y.value_counts().sort_index() / len(y)), axis=1)"
   ]
  },
  {
   "cell_type": "code",
   "execution_count": 24,
   "metadata": {
    "scrolled": true
   },
   "outputs": [
    {
     "data": {
      "text/html": [
       "<div>\n",
       "<style scoped>\n",
       "    .dataframe tbody tr th:only-of-type {\n",
       "        vertical-align: middle;\n",
       "    }\n",
       "\n",
       "    .dataframe tbody tr th {\n",
       "        vertical-align: top;\n",
       "    }\n",
       "\n",
       "    .dataframe thead th {\n",
       "        text-align: right;\n",
       "    }\n",
       "</style>\n",
       "<table border=\"1\" class=\"dataframe\">\n",
       "  <thead>\n",
       "    <tr style=\"text-align: right;\">\n",
       "      <th></th>\n",
       "      <th>Key</th>\n",
       "      <th>Label</th>\n",
       "    </tr>\n",
       "  </thead>\n",
       "  <tbody>\n",
       "    <tr>\n",
       "      <th>0</th>\n",
       "      <td>P234062</td>\n",
       "      <td>2</td>\n",
       "    </tr>\n",
       "    <tr>\n",
       "      <th>1</th>\n",
       "      <td>P234081</td>\n",
       "      <td>0</td>\n",
       "    </tr>\n",
       "    <tr>\n",
       "      <th>2</th>\n",
       "      <td>P234086</td>\n",
       "      <td>1</td>\n",
       "    </tr>\n",
       "    <tr>\n",
       "      <th>3</th>\n",
       "      <td>P234087</td>\n",
       "      <td>0</td>\n",
       "    </tr>\n",
       "    <tr>\n",
       "      <th>4</th>\n",
       "      <td>P234094</td>\n",
       "      <td>0</td>\n",
       "    </tr>\n",
       "  </tbody>\n",
       "</table>\n",
       "</div>"
      ],
      "text/plain": [
       "       Key  Label\n",
       "0  P234062      2\n",
       "1  P234081      0\n",
       "2  P234086      1\n",
       "3  P234087      0\n",
       "4  P234094      0"
      ]
     },
     "execution_count": 24,
     "metadata": {},
     "output_type": "execute_result"
    }
   ],
   "source": [
    "# Now create the kaggle submission file\n",
    "submission = pd.concat((testdf[0], y_kaggle), axis=1)\n",
    "submission.columns = ['Key', 'Label']\n",
    "submission = submission.sort_values('Key').reset_index(drop=True)\n",
    "submission.head()"
   ]
  },
  {
   "cell_type": "code",
   "execution_count": 25,
   "metadata": {},
   "outputs": [],
   "source": [
    "assert set(submission['Key']) == set(testdf[0])"
   ]
  },
  {
   "cell_type": "code",
   "execution_count": 26,
   "metadata": {},
   "outputs": [
    {
     "data": {
      "text/plain": [
       "'submission-2021_04_01-01.22.csv'"
      ]
     },
     "execution_count": 26,
     "metadata": {},
     "output_type": "execute_result"
    }
   ],
   "source": [
    "timestamp = datetime.today().strftime('%Y_%m_%d-%H.%M')\n",
    "submission_fname = f\"submission-{timestamp}.csv\"\n",
    "submission.to_csv(submission_fname, index=False, header=True)\n",
    "submission_fname"
   ]
  }
 ],
 "metadata": {
  "kernelspec": {
   "display_name": "Python 3",
   "language": "python",
   "name": "python3"
  },
  "language_info": {
   "codemirror_mode": {
    "name": "ipython",
    "version": 3
   },
   "file_extension": ".py",
   "mimetype": "text/x-python",
   "name": "python",
   "nbconvert_exporter": "python",
   "pygments_lexer": "ipython3",
   "version": "3.8.3"
  }
 },
 "nbformat": 4,
 "nbformat_minor": 4
}
